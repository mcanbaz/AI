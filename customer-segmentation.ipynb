{
 "cells": [
  {
   "cell_type": "code",
   "execution_count": 1,
   "id": "37105144",
   "metadata": {
    "_cell_guid": "b1076dfc-b9ad-4769-8c92-a6c4dae69d19",
    "_uuid": "8f2839f25d086af736a60e9eeb907d3b93b6e0e5",
    "execution": {
     "iopub.execute_input": "2022-01-18T16:07:09.572251Z",
     "iopub.status.busy": "2022-01-18T16:07:09.570405Z",
     "iopub.status.idle": "2022-01-18T16:07:09.608040Z",
     "shell.execute_reply": "2022-01-18T16:07:09.608907Z"
    },
    "papermill": {
     "duration": 0.06967,
     "end_time": "2022-01-18T16:07:09.609295",
     "exception": false,
     "start_time": "2022-01-18T16:07:09.539625",
     "status": "completed"
    },
    "tags": []
   },
   "outputs": [
    {
     "name": "stdout",
     "output_type": "stream",
     "text": [
      "/kaggle/input/customer/sample_submission.csv\n",
      "/kaggle/input/customer/Train.csv\n",
      "/kaggle/input/customer/Test.csv\n"
     ]
    }
   ],
   "source": [
    "# This Python 3 environment comes with many helpful analytics libraries installed\n",
    "# It is defined by the kaggle/python Docker image: https://github.com/kaggle/docker-python\n",
    "# For example, here's several helpful packages to load\n",
    "\n",
    "import numpy as np # linear algebra\n",
    "import pandas as pd # data processing, CSV file I/O (e.g. pd.read_csv)\n",
    "\n",
    "# Input data files are available in the read-only \"../input/\" directory\n",
    "# For example, running this (by clicking run or pressing Shift+Enter) will list all files under the input directory\n",
    "\n",
    "import os\n",
    "for dirname, _, filenames in os.walk('/kaggle/input'):\n",
    "    for filename in filenames:\n",
    "        print(os.path.join(dirname, filename))\n",
    "\n",
    "# You can write up to 20GB to the current directory (/kaggle/working/) that gets preserved as output when you create a version using \"Save & Run All\" \n",
    "# You can also write temporary files to /kaggle/temp/, but they won't be saved outside of the current session"
   ]
  },
  {
   "cell_type": "code",
   "execution_count": 2,
   "id": "11cc07f5",
   "metadata": {
    "execution": {
     "iopub.execute_input": "2022-01-18T16:07:09.661264Z",
     "iopub.status.busy": "2022-01-18T16:07:09.660303Z",
     "iopub.status.idle": "2022-01-18T16:07:11.047175Z",
     "shell.execute_reply": "2022-01-18T16:07:11.046187Z",
     "shell.execute_reply.started": "2022-01-18T15:35:47.388483Z"
    },
    "papermill": {
     "duration": 1.412439,
     "end_time": "2022-01-18T16:07:11.047327",
     "exception": false,
     "start_time": "2022-01-18T16:07:09.634888",
     "status": "completed"
    },
    "tags": []
   },
   "outputs": [],
   "source": [
    "import numpy as np\n",
    "from sklearn.cluster import KMeans\n",
    "from sklearn.metrics import silhouette_score\n",
    "import matplotlib.pyplot as plt\n",
    "import pandas as pd\n",
    "import seaborn as sns\n",
    "%matplotlib inline\n",
    "import warnings\n",
    "warnings.filterwarnings(\"ignore\")\n",
    "pd.set_option(\"display.max_columns\",100)\n",
    "pd.set_option(\"display.max_rows\",100)"
   ]
  },
  {
   "cell_type": "code",
   "execution_count": 3,
   "id": "45f55324",
   "metadata": {
    "execution": {
     "iopub.execute_input": "2022-01-18T16:07:11.097280Z",
     "iopub.status.busy": "2022-01-18T16:07:11.096233Z",
     "iopub.status.idle": "2022-01-18T16:07:11.145746Z",
     "shell.execute_reply": "2022-01-18T16:07:11.146240Z",
     "shell.execute_reply.started": "2022-01-18T15:36:12.277272Z"
    },
    "papermill": {
     "duration": 0.07589,
     "end_time": "2022-01-18T16:07:11.146421",
     "exception": false,
     "start_time": "2022-01-18T16:07:11.070531",
     "status": "completed"
    },
    "tags": []
   },
   "outputs": [],
   "source": [
    "df = pd.read_csv('../input/customer/Train.csv')"
   ]
  },
  {
   "cell_type": "code",
   "execution_count": 4,
   "id": "444fc029",
   "metadata": {
    "execution": {
     "iopub.execute_input": "2022-01-18T16:07:11.196452Z",
     "iopub.status.busy": "2022-01-18T16:07:11.195524Z",
     "iopub.status.idle": "2022-01-18T16:07:11.222675Z",
     "shell.execute_reply": "2022-01-18T16:07:11.223148Z",
     "shell.execute_reply.started": "2022-01-18T15:36:20.487757Z"
    },
    "papermill": {
     "duration": 0.054459,
     "end_time": "2022-01-18T16:07:11.223307",
     "exception": false,
     "start_time": "2022-01-18T16:07:11.168848",
     "status": "completed"
    },
    "tags": []
   },
   "outputs": [
    {
     "data": {
      "text/html": [
       "<div>\n",
       "<style scoped>\n",
       "    .dataframe tbody tr th:only-of-type {\n",
       "        vertical-align: middle;\n",
       "    }\n",
       "\n",
       "    .dataframe tbody tr th {\n",
       "        vertical-align: top;\n",
       "    }\n",
       "\n",
       "    .dataframe thead th {\n",
       "        text-align: right;\n",
       "    }\n",
       "</style>\n",
       "<table border=\"1\" class=\"dataframe\">\n",
       "  <thead>\n",
       "    <tr style=\"text-align: right;\">\n",
       "      <th></th>\n",
       "      <th>ID</th>\n",
       "      <th>Gender</th>\n",
       "      <th>Ever_Married</th>\n",
       "      <th>Age</th>\n",
       "      <th>Graduated</th>\n",
       "      <th>Profession</th>\n",
       "      <th>Work_Experience</th>\n",
       "      <th>Spending_Score</th>\n",
       "      <th>Family_Size</th>\n",
       "      <th>Var_1</th>\n",
       "      <th>Segmentation</th>\n",
       "    </tr>\n",
       "  </thead>\n",
       "  <tbody>\n",
       "    <tr>\n",
       "      <th>5091</th>\n",
       "      <td>465956</td>\n",
       "      <td>Male</td>\n",
       "      <td>Yes</td>\n",
       "      <td>39</td>\n",
       "      <td>Yes</td>\n",
       "      <td>Entertainment</td>\n",
       "      <td>4.0</td>\n",
       "      <td>Average</td>\n",
       "      <td>4.0</td>\n",
       "      <td>Cat_6</td>\n",
       "      <td>A</td>\n",
       "    </tr>\n",
       "    <tr>\n",
       "      <th>5224</th>\n",
       "      <td>459920</td>\n",
       "      <td>Female</td>\n",
       "      <td>Yes</td>\n",
       "      <td>51</td>\n",
       "      <td>Yes</td>\n",
       "      <td>Artist</td>\n",
       "      <td>6.0</td>\n",
       "      <td>High</td>\n",
       "      <td>2.0</td>\n",
       "      <td>Cat_4</td>\n",
       "      <td>B</td>\n",
       "    </tr>\n",
       "    <tr>\n",
       "      <th>7898</th>\n",
       "      <td>461386</td>\n",
       "      <td>Female</td>\n",
       "      <td>Yes</td>\n",
       "      <td>82</td>\n",
       "      <td>No</td>\n",
       "      <td>Lawyer</td>\n",
       "      <td>0.0</td>\n",
       "      <td>High</td>\n",
       "      <td>2.0</td>\n",
       "      <td>Cat_6</td>\n",
       "      <td>B</td>\n",
       "    </tr>\n",
       "  </tbody>\n",
       "</table>\n",
       "</div>"
      ],
      "text/plain": [
       "          ID  Gender Ever_Married  Age Graduated     Profession  \\\n",
       "5091  465956    Male          Yes   39       Yes  Entertainment   \n",
       "5224  459920  Female          Yes   51       Yes         Artist   \n",
       "7898  461386  Female          Yes   82        No         Lawyer   \n",
       "\n",
       "      Work_Experience Spending_Score  Family_Size  Var_1 Segmentation  \n",
       "5091              4.0        Average          4.0  Cat_6            A  \n",
       "5224              6.0           High          2.0  Cat_4            B  \n",
       "7898              0.0           High          2.0  Cat_6            B  "
      ]
     },
     "execution_count": 4,
     "metadata": {},
     "output_type": "execute_result"
    }
   ],
   "source": [
    "df.sample(3)"
   ]
  },
  {
   "cell_type": "code",
   "execution_count": 5,
   "id": "284c4825",
   "metadata": {
    "execution": {
     "iopub.execute_input": "2022-01-18T16:07:11.275843Z",
     "iopub.status.busy": "2022-01-18T16:07:11.275002Z",
     "iopub.status.idle": "2022-01-18T16:07:11.278221Z",
     "shell.execute_reply": "2022-01-18T16:07:11.278750Z",
     "shell.execute_reply.started": "2022-01-18T15:36:52.517659Z"
    },
    "papermill": {
     "duration": 0.032577,
     "end_time": "2022-01-18T16:07:11.278927",
     "exception": false,
     "start_time": "2022-01-18T16:07:11.246350",
     "status": "completed"
    },
    "tags": []
   },
   "outputs": [
    {
     "data": {
      "text/plain": [
       "(8068, 11)"
      ]
     },
     "execution_count": 5,
     "metadata": {},
     "output_type": "execute_result"
    }
   ],
   "source": [
    "df.shape"
   ]
  },
  {
   "cell_type": "code",
   "execution_count": 6,
   "id": "26201860",
   "metadata": {
    "execution": {
     "iopub.execute_input": "2022-01-18T16:07:11.330183Z",
     "iopub.status.busy": "2022-01-18T16:07:11.329215Z",
     "iopub.status.idle": "2022-01-18T16:07:11.344209Z",
     "shell.execute_reply": "2022-01-18T16:07:11.344779Z",
     "shell.execute_reply.started": "2022-01-18T15:37:29.527256Z"
    },
    "papermill": {
     "duration": 0.042408,
     "end_time": "2022-01-18T16:07:11.344944",
     "exception": false,
     "start_time": "2022-01-18T16:07:11.302536",
     "status": "completed"
    },
    "tags": []
   },
   "outputs": [
    {
     "data": {
      "text/plain": [
       "ID                   0\n",
       "Gender               0\n",
       "Ever_Married       140\n",
       "Age                  0\n",
       "Graduated           78\n",
       "Profession         124\n",
       "Work_Experience    829\n",
       "Spending_Score       0\n",
       "Family_Size        335\n",
       "Var_1               76\n",
       "Segmentation         0\n",
       "dtype: int64"
      ]
     },
     "execution_count": 6,
     "metadata": {},
     "output_type": "execute_result"
    }
   ],
   "source": [
    "df.isnull().sum()"
   ]
  },
  {
   "cell_type": "code",
   "execution_count": 7,
   "id": "21959f46",
   "metadata": {
    "execution": {
     "iopub.execute_input": "2022-01-18T16:07:11.395967Z",
     "iopub.status.busy": "2022-01-18T16:07:11.394988Z",
     "iopub.status.idle": "2022-01-18T16:07:11.409416Z",
     "shell.execute_reply": "2022-01-18T16:07:11.409942Z",
     "shell.execute_reply.started": "2022-01-18T15:38:27.815434Z"
    },
    "papermill": {
     "duration": 0.041764,
     "end_time": "2022-01-18T16:07:11.410120",
     "exception": false,
     "start_time": "2022-01-18T16:07:11.368356",
     "status": "completed"
    },
    "tags": []
   },
   "outputs": [],
   "source": [
    "for i in df.select_dtypes(include=np.number):\n",
    "    df[i].fillna(df[i].mean(),inplace=True)"
   ]
  },
  {
   "cell_type": "code",
   "execution_count": 8,
   "id": "0625d522",
   "metadata": {
    "execution": {
     "iopub.execute_input": "2022-01-18T16:07:11.462880Z",
     "iopub.status.busy": "2022-01-18T16:07:11.461979Z",
     "iopub.status.idle": "2022-01-18T16:07:11.469928Z",
     "shell.execute_reply": "2022-01-18T16:07:11.470412Z",
     "shell.execute_reply.started": "2022-01-18T15:40:10.268331Z"
    },
    "papermill": {
     "duration": 0.036817,
     "end_time": "2022-01-18T16:07:11.470604",
     "exception": false,
     "start_time": "2022-01-18T16:07:11.433787",
     "status": "completed"
    },
    "tags": []
   },
   "outputs": [
    {
     "data": {
      "text/plain": [
       "Yes    4643\n",
       "No     3285\n",
       "Name: Ever_Married, dtype: int64"
      ]
     },
     "execution_count": 8,
     "metadata": {},
     "output_type": "execute_result"
    }
   ],
   "source": [
    "df['Ever_Married'].value_counts()"
   ]
  },
  {
   "cell_type": "code",
   "execution_count": 9,
   "id": "2881f73a",
   "metadata": {
    "execution": {
     "iopub.execute_input": "2022-01-18T16:07:11.526404Z",
     "iopub.status.busy": "2022-01-18T16:07:11.525611Z",
     "iopub.status.idle": "2022-01-18T16:07:11.528607Z",
     "shell.execute_reply": "2022-01-18T16:07:11.529073Z",
     "shell.execute_reply.started": "2022-01-18T15:41:25.237498Z"
    },
    "papermill": {
     "duration": 0.034834,
     "end_time": "2022-01-18T16:07:11.529227",
     "exception": false,
     "start_time": "2022-01-18T16:07:11.494393",
     "status": "completed"
    },
    "tags": []
   },
   "outputs": [
    {
     "data": {
      "text/plain": [
       "Yes    4968\n",
       "No     3022\n",
       "Name: Graduated, dtype: int64"
      ]
     },
     "execution_count": 9,
     "metadata": {},
     "output_type": "execute_result"
    }
   ],
   "source": [
    "df['Graduated'].value_counts()"
   ]
  },
  {
   "cell_type": "code",
   "execution_count": 10,
   "id": "70bde1f7",
   "metadata": {
    "execution": {
     "iopub.execute_input": "2022-01-18T16:07:11.581202Z",
     "iopub.status.busy": "2022-01-18T16:07:11.580284Z",
     "iopub.status.idle": "2022-01-18T16:07:11.588176Z",
     "shell.execute_reply": "2022-01-18T16:07:11.588631Z",
     "shell.execute_reply.started": "2022-01-18T15:41:56.902259Z"
    },
    "papermill": {
     "duration": 0.035436,
     "end_time": "2022-01-18T16:07:11.588796",
     "exception": false,
     "start_time": "2022-01-18T16:07:11.553360",
     "status": "completed"
    },
    "tags": []
   },
   "outputs": [
    {
     "data": {
      "text/plain": [
       "Artist           2516\n",
       "Healthcare       1332\n",
       "Entertainment     949\n",
       "Engineer          699\n",
       "Doctor            688\n",
       "Lawyer            623\n",
       "Executive         599\n",
       "Marketing         292\n",
       "Homemaker         246\n",
       "Name: Profession, dtype: int64"
      ]
     },
     "execution_count": 10,
     "metadata": {},
     "output_type": "execute_result"
    }
   ],
   "source": [
    "df['Profession'].value_counts()"
   ]
  },
  {
   "cell_type": "code",
   "execution_count": 11,
   "id": "786dd182",
   "metadata": {
    "execution": {
     "iopub.execute_input": "2022-01-18T16:07:11.644238Z",
     "iopub.status.busy": "2022-01-18T16:07:11.643622Z",
     "iopub.status.idle": "2022-01-18T16:07:11.647915Z",
     "shell.execute_reply": "2022-01-18T16:07:11.648490Z",
     "shell.execute_reply.started": "2022-01-18T15:44:22.608956Z"
    },
    "papermill": {
     "duration": 0.035595,
     "end_time": "2022-01-18T16:07:11.648684",
     "exception": false,
     "start_time": "2022-01-18T16:07:11.613089",
     "status": "completed"
    },
    "tags": []
   },
   "outputs": [
    {
     "data": {
      "text/plain": [
       "Cat_6    5238\n",
       "Cat_4    1089\n",
       "Cat_3     822\n",
       "Cat_2     422\n",
       "Cat_7     203\n",
       "Cat_1     133\n",
       "Cat_5      85\n",
       "Name: Var_1, dtype: int64"
      ]
     },
     "execution_count": 11,
     "metadata": {},
     "output_type": "execute_result"
    }
   ],
   "source": [
    "df['Var_1'].value_counts()"
   ]
  },
  {
   "cell_type": "code",
   "execution_count": 12,
   "id": "1ef1d762",
   "metadata": {
    "execution": {
     "iopub.execute_input": "2022-01-18T16:07:11.701657Z",
     "iopub.status.busy": "2022-01-18T16:07:11.701034Z",
     "iopub.status.idle": "2022-01-18T16:07:11.705661Z",
     "shell.execute_reply": "2022-01-18T16:07:11.706189Z",
     "shell.execute_reply.started": "2022-01-18T15:44:17.984050Z"
    },
    "papermill": {
     "duration": 0.032904,
     "end_time": "2022-01-18T16:07:11.706357",
     "exception": false,
     "start_time": "2022-01-18T16:07:11.673453",
     "status": "completed"
    },
    "tags": []
   },
   "outputs": [],
   "source": [
    "df['Var_1'].fillna('Cat_6',inplace=True) # Cat_6 is dominant"
   ]
  },
  {
   "cell_type": "code",
   "execution_count": 13,
   "id": "f0f679be",
   "metadata": {
    "execution": {
     "iopub.execute_input": "2022-01-18T16:07:11.758380Z",
     "iopub.status.busy": "2022-01-18T16:07:11.757747Z",
     "iopub.status.idle": "2022-01-18T16:07:11.766232Z",
     "shell.execute_reply": "2022-01-18T16:07:11.766773Z",
     "shell.execute_reply.started": "2022-01-18T15:49:13.167690Z"
    },
    "papermill": {
     "duration": 0.035944,
     "end_time": "2022-01-18T16:07:11.766939",
     "exception": false,
     "start_time": "2022-01-18T16:07:11.730995",
     "status": "completed"
    },
    "tags": []
   },
   "outputs": [],
   "source": [
    "df['Ever_Married'].fillna('Yes',inplace=True)\n",
    "df['Profession'].fillna('Artist',inplace=True)\n",
    "df['Graduated'].fillna('Yes',inplace=True)"
   ]
  },
  {
   "cell_type": "code",
   "execution_count": 14,
   "id": "550fcfd9",
   "metadata": {
    "execution": {
     "iopub.execute_input": "2022-01-18T16:07:11.819855Z",
     "iopub.status.busy": "2022-01-18T16:07:11.819219Z",
     "iopub.status.idle": "2022-01-18T16:07:11.832324Z",
     "shell.execute_reply": "2022-01-18T16:07:11.832850Z",
     "shell.execute_reply.started": "2022-01-18T15:49:15.761619Z"
    },
    "papermill": {
     "duration": 0.04142,
     "end_time": "2022-01-18T16:07:11.833019",
     "exception": false,
     "start_time": "2022-01-18T16:07:11.791599",
     "status": "completed"
    },
    "tags": []
   },
   "outputs": [
    {
     "data": {
      "text/plain": [
       "ID                 0\n",
       "Gender             0\n",
       "Ever_Married       0\n",
       "Age                0\n",
       "Graduated          0\n",
       "Profession         0\n",
       "Work_Experience    0\n",
       "Spending_Score     0\n",
       "Family_Size        0\n",
       "Var_1              0\n",
       "Segmentation       0\n",
       "dtype: int64"
      ]
     },
     "execution_count": 14,
     "metadata": {},
     "output_type": "execute_result"
    }
   ],
   "source": [
    "df.isnull().sum()"
   ]
  },
  {
   "cell_type": "code",
   "execution_count": 15,
   "id": "5e7b4665",
   "metadata": {
    "execution": {
     "iopub.execute_input": "2022-01-18T16:07:11.888678Z",
     "iopub.status.busy": "2022-01-18T16:07:11.885640Z",
     "iopub.status.idle": "2022-01-18T16:07:11.906440Z",
     "shell.execute_reply": "2022-01-18T16:07:11.905788Z",
     "shell.execute_reply.started": "2022-01-18T15:50:22.848063Z"
    },
    "papermill": {
     "duration": 0.048482,
     "end_time": "2022-01-18T16:07:11.906610",
     "exception": false,
     "start_time": "2022-01-18T16:07:11.858128",
     "status": "completed"
    },
    "tags": []
   },
   "outputs": [],
   "source": [
    "x=pd.get_dummies(df,drop_first=True)"
   ]
  },
  {
   "cell_type": "code",
   "execution_count": 16,
   "id": "2dbcecf2",
   "metadata": {
    "execution": {
     "iopub.execute_input": "2022-01-18T16:07:11.964593Z",
     "iopub.status.busy": "2022-01-18T16:07:11.963892Z",
     "iopub.status.idle": "2022-01-18T16:07:11.965623Z",
     "shell.execute_reply": "2022-01-18T16:07:11.966111Z",
     "shell.execute_reply.started": "2022-01-18T15:50:52.697726Z"
    },
    "papermill": {
     "duration": 0.034595,
     "end_time": "2022-01-18T16:07:11.966281",
     "exception": false,
     "start_time": "2022-01-18T16:07:11.931686",
     "status": "completed"
    },
    "tags": []
   },
   "outputs": [],
   "source": [
    "allscore=[]\n",
    "allclusters=[]\n",
    "sum_of_squared_distances = []\n",
    "preds=[]\n",
    "def clust(clusters,x):\n",
    "    for no_of_cluster in np.arange(1,clusters):\n",
    "        \n",
    "        no_of_cluster+=1\n",
    "        model=KMeans(n_clusters=no_of_cluster)\n",
    "        pred=model.fit_predict(x)\n",
    "        sum_of_squared_distances.append(model.inertia_)\n",
    "        score=silhouette_score(x,pred)\n",
    "        print (\"Number of cluster {}, silhouette {}\".format(no_of_cluster,score))\n",
    "        allscore.append(score)\n",
    "        allclusters.append(no_of_cluster)\n",
    "        preds.append(pred)"
   ]
  },
  {
   "cell_type": "code",
   "execution_count": 17,
   "id": "a8da7dfd",
   "metadata": {
    "execution": {
     "iopub.execute_input": "2022-01-18T16:07:12.019983Z",
     "iopub.status.busy": "2022-01-18T16:07:12.019342Z",
     "iopub.status.idle": "2022-01-18T16:07:37.538319Z",
     "shell.execute_reply": "2022-01-18T16:07:37.539365Z",
     "shell.execute_reply.started": "2022-01-18T15:51:10.548033Z"
    },
    "papermill": {
     "duration": 25.547781,
     "end_time": "2022-01-18T16:07:37.539603",
     "exception": false,
     "start_time": "2022-01-18T16:07:11.991822",
     "status": "completed"
    },
    "tags": []
   },
   "outputs": [
    {
     "name": "stdout",
     "output_type": "stream",
     "text": [
      "Number of cluster 2, silhouette 0.6263169450446459\n",
      "Number of cluster 3, silhouette 0.5917851417348282\n",
      "Number of cluster 4, silhouette 0.5711737283119681\n",
      "Number of cluster 5, silhouette 0.5590468356839685\n",
      "Number of cluster 6, silhouette 0.5548000115481274\n",
      "Number of cluster 7, silhouette 0.5463621892953862\n",
      "Number of cluster 8, silhouette 0.541552007967957\n",
      "Number of cluster 9, silhouette 0.5398506722918174\n",
      "Number of cluster 10, silhouette 0.5364319450935062\n"
     ]
    }
   ],
   "source": [
    "clust(10,x)"
   ]
  },
  {
   "cell_type": "code",
   "execution_count": 18,
   "id": "5800edb1",
   "metadata": {
    "execution": {
     "iopub.execute_input": "2022-01-18T16:07:37.616931Z",
     "iopub.status.busy": "2022-01-18T16:07:37.616227Z",
     "iopub.status.idle": "2022-01-18T16:07:37.845220Z",
     "shell.execute_reply": "2022-01-18T16:07:37.844709Z",
     "shell.execute_reply.started": "2022-01-18T15:52:08.728546Z"
    },
    "papermill": {
     "duration": 0.272304,
     "end_time": "2022-01-18T16:07:37.845362",
     "exception": false,
     "start_time": "2022-01-18T16:07:37.573058",
     "status": "completed"
    },
    "tags": []
   },
   "outputs": [
    {
     "data": {
      "image/png": "[encoded data removed]",
      "text/plain": [
       "<Figure size 432x288 with 1 Axes>"
      ]
     },
     "metadata": {
      "needs_background": "light"
     },
     "output_type": "display_data"
    }
   ],
   "source": [
    "plt.plot(allclusters,allscore)\n",
    "plt.xlabel('Clusters()')\n",
    "plt.ylabel('Silhoutte_Score')\n",
    "plt.title('Silhouette Method')\n",
    "plt.xlim(0,15)\n",
    "plt.show()"
   ]
  },
  {
   "cell_type": "code",
   "execution_count": 19,
   "id": "133cb850",
   "metadata": {
    "execution": {
     "iopub.execute_input": "2022-01-18T16:07:37.948116Z",
     "iopub.status.busy": "2022-01-18T16:07:37.927609Z",
     "iopub.status.idle": "2022-01-18T16:07:38.100971Z",
     "shell.execute_reply": "2022-01-18T16:07:38.100443Z",
     "shell.execute_reply.started": "2022-01-18T15:52:12.705741Z"
    },
    "papermill": {
     "duration": 0.22693,
     "end_time": "2022-01-18T16:07:38.101114",
     "exception": false,
     "start_time": "2022-01-18T16:07:37.874184",
     "status": "completed"
    },
    "tags": []
   },
   "outputs": [
    {
     "data": {
      "image/png": "[encoded data removed]",
      "text/plain": [
       "<Figure size 432x288 with 1 Axes>"
      ]
     },
     "metadata": {
      "needs_background": "light"
     },
     "output_type": "display_data"
    }
   ],
   "source": [
    "plt.plot(allclusters,sum_of_squared_distances,marker='x')\n",
    "plt.xlabel('Clusters()')\n",
    "plt.ylabel('Silhoutte_Score')\n",
    "plt.title('Silhouette Method')\n",
    "plt.xlim(0,15)\n",
    "plt.show()"
   ]
  },
  {
   "cell_type": "code",
   "execution_count": 20,
   "id": "46a1221e",
   "metadata": {
    "execution": {
     "iopub.execute_input": "2022-01-18T16:07:38.166490Z",
     "iopub.status.busy": "2022-01-18T16:07:38.165317Z",
     "iopub.status.idle": "2022-01-18T16:07:38.167910Z",
     "shell.execute_reply": "2022-01-18T16:07:38.167304Z",
     "shell.execute_reply.started": "2022-01-18T15:56:15.413532Z"
    },
    "papermill": {
     "duration": 0.037344,
     "end_time": "2022-01-18T16:07:38.168051",
     "exception": false,
     "start_time": "2022-01-18T16:07:38.130707",
     "status": "completed"
    },
    "tags": []
   },
   "outputs": [],
   "source": [
    "pred=preds[4]"
   ]
  },
  {
   "cell_type": "code",
   "execution_count": 21,
   "id": "6f43dc9c",
   "metadata": {
    "execution": {
     "iopub.execute_input": "2022-01-18T16:07:38.231641Z",
     "iopub.status.busy": "2022-01-18T16:07:38.230986Z",
     "iopub.status.idle": "2022-01-18T16:07:38.239532Z",
     "shell.execute_reply": "2022-01-18T16:07:38.238934Z",
     "shell.execute_reply.started": "2022-01-18T15:56:17.950738Z"
    },
    "papermill": {
     "duration": 0.041362,
     "end_time": "2022-01-18T16:07:38.239692",
     "exception": false,
     "start_time": "2022-01-18T16:07:38.198330",
     "status": "completed"
    },
    "tags": []
   },
   "outputs": [],
   "source": [
    "result=pd.DataFrame()\n",
    "result[\"ID\"]=df[\"ID\"]\n",
    "result[\"Segmentation\"]=df[\"Segmentation\"]\n",
    "result[\"Cluster\"]=pred"
   ]
  },
  {
   "cell_type": "code",
   "execution_count": 22,
   "id": "530fde80",
   "metadata": {
    "execution": {
     "iopub.execute_input": "2022-01-18T16:07:38.304887Z",
     "iopub.status.busy": "2022-01-18T16:07:38.303950Z",
     "iopub.status.idle": "2022-01-18T16:07:38.307757Z",
     "shell.execute_reply": "2022-01-18T16:07:38.307194Z",
     "shell.execute_reply.started": "2022-01-18T16:02:52.339639Z"
    },
    "papermill": {
     "duration": 0.038099,
     "end_time": "2022-01-18T16:07:38.307897",
     "exception": false,
     "start_time": "2022-01-18T16:07:38.269798",
     "status": "completed"
    },
    "tags": []
   },
   "outputs": [
    {
     "data": {
      "text/plain": [
       "8068"
      ]
     },
     "execution_count": 22,
     "metadata": {},
     "output_type": "execute_result"
    }
   ],
   "source": [
    "len(pred)"
   ]
  },
  {
   "cell_type": "code",
   "execution_count": 23,
   "id": "e3dd47ae",
   "metadata": {
    "execution": {
     "iopub.execute_input": "2022-01-18T16:07:38.380403Z",
     "iopub.status.busy": "2022-01-18T16:07:38.379396Z",
     "iopub.status.idle": "2022-01-18T16:07:38.383364Z",
     "shell.execute_reply": "2022-01-18T16:07:38.382835Z",
     "shell.execute_reply.started": "2022-01-18T15:56:20.589700Z"
    },
    "papermill": {
     "duration": 0.0448,
     "end_time": "2022-01-18T16:07:38.383505",
     "exception": false,
     "start_time": "2022-01-18T16:07:38.338705",
     "status": "completed"
    },
    "tags": []
   },
   "outputs": [
    {
     "data": {
      "text/html": [
       "<div>\n",
       "<style scoped>\n",
       "    .dataframe tbody tr th:only-of-type {\n",
       "        vertical-align: middle;\n",
       "    }\n",
       "\n",
       "    .dataframe tbody tr th {\n",
       "        vertical-align: top;\n",
       "    }\n",
       "\n",
       "    .dataframe thead th {\n",
       "        text-align: right;\n",
       "    }\n",
       "</style>\n",
       "<table border=\"1\" class=\"dataframe\">\n",
       "  <thead>\n",
       "    <tr style=\"text-align: right;\">\n",
       "      <th></th>\n",
       "      <th>ID</th>\n",
       "      <th>Segmentation</th>\n",
       "      <th>Cluster</th>\n",
       "    </tr>\n",
       "  </thead>\n",
       "  <tbody>\n",
       "    <tr>\n",
       "      <th>0</th>\n",
       "      <td>462809</td>\n",
       "      <td>D</td>\n",
       "      <td>5</td>\n",
       "    </tr>\n",
       "    <tr>\n",
       "      <th>1</th>\n",
       "      <td>462643</td>\n",
       "      <td>A</td>\n",
       "      <td>5</td>\n",
       "    </tr>\n",
       "    <tr>\n",
       "      <th>2</th>\n",
       "      <td>466315</td>\n",
       "      <td>B</td>\n",
       "      <td>4</td>\n",
       "    </tr>\n",
       "    <tr>\n",
       "      <th>3</th>\n",
       "      <td>461735</td>\n",
       "      <td>B</td>\n",
       "      <td>1</td>\n",
       "    </tr>\n",
       "    <tr>\n",
       "      <th>4</th>\n",
       "      <td>462669</td>\n",
       "      <td>A</td>\n",
       "      <td>5</td>\n",
       "    </tr>\n",
       "    <tr>\n",
       "      <th>...</th>\n",
       "      <td>...</td>\n",
       "      <td>...</td>\n",
       "      <td>...</td>\n",
       "    </tr>\n",
       "    <tr>\n",
       "      <th>8063</th>\n",
       "      <td>464018</td>\n",
       "      <td>D</td>\n",
       "      <td>2</td>\n",
       "    </tr>\n",
       "    <tr>\n",
       "      <th>8064</th>\n",
       "      <td>464685</td>\n",
       "      <td>D</td>\n",
       "      <td>2</td>\n",
       "    </tr>\n",
       "    <tr>\n",
       "      <th>8065</th>\n",
       "      <td>465406</td>\n",
       "      <td>D</td>\n",
       "      <td>4</td>\n",
       "    </tr>\n",
       "    <tr>\n",
       "      <th>8066</th>\n",
       "      <td>467299</td>\n",
       "      <td>B</td>\n",
       "      <td>0</td>\n",
       "    </tr>\n",
       "    <tr>\n",
       "      <th>8067</th>\n",
       "      <td>461879</td>\n",
       "      <td>B</td>\n",
       "      <td>1</td>\n",
       "    </tr>\n",
       "  </tbody>\n",
       "</table>\n",
       "<p>8068 rows × 3 columns</p>\n",
       "</div>"
      ],
      "text/plain": [
       "          ID Segmentation  Cluster\n",
       "0     462809            D        5\n",
       "1     462643            A        5\n",
       "2     466315            B        4\n",
       "3     461735            B        1\n",
       "4     462669            A        5\n",
       "...      ...          ...      ...\n",
       "8063  464018            D        2\n",
       "8064  464685            D        2\n",
       "8065  465406            D        4\n",
       "8066  467299            B        0\n",
       "8067  461879            B        1\n",
       "\n",
       "[8068 rows x 3 columns]"
      ]
     },
     "execution_count": 23,
     "metadata": {},
     "output_type": "execute_result"
    }
   ],
   "source": [
    "result"
   ]
  },
  {
   "cell_type": "code",
   "execution_count": 24,
   "id": "cd4c7e84",
   "metadata": {
    "execution": {
     "iopub.execute_input": "2022-01-18T16:07:38.468354Z",
     "iopub.status.busy": "2022-01-18T16:07:38.467427Z",
     "iopub.status.idle": "2022-01-18T16:07:38.471254Z",
     "shell.execute_reply": "2022-01-18T16:07:38.471750Z",
     "shell.execute_reply.started": "2022-01-18T15:58:39.903191Z"
    },
    "papermill": {
     "duration": 0.057766,
     "end_time": "2022-01-18T16:07:38.471919",
     "exception": false,
     "start_time": "2022-01-18T16:07:38.414153",
     "status": "completed"
    },
    "tags": []
   },
   "outputs": [
    {
     "data": {
      "text/html": [
       "<div>\n",
       "<style scoped>\n",
       "    .dataframe tbody tr th:only-of-type {\n",
       "        vertical-align: middle;\n",
       "    }\n",
       "\n",
       "    .dataframe tbody tr th {\n",
       "        vertical-align: top;\n",
       "    }\n",
       "\n",
       "    .dataframe thead th {\n",
       "        text-align: right;\n",
       "    }\n",
       "</style>\n",
       "<table border=\"1\" class=\"dataframe\">\n",
       "  <thead>\n",
       "    <tr style=\"text-align: right;\">\n",
       "      <th></th>\n",
       "      <th>ID</th>\n",
       "      <th>Age</th>\n",
       "      <th>Work_Experience</th>\n",
       "      <th>Family_Size</th>\n",
       "      <th>Gender_Male</th>\n",
       "      <th>Ever_Married_Yes</th>\n",
       "      <th>Graduated_Yes</th>\n",
       "      <th>Profession_Doctor</th>\n",
       "      <th>Profession_Engineer</th>\n",
       "      <th>Profession_Entertainment</th>\n",
       "      <th>Profession_Executive</th>\n",
       "      <th>Profession_Healthcare</th>\n",
       "      <th>Profession_Homemaker</th>\n",
       "      <th>Profession_Lawyer</th>\n",
       "      <th>Profession_Marketing</th>\n",
       "      <th>Spending_Score_High</th>\n",
       "      <th>Spending_Score_Low</th>\n",
       "      <th>Var_1_Cat_2</th>\n",
       "      <th>Var_1_Cat_3</th>\n",
       "      <th>Var_1_Cat_4</th>\n",
       "      <th>Var_1_Cat_5</th>\n",
       "      <th>Var_1_Cat_6</th>\n",
       "      <th>Var_1_Cat_7</th>\n",
       "      <th>Segmentation_B</th>\n",
       "      <th>Segmentation_C</th>\n",
       "      <th>Segmentation_D</th>\n",
       "    </tr>\n",
       "  </thead>\n",
       "  <tbody>\n",
       "    <tr>\n",
       "      <th>0</th>\n",
       "      <td>462809</td>\n",
       "      <td>22</td>\n",
       "      <td>1.000000</td>\n",
       "      <td>4.0</td>\n",
       "      <td>1</td>\n",
       "      <td>0</td>\n",
       "      <td>0</td>\n",
       "      <td>0</td>\n",
       "      <td>0</td>\n",
       "      <td>0</td>\n",
       "      <td>0</td>\n",
       "      <td>1</td>\n",
       "      <td>0</td>\n",
       "      <td>0</td>\n",
       "      <td>0</td>\n",
       "      <td>0</td>\n",
       "      <td>1</td>\n",
       "      <td>0</td>\n",
       "      <td>0</td>\n",
       "      <td>1</td>\n",
       "      <td>0</td>\n",
       "      <td>0</td>\n",
       "      <td>0</td>\n",
       "      <td>0</td>\n",
       "      <td>0</td>\n",
       "      <td>1</td>\n",
       "    </tr>\n",
       "    <tr>\n",
       "      <th>1</th>\n",
       "      <td>462643</td>\n",
       "      <td>38</td>\n",
       "      <td>2.641663</td>\n",
       "      <td>3.0</td>\n",
       "      <td>0</td>\n",
       "      <td>1</td>\n",
       "      <td>1</td>\n",
       "      <td>0</td>\n",
       "      <td>1</td>\n",
       "      <td>0</td>\n",
       "      <td>0</td>\n",
       "      <td>0</td>\n",
       "      <td>0</td>\n",
       "      <td>0</td>\n",
       "      <td>0</td>\n",
       "      <td>0</td>\n",
       "      <td>0</td>\n",
       "      <td>0</td>\n",
       "      <td>0</td>\n",
       "      <td>1</td>\n",
       "      <td>0</td>\n",
       "      <td>0</td>\n",
       "      <td>0</td>\n",
       "      <td>0</td>\n",
       "      <td>0</td>\n",
       "      <td>0</td>\n",
       "    </tr>\n",
       "    <tr>\n",
       "      <th>2</th>\n",
       "      <td>466315</td>\n",
       "      <td>67</td>\n",
       "      <td>1.000000</td>\n",
       "      <td>1.0</td>\n",
       "      <td>0</td>\n",
       "      <td>1</td>\n",
       "      <td>1</td>\n",
       "      <td>0</td>\n",
       "      <td>1</td>\n",
       "      <td>0</td>\n",
       "      <td>0</td>\n",
       "      <td>0</td>\n",
       "      <td>0</td>\n",
       "      <td>0</td>\n",
       "      <td>0</td>\n",
       "      <td>0</td>\n",
       "      <td>1</td>\n",
       "      <td>0</td>\n",
       "      <td>0</td>\n",
       "      <td>0</td>\n",
       "      <td>0</td>\n",
       "      <td>1</td>\n",
       "      <td>0</td>\n",
       "      <td>1</td>\n",
       "      <td>0</td>\n",
       "      <td>0</td>\n",
       "    </tr>\n",
       "    <tr>\n",
       "      <th>3</th>\n",
       "      <td>461735</td>\n",
       "      <td>67</td>\n",
       "      <td>0.000000</td>\n",
       "      <td>2.0</td>\n",
       "      <td>1</td>\n",
       "      <td>1</td>\n",
       "      <td>1</td>\n",
       "      <td>0</td>\n",
       "      <td>0</td>\n",
       "      <td>0</td>\n",
       "      <td>0</td>\n",
       "      <td>0</td>\n",
       "      <td>0</td>\n",
       "      <td>1</td>\n",
       "      <td>0</td>\n",
       "      <td>1</td>\n",
       "      <td>0</td>\n",
       "      <td>0</td>\n",
       "      <td>0</td>\n",
       "      <td>0</td>\n",
       "      <td>0</td>\n",
       "      <td>1</td>\n",
       "      <td>0</td>\n",
       "      <td>1</td>\n",
       "      <td>0</td>\n",
       "      <td>0</td>\n",
       "    </tr>\n",
       "    <tr>\n",
       "      <th>4</th>\n",
       "      <td>462669</td>\n",
       "      <td>40</td>\n",
       "      <td>2.641663</td>\n",
       "      <td>6.0</td>\n",
       "      <td>0</td>\n",
       "      <td>1</td>\n",
       "      <td>1</td>\n",
       "      <td>0</td>\n",
       "      <td>0</td>\n",
       "      <td>1</td>\n",
       "      <td>0</td>\n",
       "      <td>0</td>\n",
       "      <td>0</td>\n",
       "      <td>0</td>\n",
       "      <td>0</td>\n",
       "      <td>1</td>\n",
       "      <td>0</td>\n",
       "      <td>0</td>\n",
       "      <td>0</td>\n",
       "      <td>0</td>\n",
       "      <td>0</td>\n",
       "      <td>1</td>\n",
       "      <td>0</td>\n",
       "      <td>0</td>\n",
       "      <td>0</td>\n",
       "      <td>0</td>\n",
       "    </tr>\n",
       "    <tr>\n",
       "      <th>...</th>\n",
       "      <td>...</td>\n",
       "      <td>...</td>\n",
       "      <td>...</td>\n",
       "      <td>...</td>\n",
       "      <td>...</td>\n",
       "      <td>...</td>\n",
       "      <td>...</td>\n",
       "      <td>...</td>\n",
       "      <td>...</td>\n",
       "      <td>...</td>\n",
       "      <td>...</td>\n",
       "      <td>...</td>\n",
       "      <td>...</td>\n",
       "      <td>...</td>\n",
       "      <td>...</td>\n",
       "      <td>...</td>\n",
       "      <td>...</td>\n",
       "      <td>...</td>\n",
       "      <td>...</td>\n",
       "      <td>...</td>\n",
       "      <td>...</td>\n",
       "      <td>...</td>\n",
       "      <td>...</td>\n",
       "      <td>...</td>\n",
       "      <td>...</td>\n",
       "      <td>...</td>\n",
       "    </tr>\n",
       "    <tr>\n",
       "      <th>8063</th>\n",
       "      <td>464018</td>\n",
       "      <td>22</td>\n",
       "      <td>0.000000</td>\n",
       "      <td>7.0</td>\n",
       "      <td>1</td>\n",
       "      <td>0</td>\n",
       "      <td>0</td>\n",
       "      <td>0</td>\n",
       "      <td>0</td>\n",
       "      <td>0</td>\n",
       "      <td>0</td>\n",
       "      <td>0</td>\n",
       "      <td>0</td>\n",
       "      <td>0</td>\n",
       "      <td>0</td>\n",
       "      <td>0</td>\n",
       "      <td>1</td>\n",
       "      <td>0</td>\n",
       "      <td>0</td>\n",
       "      <td>0</td>\n",
       "      <td>0</td>\n",
       "      <td>0</td>\n",
       "      <td>0</td>\n",
       "      <td>0</td>\n",
       "      <td>0</td>\n",
       "      <td>1</td>\n",
       "    </tr>\n",
       "    <tr>\n",
       "      <th>8064</th>\n",
       "      <td>464685</td>\n",
       "      <td>35</td>\n",
       "      <td>3.000000</td>\n",
       "      <td>4.0</td>\n",
       "      <td>1</td>\n",
       "      <td>0</td>\n",
       "      <td>0</td>\n",
       "      <td>0</td>\n",
       "      <td>0</td>\n",
       "      <td>0</td>\n",
       "      <td>1</td>\n",
       "      <td>0</td>\n",
       "      <td>0</td>\n",
       "      <td>0</td>\n",
       "      <td>0</td>\n",
       "      <td>0</td>\n",
       "      <td>1</td>\n",
       "      <td>0</td>\n",
       "      <td>0</td>\n",
       "      <td>1</td>\n",
       "      <td>0</td>\n",
       "      <td>0</td>\n",
       "      <td>0</td>\n",
       "      <td>0</td>\n",
       "      <td>0</td>\n",
       "      <td>1</td>\n",
       "    </tr>\n",
       "    <tr>\n",
       "      <th>8065</th>\n",
       "      <td>465406</td>\n",
       "      <td>33</td>\n",
       "      <td>1.000000</td>\n",
       "      <td>1.0</td>\n",
       "      <td>0</td>\n",
       "      <td>0</td>\n",
       "      <td>1</td>\n",
       "      <td>0</td>\n",
       "      <td>0</td>\n",
       "      <td>0</td>\n",
       "      <td>0</td>\n",
       "      <td>1</td>\n",
       "      <td>0</td>\n",
       "      <td>0</td>\n",
       "      <td>0</td>\n",
       "      <td>0</td>\n",
       "      <td>1</td>\n",
       "      <td>0</td>\n",
       "      <td>0</td>\n",
       "      <td>0</td>\n",
       "      <td>0</td>\n",
       "      <td>1</td>\n",
       "      <td>0</td>\n",
       "      <td>0</td>\n",
       "      <td>0</td>\n",
       "      <td>1</td>\n",
       "    </tr>\n",
       "    <tr>\n",
       "      <th>8066</th>\n",
       "      <td>467299</td>\n",
       "      <td>27</td>\n",
       "      <td>1.000000</td>\n",
       "      <td>4.0</td>\n",
       "      <td>0</td>\n",
       "      <td>0</td>\n",
       "      <td>1</td>\n",
       "      <td>0</td>\n",
       "      <td>0</td>\n",
       "      <td>0</td>\n",
       "      <td>0</td>\n",
       "      <td>1</td>\n",
       "      <td>0</td>\n",
       "      <td>0</td>\n",
       "      <td>0</td>\n",
       "      <td>0</td>\n",
       "      <td>1</td>\n",
       "      <td>0</td>\n",
       "      <td>0</td>\n",
       "      <td>0</td>\n",
       "      <td>0</td>\n",
       "      <td>1</td>\n",
       "      <td>0</td>\n",
       "      <td>1</td>\n",
       "      <td>0</td>\n",
       "      <td>0</td>\n",
       "    </tr>\n",
       "    <tr>\n",
       "      <th>8067</th>\n",
       "      <td>461879</td>\n",
       "      <td>37</td>\n",
       "      <td>0.000000</td>\n",
       "      <td>3.0</td>\n",
       "      <td>1</td>\n",
       "      <td>1</td>\n",
       "      <td>1</td>\n",
       "      <td>0</td>\n",
       "      <td>0</td>\n",
       "      <td>0</td>\n",
       "      <td>1</td>\n",
       "      <td>0</td>\n",
       "      <td>0</td>\n",
       "      <td>0</td>\n",
       "      <td>0</td>\n",
       "      <td>0</td>\n",
       "      <td>0</td>\n",
       "      <td>0</td>\n",
       "      <td>0</td>\n",
       "      <td>1</td>\n",
       "      <td>0</td>\n",
       "      <td>0</td>\n",
       "      <td>0</td>\n",
       "      <td>1</td>\n",
       "      <td>0</td>\n",
       "      <td>0</td>\n",
       "    </tr>\n",
       "  </tbody>\n",
       "</table>\n",
       "<p>8068 rows × 26 columns</p>\n",
       "</div>"
      ],
      "text/plain": [
       "          ID  Age  Work_Experience  Family_Size  Gender_Male  \\\n",
       "0     462809   22         1.000000          4.0            1   \n",
       "1     462643   38         2.641663          3.0            0   \n",
       "2     466315   67         1.000000          1.0            0   \n",
       "3     461735   67         0.000000          2.0            1   \n",
       "4     462669   40         2.641663          6.0            0   \n",
       "...      ...  ...              ...          ...          ...   \n",
       "8063  464018   22         0.000000          7.0            1   \n",
       "8064  464685   35         3.000000          4.0            1   \n",
       "8065  465406   33         1.000000          1.0            0   \n",
       "8066  467299   27         1.000000          4.0            0   \n",
       "8067  461879   37         0.000000          3.0            1   \n",
       "\n",
       "      Ever_Married_Yes  Graduated_Yes  Profession_Doctor  Profession_Engineer  \\\n",
       "0                    0              0                  0                    0   \n",
       "1                    1              1                  0                    1   \n",
       "2                    1              1                  0                    1   \n",
       "3                    1              1                  0                    0   \n",
       "4                    1              1                  0                    0   \n",
       "...                ...            ...                ...                  ...   \n",
       "8063                 0              0                  0                    0   \n",
       "8064                 0              0                  0                    0   \n",
       "8065                 0              1                  0                    0   \n",
       "8066                 0              1                  0                    0   \n",
       "8067                 1              1                  0                    0   \n",
       "\n",
       "      Profession_Entertainment  Profession_Executive  Profession_Healthcare  \\\n",
       "0                            0                     0                      1   \n",
       "1                            0                     0                      0   \n",
       "2                            0                     0                      0   \n",
       "3                            0                     0                      0   \n",
       "4                            1                     0                      0   \n",
       "...                        ...                   ...                    ...   \n",
       "8063                         0                     0                      0   \n",
       "8064                         0                     1                      0   \n",
       "8065                         0                     0                      1   \n",
       "8066                         0                     0                      1   \n",
       "8067                         0                     1                      0   \n",
       "\n",
       "      Profession_Homemaker  Profession_Lawyer  Profession_Marketing  \\\n",
       "0                        0                  0                     0   \n",
       "1                        0                  0                     0   \n",
       "2                        0                  0                     0   \n",
       "3                        0                  1                     0   \n",
       "4                        0                  0                     0   \n",
       "...                    ...                ...                   ...   \n",
       "8063                     0                  0                     0   \n",
       "8064                     0                  0                     0   \n",
       "8065                     0                  0                     0   \n",
       "8066                     0                  0                     0   \n",
       "8067                     0                  0                     0   \n",
       "\n",
       "      Spending_Score_High  Spending_Score_Low  Var_1_Cat_2  Var_1_Cat_3  \\\n",
       "0                       0                   1            0            0   \n",
       "1                       0                   0            0            0   \n",
       "2                       0                   1            0            0   \n",
       "3                       1                   0            0            0   \n",
       "4                       1                   0            0            0   \n",
       "...                   ...                 ...          ...          ...   \n",
       "8063                    0                   1            0            0   \n",
       "8064                    0                   1            0            0   \n",
       "8065                    0                   1            0            0   \n",
       "8066                    0                   1            0            0   \n",
       "8067                    0                   0            0            0   \n",
       "\n",
       "      Var_1_Cat_4  Var_1_Cat_5  Var_1_Cat_6  Var_1_Cat_7  Segmentation_B  \\\n",
       "0               1            0            0            0               0   \n",
       "1               1            0            0            0               0   \n",
       "2               0            0            1            0               1   \n",
       "3               0            0            1            0               1   \n",
       "4               0            0            1            0               0   \n",
       "...           ...          ...          ...          ...             ...   \n",
       "8063            0            0            0            0               0   \n",
       "8064            1            0            0            0               0   \n",
       "8065            0            0            1            0               0   \n",
       "8066            0            0            1            0               1   \n",
       "8067            1            0            0            0               1   \n",
       "\n",
       "      Segmentation_C  Segmentation_D  \n",
       "0                  0               1  \n",
       "1                  0               0  \n",
       "2                  0               0  \n",
       "3                  0               0  \n",
       "4                  0               0  \n",
       "...              ...             ...  \n",
       "8063               0               1  \n",
       "8064               0               1  \n",
       "8065               0               1  \n",
       "8066               0               0  \n",
       "8067               0               0  \n",
       "\n",
       "[8068 rows x 26 columns]"
      ]
     },
     "execution_count": 24,
     "metadata": {},
     "output_type": "execute_result"
    }
   ],
   "source": [
    "x"
   ]
  },
  {
   "cell_type": "code",
   "execution_count": 25,
   "id": "ff969f12",
   "metadata": {
    "execution": {
     "iopub.execute_input": "2022-01-18T16:07:38.562193Z",
     "iopub.status.busy": "2022-01-18T16:07:38.561031Z",
     "iopub.status.idle": "2022-01-18T16:07:39.051321Z",
     "shell.execute_reply": "2022-01-18T16:07:39.051837Z",
     "shell.execute_reply.started": "2022-01-18T15:59:51.059027Z"
    },
    "papermill": {
     "duration": 0.547956,
     "end_time": "2022-01-18T16:07:39.052010",
     "exception": false,
     "start_time": "2022-01-18T16:07:38.504054",
     "status": "completed"
    },
    "tags": []
   },
   "outputs": [
    {
     "data": {
      "image/png": "[encoded data removed]",
      "text/plain": [
       "<Figure size 720x432 with 2 Axes>"
      ]
     },
     "metadata": {
      "needs_background": "light"
     },
     "output_type": "display_data"
    }
   ],
   "source": [
    "plt.figure(figsize=(10,6))\n",
    "plt.scatter(y=x[\"Age\"],x=x[\"Family_Size\"],c=pred)\n",
    "plt.legend()\n",
    "plt.colorbar()\n",
    "plt.show()"
   ]
  },
  {
   "cell_type": "code",
   "execution_count": 26,
   "id": "1c3b9594",
   "metadata": {
    "execution": {
     "iopub.execute_input": "2022-01-18T16:07:39.124193Z",
     "iopub.status.busy": "2022-01-18T16:07:39.123507Z",
     "iopub.status.idle": "2022-01-18T16:07:39.147344Z",
     "shell.execute_reply": "2022-01-18T16:07:39.147878Z",
     "shell.execute_reply.started": "2022-01-18T16:01:03.640109Z"
    },
    "papermill": {
     "duration": 0.062392,
     "end_time": "2022-01-18T16:07:39.148048",
     "exception": false,
     "start_time": "2022-01-18T16:07:39.085656",
     "status": "completed"
    },
    "tags": []
   },
   "outputs": [
    {
     "data": {
      "text/html": [
       "<div>\n",
       "<style scoped>\n",
       "    .dataframe tbody tr th:only-of-type {\n",
       "        vertical-align: middle;\n",
       "    }\n",
       "\n",
       "    .dataframe tbody tr th {\n",
       "        vertical-align: top;\n",
       "    }\n",
       "\n",
       "    .dataframe thead th {\n",
       "        text-align: right;\n",
       "    }\n",
       "</style>\n",
       "<table border=\"1\" class=\"dataframe\">\n",
       "  <thead>\n",
       "    <tr style=\"text-align: right;\">\n",
       "      <th></th>\n",
       "      <th>ID</th>\n",
       "      <th>Segmentation</th>\n",
       "    </tr>\n",
       "  </thead>\n",
       "  <tbody>\n",
       "    <tr>\n",
       "      <th>0</th>\n",
       "      <td>458989</td>\n",
       "      <td>A</td>\n",
       "    </tr>\n",
       "    <tr>\n",
       "      <th>1</th>\n",
       "      <td>458994</td>\n",
       "      <td>A</td>\n",
       "    </tr>\n",
       "    <tr>\n",
       "      <th>2</th>\n",
       "      <td>458996</td>\n",
       "      <td>A</td>\n",
       "    </tr>\n",
       "    <tr>\n",
       "      <th>3</th>\n",
       "      <td>459000</td>\n",
       "      <td>A</td>\n",
       "    </tr>\n",
       "    <tr>\n",
       "      <th>4</th>\n",
       "      <td>459001</td>\n",
       "      <td>A</td>\n",
       "    </tr>\n",
       "    <tr>\n",
       "      <th>...</th>\n",
       "      <td>...</td>\n",
       "      <td>...</td>\n",
       "    </tr>\n",
       "    <tr>\n",
       "      <th>2622</th>\n",
       "      <td>467954</td>\n",
       "      <td>A</td>\n",
       "    </tr>\n",
       "    <tr>\n",
       "      <th>2623</th>\n",
       "      <td>467958</td>\n",
       "      <td>A</td>\n",
       "    </tr>\n",
       "    <tr>\n",
       "      <th>2624</th>\n",
       "      <td>467960</td>\n",
       "      <td>A</td>\n",
       "    </tr>\n",
       "    <tr>\n",
       "      <th>2625</th>\n",
       "      <td>467961</td>\n",
       "      <td>A</td>\n",
       "    </tr>\n",
       "    <tr>\n",
       "      <th>2626</th>\n",
       "      <td>467968</td>\n",
       "      <td>A</td>\n",
       "    </tr>\n",
       "  </tbody>\n",
       "</table>\n",
       "<p>2627 rows × 2 columns</p>\n",
       "</div>"
      ],
      "text/plain": [
       "          ID Segmentation\n",
       "0     458989            A\n",
       "1     458994            A\n",
       "2     458996            A\n",
       "3     459000            A\n",
       "4     459001            A\n",
       "...      ...          ...\n",
       "2622  467954            A\n",
       "2623  467958            A\n",
       "2624  467960            A\n",
       "2625  467961            A\n",
       "2626  467968            A\n",
       "\n",
       "[2627 rows x 2 columns]"
      ]
     },
     "execution_count": 26,
     "metadata": {},
     "output_type": "execute_result"
    }
   ],
   "source": [
    "sample=pd.read_csv('../input/customer/sample_submission.csv')\n",
    "sample"
   ]
  },
  {
   "cell_type": "code",
   "execution_count": null,
   "id": "c6f44fa7",
   "metadata": {
    "papermill": {
     "duration": 0.03334,
     "end_time": "2022-01-18T16:07:39.215417",
     "exception": false,
     "start_time": "2022-01-18T16:07:39.182077",
     "status": "completed"
    },
    "tags": []
   },
   "outputs": [],
   "source": []
  }
 ],
 "metadata": {
  "kernelspec": {
   "display_name": "Python 3",
   "language": "python",
   "name": "python3"
  },
  "language_info": {
   "codemirror_mode": {
    "name": "ipython",
    "version": 3
   },
   "file_extension": ".py",
   "mimetype": "text/x-python",
   "name": "python",
   "nbconvert_exporter": "python",
   "pygments_lexer": "ipython3",
   "version": "3.7.12"
  },
  "papermill": {
   "default_parameters": {},
   "duration": 40.16169,
   "end_time": "2022-01-18T16:07:39.959493",
   "environment_variables": {},
   "exception": null,
   "input_path": "__notebook__.ipynb",
   "output_path": "__notebook__.ipynb",
   "parameters": {},
   "start_time": "2022-01-18T16:06:59.797803",
   "version": "2.3.3"
  }
 },
 "nbformat": 4,
 "nbformat_minor": 5
}
