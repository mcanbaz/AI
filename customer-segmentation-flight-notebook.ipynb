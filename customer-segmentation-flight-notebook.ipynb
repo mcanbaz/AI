{
 "cells": [
  {
   "cell_type": "code",
   "execution_count": 1,
   "id": "c36b7efe",
   "metadata": {
    "execution": {
     "iopub.execute_input": "2022-01-18T23:06:33.416991Z",
     "iopub.status.busy": "2022-01-18T23:06:33.415163Z",
     "iopub.status.idle": "2022-01-18T23:06:34.989749Z",
     "shell.execute_reply": "2022-01-18T23:06:34.989000Z",
     "shell.execute_reply.started": "2022-01-18T22:07:30.147793Z"
    },
    "papermill": {
     "duration": 1.647944,
     "end_time": "2022-01-18T23:06:34.989944",
     "exception": false,
     "start_time": "2022-01-18T23:06:33.342000",
     "status": "completed"
    },
    "tags": []
   },
   "outputs": [],
   "source": [
    "import numpy as np\n",
    "from sklearn.cluster import KMeans\n",
    "from sklearn.metrics import silhouette_score\n",
    "import matplotlib.pyplot as plt\n",
    "import pandas as pd\n",
    "import seaborn as sns\n",
    "%matplotlib inline\n",
    "import warnings\n",
    "warnings.filterwarnings(\"ignore\")\n",
    "pd.set_option(\"display.max_columns\",100)\n",
    "pd.set_option(\"display.max_rows\",100)"
   ]
  },
  {
   "cell_type": "code",
   "execution_count": 2,
   "id": "d57b8f43",
   "metadata": {
    "execution": {
     "iopub.execute_input": "2022-01-18T23:06:35.125186Z",
     "iopub.status.busy": "2022-01-18T23:06:35.124515Z",
     "iopub.status.idle": "2022-01-18T23:06:35.529487Z",
     "shell.execute_reply": "2022-01-18T23:06:35.530156Z",
     "shell.execute_reply.started": "2022-01-18T22:08:21.348011Z"
    },
    "papermill": {
     "duration": 0.474522,
     "end_time": "2022-01-18T23:06:35.530371",
     "exception": false,
     "start_time": "2022-01-18T23:06:35.055849",
     "status": "completed"
    },
    "tags": []
   },
   "outputs": [],
   "source": [
    "df_train = pd.read_csv('../input/customer-segmentation-flight/flight_train.csv')\n",
    "df_test = pd.read_csv('../input/customer-segmentation-flight/flight_test.csv')"
   ]
  },
  {
   "cell_type": "code",
   "execution_count": 3,
   "id": "8586c95c",
   "metadata": {
    "execution": {
     "iopub.execute_input": "2022-01-18T23:06:35.662504Z",
     "iopub.status.busy": "2022-01-18T23:06:35.661520Z",
     "iopub.status.idle": "2022-01-18T23:06:35.690527Z",
     "shell.execute_reply": "2022-01-18T23:06:35.691043Z",
     "shell.execute_reply.started": "2022-01-18T22:08:22.721978Z"
    },
    "papermill": {
     "duration": 0.096721,
     "end_time": "2022-01-18T23:06:35.691261",
     "exception": false,
     "start_time": "2022-01-18T23:06:35.594540",
     "status": "completed"
    },
    "tags": []
   },
   "outputs": [],
   "source": [
    "df = pd.concat([df_train,df_test])"
   ]
  },
  {
   "cell_type": "code",
   "execution_count": 4,
   "id": "58098322",
   "metadata": {
    "execution": {
     "iopub.execute_input": "2022-01-18T23:06:35.823249Z",
     "iopub.status.busy": "2022-01-18T23:06:35.822552Z",
     "iopub.status.idle": "2022-01-18T23:06:35.832511Z",
     "shell.execute_reply": "2022-01-18T23:06:35.831879Z",
     "shell.execute_reply.started": "2022-01-18T22:08:24.835548Z"
    },
    "papermill": {
     "duration": 0.076739,
     "end_time": "2022-01-18T23:06:35.832654",
     "exception": false,
     "start_time": "2022-01-18T23:06:35.755915",
     "status": "completed"
    },
    "tags": []
   },
   "outputs": [
    {
     "data": {
      "text/plain": [
       "(62988, 23)"
      ]
     },
     "execution_count": 4,
     "metadata": {},
     "output_type": "execute_result"
    }
   ],
   "source": [
    "df.shape"
   ]
  },
  {
   "cell_type": "code",
   "execution_count": 5,
   "id": "bfff026e",
   "metadata": {
    "execution": {
     "iopub.execute_input": "2022-01-18T23:06:35.975211Z",
     "iopub.status.busy": "2022-01-18T23:06:35.974407Z",
     "iopub.status.idle": "2022-01-18T23:06:36.134644Z",
     "shell.execute_reply": "2022-01-18T23:06:36.134030Z",
     "shell.execute_reply.started": "2022-01-18T22:08:55.236772Z"
    },
    "papermill": {
     "duration": 0.234964,
     "end_time": "2022-01-18T23:06:36.134824",
     "exception": false,
     "start_time": "2022-01-18T23:06:35.899860",
     "status": "completed"
    },
    "tags": []
   },
   "outputs": [
    {
     "data": {
      "text/html": [
       "<div>\n",
       "<style scoped>\n",
       "    .dataframe tbody tr th:only-of-type {\n",
       "        vertical-align: middle;\n",
       "    }\n",
       "\n",
       "    .dataframe tbody tr th {\n",
       "        vertical-align: top;\n",
       "    }\n",
       "\n",
       "    .dataframe thead th {\n",
       "        text-align: right;\n",
       "    }\n",
       "</style>\n",
       "<table border=\"1\" class=\"dataframe\">\n",
       "  <thead>\n",
       "    <tr style=\"text-align: right;\">\n",
       "      <th></th>\n",
       "      <th>MEMBER_NO</th>\n",
       "      <th>FFP_DATE</th>\n",
       "      <th>FIRST_FLIGHT_DATE</th>\n",
       "      <th>GENDER</th>\n",
       "      <th>FFP_TIER</th>\n",
       "      <th>WORK_CITY</th>\n",
       "      <th>WORK_PROVINCE</th>\n",
       "      <th>WORK_COUNTRY</th>\n",
       "      <th>AGE</th>\n",
       "      <th>LOAD_TIME</th>\n",
       "      <th>FLIGHT_COUNT</th>\n",
       "      <th>BP_SUM</th>\n",
       "      <th>SUM_YR_1</th>\n",
       "      <th>SUM_YR_2</th>\n",
       "      <th>SEG_KM_SUM</th>\n",
       "      <th>LAST_FLIGHT_DATE</th>\n",
       "      <th>LAST_TO_END</th>\n",
       "      <th>AVG_INTERVAL</th>\n",
       "      <th>MAX_INTERVAL</th>\n",
       "      <th>EXCHANGE_COUNT</th>\n",
       "      <th>avg_discount</th>\n",
       "      <th>Points_Sum</th>\n",
       "      <th>Point_NotFlight</th>\n",
       "    </tr>\n",
       "  </thead>\n",
       "  <tbody>\n",
       "  </tbody>\n",
       "</table>\n",
       "</div>"
      ],
      "text/plain": [
       "Empty DataFrame\n",
       "Columns: [MEMBER_NO, FFP_DATE, FIRST_FLIGHT_DATE, GENDER, FFP_TIER, WORK_CITY, WORK_PROVINCE, WORK_COUNTRY, AGE, LOAD_TIME, FLIGHT_COUNT, BP_SUM, SUM_YR_1, SUM_YR_2, SEG_KM_SUM, LAST_FLIGHT_DATE, LAST_TO_END, AVG_INTERVAL, MAX_INTERVAL, EXCHANGE_COUNT, avg_discount, Points_Sum, Point_NotFlight]\n",
       "Index: []"
      ]
     },
     "execution_count": 5,
     "metadata": {},
     "output_type": "execute_result"
    }
   ],
   "source": [
    "df[df.duplicated()==True] # there is no duplication"
   ]
  },
  {
   "cell_type": "code",
   "execution_count": 6,
   "id": "935ac10b",
   "metadata": {
    "execution": {
     "iopub.execute_input": "2022-01-18T23:06:36.271147Z",
     "iopub.status.busy": "2022-01-18T23:06:36.270225Z",
     "iopub.status.idle": "2022-01-18T23:06:36.348392Z",
     "shell.execute_reply": "2022-01-18T23:06:36.348985Z",
     "shell.execute_reply.started": "2022-01-18T22:09:29.089710Z"
    },
    "papermill": {
     "duration": 0.149383,
     "end_time": "2022-01-18T23:06:36.349196",
     "exception": false,
     "start_time": "2022-01-18T23:06:36.199813",
     "status": "completed"
    },
    "tags": []
   },
   "outputs": [
    {
     "name": "stdout",
     "output_type": "stream",
     "text": [
      "<class 'pandas.core.frame.DataFrame'>\n",
      "Int64Index: 62988 entries, 0 to 7987\n",
      "Data columns (total 23 columns):\n",
      " #   Column             Non-Null Count  Dtype  \n",
      "---  ------             --------------  -----  \n",
      " 0   MEMBER_NO          62988 non-null  int64  \n",
      " 1   FFP_DATE           62988 non-null  object \n",
      " 2   FIRST_FLIGHT_DATE  62988 non-null  object \n",
      " 3   GENDER             62985 non-null  object \n",
      " 4   FFP_TIER           62988 non-null  int64  \n",
      " 5   WORK_CITY          60719 non-null  object \n",
      " 6   WORK_PROVINCE      59740 non-null  object \n",
      " 7   WORK_COUNTRY       62962 non-null  object \n",
      " 8   AGE                62568 non-null  float64\n",
      " 9   LOAD_TIME          62988 non-null  object \n",
      " 10  FLIGHT_COUNT       62988 non-null  int64  \n",
      " 11  BP_SUM             62988 non-null  int64  \n",
      " 12  SUM_YR_1           62437 non-null  float64\n",
      " 13  SUM_YR_2           62850 non-null  float64\n",
      " 14  SEG_KM_SUM         62988 non-null  int64  \n",
      " 15  LAST_FLIGHT_DATE   62988 non-null  object \n",
      " 16  LAST_TO_END        62988 non-null  int64  \n",
      " 17  AVG_INTERVAL       62988 non-null  float64\n",
      " 18  MAX_INTERVAL       62988 non-null  int64  \n",
      " 19  EXCHANGE_COUNT     62988 non-null  int64  \n",
      " 20  avg_discount       62988 non-null  float64\n",
      " 21  Points_Sum         62988 non-null  int64  \n",
      " 22  Point_NotFlight    62988 non-null  int64  \n",
      "dtypes: float64(5), int64(10), object(8)\n",
      "memory usage: 11.5+ MB\n"
     ]
    }
   ],
   "source": [
    "df.info()"
   ]
  },
  {
   "cell_type": "code",
   "execution_count": 7,
   "id": "c95ac0be",
   "metadata": {
    "execution": {
     "iopub.execute_input": "2022-01-18T23:06:36.484729Z",
     "iopub.status.busy": "2022-01-18T23:06:36.484076Z",
     "iopub.status.idle": "2022-01-18T23:06:36.751734Z",
     "shell.execute_reply": "2022-01-18T23:06:36.751155Z",
     "shell.execute_reply.started": "2022-01-18T22:10:41.251464Z"
    },
    "papermill": {
     "duration": 0.335924,
     "end_time": "2022-01-18T23:06:36.751893",
     "exception": false,
     "start_time": "2022-01-18T23:06:36.415969",
     "status": "completed"
    },
    "tags": []
   },
   "outputs": [],
   "source": [
    "columns = [x for x in df.columns]\n",
    "percent=[]\n",
    "for col in columns:\n",
    "    percent.append(round(df[col].isnull().sum()/df[col].shape[0]*100, 2))\n",
    "    \n",
    "explore = df.describe(percentiles = [], include = 'all').T \n",
    "explore['missing'] = len(df) - explore['count'] \n",
    "explore['%'] = percent\n",
    "explore = explore[['missing','%','min','max']]"
   ]
  },
  {
   "cell_type": "code",
   "execution_count": 8,
   "id": "74fd772f",
   "metadata": {
    "execution": {
     "iopub.execute_input": "2022-01-18T23:06:36.900608Z",
     "iopub.status.busy": "2022-01-18T23:06:36.899958Z",
     "iopub.status.idle": "2022-01-18T23:06:36.902648Z",
     "shell.execute_reply": "2022-01-18T23:06:36.903148Z",
     "shell.execute_reply.started": "2022-01-18T22:11:00.220916Z"
    },
    "papermill": {
     "duration": 0.086243,
     "end_time": "2022-01-18T23:06:36.903309",
     "exception": false,
     "start_time": "2022-01-18T23:06:36.817066",
     "status": "completed"
    },
    "tags": []
   },
   "outputs": [
    {
     "data": {
      "text/html": [
       "<div>\n",
       "<style scoped>\n",
       "    .dataframe tbody tr th:only-of-type {\n",
       "        vertical-align: middle;\n",
       "    }\n",
       "\n",
       "    .dataframe tbody tr th {\n",
       "        vertical-align: top;\n",
       "    }\n",
       "\n",
       "    .dataframe thead th {\n",
       "        text-align: right;\n",
       "    }\n",
       "</style>\n",
       "<table border=\"1\" class=\"dataframe\">\n",
       "  <thead>\n",
       "    <tr style=\"text-align: right;\">\n",
       "      <th></th>\n",
       "      <th>missing</th>\n",
       "      <th>%</th>\n",
       "      <th>min</th>\n",
       "      <th>max</th>\n",
       "    </tr>\n",
       "  </thead>\n",
       "  <tbody>\n",
       "    <tr>\n",
       "      <th>MEMBER_NO</th>\n",
       "      <td>0.0</td>\n",
       "      <td>0.00</td>\n",
       "      <td>1.0</td>\n",
       "      <td>62988.0</td>\n",
       "    </tr>\n",
       "    <tr>\n",
       "      <th>FFP_DATE</th>\n",
       "      <td>0.0</td>\n",
       "      <td>0.00</td>\n",
       "      <td>-</td>\n",
       "      <td>-</td>\n",
       "    </tr>\n",
       "    <tr>\n",
       "      <th>FIRST_FLIGHT_DATE</th>\n",
       "      <td>0.0</td>\n",
       "      <td>0.00</td>\n",
       "      <td>-</td>\n",
       "      <td>-</td>\n",
       "    </tr>\n",
       "    <tr>\n",
       "      <th>GENDER</th>\n",
       "      <td>3.0</td>\n",
       "      <td>0.00</td>\n",
       "      <td>-</td>\n",
       "      <td>-</td>\n",
       "    </tr>\n",
       "    <tr>\n",
       "      <th>FFP_TIER</th>\n",
       "      <td>0.0</td>\n",
       "      <td>0.00</td>\n",
       "      <td>4.0</td>\n",
       "      <td>6.0</td>\n",
       "    </tr>\n",
       "    <tr>\n",
       "      <th>WORK_CITY</th>\n",
       "      <td>2269.0</td>\n",
       "      <td>3.60</td>\n",
       "      <td>-</td>\n",
       "      <td>-</td>\n",
       "    </tr>\n",
       "    <tr>\n",
       "      <th>WORK_PROVINCE</th>\n",
       "      <td>3248.0</td>\n",
       "      <td>5.16</td>\n",
       "      <td>-</td>\n",
       "      <td>-</td>\n",
       "    </tr>\n",
       "    <tr>\n",
       "      <th>WORK_COUNTRY</th>\n",
       "      <td>26.0</td>\n",
       "      <td>0.04</td>\n",
       "      <td>-</td>\n",
       "      <td>-</td>\n",
       "    </tr>\n",
       "    <tr>\n",
       "      <th>AGE</th>\n",
       "      <td>420.0</td>\n",
       "      <td>0.67</td>\n",
       "      <td>6.0</td>\n",
       "      <td>110.0</td>\n",
       "    </tr>\n",
       "    <tr>\n",
       "      <th>LOAD_TIME</th>\n",
       "      <td>0.0</td>\n",
       "      <td>0.00</td>\n",
       "      <td>-</td>\n",
       "      <td>-</td>\n",
       "    </tr>\n",
       "    <tr>\n",
       "      <th>FLIGHT_COUNT</th>\n",
       "      <td>0.0</td>\n",
       "      <td>0.00</td>\n",
       "      <td>2.0</td>\n",
       "      <td>213.0</td>\n",
       "    </tr>\n",
       "    <tr>\n",
       "      <th>BP_SUM</th>\n",
       "      <td>0.0</td>\n",
       "      <td>0.00</td>\n",
       "      <td>0.0</td>\n",
       "      <td>505308.0</td>\n",
       "    </tr>\n",
       "    <tr>\n",
       "      <th>SUM_YR_1</th>\n",
       "      <td>551.0</td>\n",
       "      <td>0.87</td>\n",
       "      <td>0.0</td>\n",
       "      <td>239560.0</td>\n",
       "    </tr>\n",
       "    <tr>\n",
       "      <th>SUM_YR_2</th>\n",
       "      <td>138.0</td>\n",
       "      <td>0.22</td>\n",
       "      <td>0.0</td>\n",
       "      <td>234188.0</td>\n",
       "    </tr>\n",
       "    <tr>\n",
       "      <th>SEG_KM_SUM</th>\n",
       "      <td>0.0</td>\n",
       "      <td>0.00</td>\n",
       "      <td>368.0</td>\n",
       "      <td>580717.0</td>\n",
       "    </tr>\n",
       "    <tr>\n",
       "      <th>LAST_FLIGHT_DATE</th>\n",
       "      <td>0.0</td>\n",
       "      <td>0.00</td>\n",
       "      <td>-</td>\n",
       "      <td>-</td>\n",
       "    </tr>\n",
       "    <tr>\n",
       "      <th>LAST_TO_END</th>\n",
       "      <td>0.0</td>\n",
       "      <td>0.00</td>\n",
       "      <td>1.0</td>\n",
       "      <td>731.0</td>\n",
       "    </tr>\n",
       "    <tr>\n",
       "      <th>AVG_INTERVAL</th>\n",
       "      <td>0.0</td>\n",
       "      <td>0.00</td>\n",
       "      <td>0.0</td>\n",
       "      <td>728.0</td>\n",
       "    </tr>\n",
       "    <tr>\n",
       "      <th>MAX_INTERVAL</th>\n",
       "      <td>0.0</td>\n",
       "      <td>0.00</td>\n",
       "      <td>0.0</td>\n",
       "      <td>728.0</td>\n",
       "    </tr>\n",
       "    <tr>\n",
       "      <th>EXCHANGE_COUNT</th>\n",
       "      <td>0.0</td>\n",
       "      <td>0.00</td>\n",
       "      <td>0.0</td>\n",
       "      <td>46.0</td>\n",
       "    </tr>\n",
       "    <tr>\n",
       "      <th>avg_discount</th>\n",
       "      <td>0.0</td>\n",
       "      <td>0.00</td>\n",
       "      <td>0.0</td>\n",
       "      <td>1.5</td>\n",
       "    </tr>\n",
       "    <tr>\n",
       "      <th>Points_Sum</th>\n",
       "      <td>0.0</td>\n",
       "      <td>0.00</td>\n",
       "      <td>0.0</td>\n",
       "      <td>985572.0</td>\n",
       "    </tr>\n",
       "    <tr>\n",
       "      <th>Point_NotFlight</th>\n",
       "      <td>0.0</td>\n",
       "      <td>0.00</td>\n",
       "      <td>0.0</td>\n",
       "      <td>140.0</td>\n",
       "    </tr>\n",
       "  </tbody>\n",
       "</table>\n",
       "</div>"
      ],
      "text/plain": [
       "                   missing     %    min       max\n",
       "MEMBER_NO              0.0  0.00    1.0   62988.0\n",
       "FFP_DATE               0.0  0.00      -         -\n",
       "FIRST_FLIGHT_DATE      0.0  0.00      -         -\n",
       "GENDER                 3.0  0.00      -         -\n",
       "FFP_TIER               0.0  0.00    4.0       6.0\n",
       "WORK_CITY           2269.0  3.60      -         -\n",
       "WORK_PROVINCE       3248.0  5.16      -         -\n",
       "WORK_COUNTRY          26.0  0.04      -         -\n",
       "AGE                  420.0  0.67    6.0     110.0\n",
       "LOAD_TIME              0.0  0.00      -         -\n",
       "FLIGHT_COUNT           0.0  0.00    2.0     213.0\n",
       "BP_SUM                 0.0  0.00    0.0  505308.0\n",
       "SUM_YR_1             551.0  0.87    0.0  239560.0\n",
       "SUM_YR_2             138.0  0.22    0.0  234188.0\n",
       "SEG_KM_SUM             0.0  0.00  368.0  580717.0\n",
       "LAST_FLIGHT_DATE       0.0  0.00      -         -\n",
       "LAST_TO_END            0.0  0.00    1.0     731.0\n",
       "AVG_INTERVAL           0.0  0.00    0.0     728.0\n",
       "MAX_INTERVAL           0.0  0.00    0.0     728.0\n",
       "EXCHANGE_COUNT         0.0  0.00    0.0      46.0\n",
       "avg_discount           0.0  0.00    0.0       1.5\n",
       "Points_Sum             0.0  0.00    0.0  985572.0\n",
       "Point_NotFlight        0.0  0.00    0.0     140.0"
      ]
     },
     "execution_count": 8,
     "metadata": {},
     "output_type": "execute_result"
    }
   ],
   "source": [
    "explore = explore.replace(np.nan, '-', regex=True)\n",
    "explore"
   ]
  },
  {
   "cell_type": "code",
   "execution_count": 9,
   "id": "31c47525",
   "metadata": {
    "execution": {
     "iopub.execute_input": "2022-01-18T23:06:37.038379Z",
     "iopub.status.busy": "2022-01-18T23:06:37.037739Z",
     "iopub.status.idle": "2022-01-18T23:06:37.051395Z",
     "shell.execute_reply": "2022-01-18T23:06:37.051917Z",
     "shell.execute_reply.started": "2022-01-18T22:14:40.598947Z"
    },
    "papermill": {
     "duration": 0.0826,
     "end_time": "2022-01-18T23:06:37.052100",
     "exception": false,
     "start_time": "2022-01-18T23:06:36.969500",
     "status": "completed"
    },
    "tags": []
   },
   "outputs": [],
   "source": [
    "for i in df.select_dtypes(include=np.number):\n",
    "    df[i].fillna(df[i].mean(),inplace=True)"
   ]
  },
  {
   "cell_type": "code",
   "execution_count": 10,
   "id": "0861a63e",
   "metadata": {
    "execution": {
     "iopub.execute_input": "2022-01-18T23:06:37.185578Z",
     "iopub.status.busy": "2022-01-18T23:06:37.184946Z",
     "iopub.status.idle": "2022-01-18T23:06:37.249565Z",
     "shell.execute_reply": "2022-01-18T23:06:37.249037Z",
     "shell.execute_reply.started": "2022-01-18T22:15:02.634784Z"
    },
    "papermill": {
     "duration": 0.132629,
     "end_time": "2022-01-18T23:06:37.249747",
     "exception": false,
     "start_time": "2022-01-18T23:06:37.117118",
     "status": "completed"
    },
    "tags": []
   },
   "outputs": [
    {
     "data": {
      "text/plain": [
       "MEMBER_NO               0\n",
       "FFP_DATE                0\n",
       "FIRST_FLIGHT_DATE       0\n",
       "GENDER                  3\n",
       "FFP_TIER                0\n",
       "WORK_CITY            2269\n",
       "WORK_PROVINCE        3248\n",
       "WORK_COUNTRY           26\n",
       "AGE                     0\n",
       "LOAD_TIME               0\n",
       "FLIGHT_COUNT            0\n",
       "BP_SUM                  0\n",
       "SUM_YR_1                0\n",
       "SUM_YR_2                0\n",
       "SEG_KM_SUM              0\n",
       "LAST_FLIGHT_DATE        0\n",
       "LAST_TO_END             0\n",
       "AVG_INTERVAL            0\n",
       "MAX_INTERVAL            0\n",
       "EXCHANGE_COUNT          0\n",
       "avg_discount            0\n",
       "Points_Sum              0\n",
       "Point_NotFlight         0\n",
       "dtype: int64"
      ]
     },
     "execution_count": 10,
     "metadata": {},
     "output_type": "execute_result"
    }
   ],
   "source": [
    "df.isnull().sum()"
   ]
  },
  {
   "cell_type": "code",
   "execution_count": 11,
   "id": "ba6f7a29",
   "metadata": {
    "execution": {
     "iopub.execute_input": "2022-01-18T23:06:37.384012Z",
     "iopub.status.busy": "2022-01-18T23:06:37.383079Z",
     "iopub.status.idle": "2022-01-18T23:06:41.254431Z",
     "shell.execute_reply": "2022-01-18T23:06:41.253906Z",
     "shell.execute_reply.started": "2022-01-18T22:18:40.496788Z"
    },
    "papermill": {
     "duration": 3.938994,
     "end_time": "2022-01-18T23:06:41.254574",
     "exception": false,
     "start_time": "2022-01-18T23:06:37.315580",
     "status": "completed"
    },
    "tags": []
   },
   "outputs": [],
   "source": [
    "df['FFP_DATE']=pd.to_datetime(df['FFP_DATE'])\n",
    "df['LOAD_TIME']=pd.to_datetime(df['LOAD_TIME'])"
   ]
  },
  {
   "cell_type": "code",
   "execution_count": 12,
   "id": "4319eb95",
   "metadata": {
    "execution": {
     "iopub.execute_input": "2022-01-18T23:06:41.388929Z",
     "iopub.status.busy": "2022-01-18T23:06:41.388219Z",
     "iopub.status.idle": "2022-01-18T23:06:42.393433Z",
     "shell.execute_reply": "2022-01-18T23:06:42.392900Z",
     "shell.execute_reply.started": "2022-01-18T22:18:47.395215Z"
    },
    "papermill": {
     "duration": 1.073443,
     "end_time": "2022-01-18T23:06:42.393565",
     "exception": false,
     "start_time": "2022-01-18T23:06:41.320122",
     "status": "completed"
    },
    "tags": []
   },
   "outputs": [],
   "source": [
    "from datetime import datetime\n",
    "def interval_time(dd):\n",
    "    return dd.days\n",
    "\n",
    "df['LENGTH']=np.abs(df['LOAD_TIME']-df['FFP_DATE'])\n",
    "df['LENGTH']=df['LENGTH'].apply(interval_time)"
   ]
  },
  {
   "cell_type": "code",
   "execution_count": 13,
   "id": "7ba93f77",
   "metadata": {
    "execution": {
     "iopub.execute_input": "2022-01-18T23:06:42.529377Z",
     "iopub.status.busy": "2022-01-18T23:06:42.528771Z",
     "iopub.status.idle": "2022-01-18T23:06:43.253688Z",
     "shell.execute_reply": "2022-01-18T23:06:43.254192Z",
     "shell.execute_reply.started": "2022-01-18T22:18:56.525136Z"
    },
    "papermill": {
     "duration": 0.793153,
     "end_time": "2022-01-18T23:06:43.254370",
     "exception": false,
     "start_time": "2022-01-18T23:06:42.461217",
     "status": "completed"
    },
    "tags": []
   },
   "outputs": [
    {
     "data": {
      "image/png": "[encoded data removed]",
      "text/plain": [
       "<Figure size 720x432 with 2 Axes>"
      ]
     },
     "metadata": {
      "needs_background": "light"
     },
     "output_type": "display_data"
    }
   ],
   "source": [
    "f, (ax_box, ax_hist) = plt.subplots(2, sharex=True, gridspec_kw= {\"height_ratios\": (0.2, 1)},figsize=(10,6))\n",
    "sns.boxplot(df['LENGTH'], ax=ax_box)\n",
    "sns.distplot(df['LENGTH'], ax=ax_hist)\n",
    "plt.show()"
   ]
  },
  {
   "cell_type": "code",
   "execution_count": 14,
   "id": "5d17b9f0",
   "metadata": {
    "execution": {
     "iopub.execute_input": "2022-01-18T23:06:43.391695Z",
     "iopub.status.busy": "2022-01-18T23:06:43.391022Z",
     "iopub.status.idle": "2022-01-18T23:06:43.402382Z",
     "shell.execute_reply": "2022-01-18T23:06:43.403009Z",
     "shell.execute_reply.started": "2022-01-18T22:19:23.245167Z"
    },
    "papermill": {
     "duration": 0.081755,
     "end_time": "2022-01-18T23:06:43.403186",
     "exception": false,
     "start_time": "2022-01-18T23:06:43.321431",
     "status": "completed"
    },
    "tags": []
   },
   "outputs": [
    {
     "data": {
      "text/plain": [
       "count    62988.000000\n",
       "mean         0.721558\n",
       "std          0.185427\n",
       "min          0.000000\n",
       "25%          0.611997\n",
       "50%          0.711856\n",
       "75%          0.809476\n",
       "max          1.500000\n",
       "Name: avg_discount, dtype: float64"
      ]
     },
     "execution_count": 14,
     "metadata": {},
     "output_type": "execute_result"
    }
   ],
   "source": [
    "df['avg_discount'].describe()"
   ]
  },
  {
   "cell_type": "code",
   "execution_count": 15,
   "id": "d3efe29c",
   "metadata": {
    "execution": {
     "iopub.execute_input": "2022-01-18T23:06:43.539655Z",
     "iopub.status.busy": "2022-01-18T23:06:43.538749Z",
     "iopub.status.idle": "2022-01-18T23:06:44.265344Z",
     "shell.execute_reply": "2022-01-18T23:06:44.265869Z",
     "shell.execute_reply.started": "2022-01-18T22:19:47.349091Z"
    },
    "papermill": {
     "duration": 0.796238,
     "end_time": "2022-01-18T23:06:44.266036",
     "exception": false,
     "start_time": "2022-01-18T23:06:43.469798",
     "status": "completed"
    },
    "tags": []
   },
   "outputs": [
    {
     "data": {
      "image/png": "[encoded data removed]",
      "text/plain": [
       "<Figure size 720x432 with 2 Axes>"
      ]
     },
     "metadata": {
      "needs_background": "light"
     },
     "output_type": "display_data"
    }
   ],
   "source": [
    "f, (ax_box, ax_hist) = plt.subplots(2, sharex=True, gridspec_kw= {\"height_ratios\": (0.2, 1)},figsize=(10,6))\n",
    "sns.boxplot(df['avg_discount'], ax=ax_box)\n",
    "sns.distplot(df['avg_discount'], ax=ax_hist)\n",
    "plt.show()"
   ]
  },
  {
   "cell_type": "code",
   "execution_count": 16,
   "id": "42e9edd2",
   "metadata": {
    "execution": {
     "iopub.execute_input": "2022-01-18T23:06:44.404330Z",
     "iopub.status.busy": "2022-01-18T23:06:44.403387Z",
     "iopub.status.idle": "2022-01-18T23:06:44.408570Z",
     "shell.execute_reply": "2022-01-18T23:06:44.409161Z",
     "shell.execute_reply.started": "2022-01-18T22:22:07.286048Z"
    },
    "papermill": {
     "duration": 0.076077,
     "end_time": "2022-01-18T23:06:44.409323",
     "exception": false,
     "start_time": "2022-01-18T23:06:44.333246",
     "status": "completed"
    },
    "tags": []
   },
   "outputs": [
    {
     "data": {
      "text/plain": [
       "(62988, 24)"
      ]
     },
     "execution_count": 16,
     "metadata": {},
     "output_type": "execute_result"
    }
   ],
   "source": [
    "df.shape"
   ]
  },
  {
   "cell_type": "code",
   "execution_count": 17,
   "id": "4412ca76",
   "metadata": {
    "execution": {
     "iopub.execute_input": "2022-01-18T23:06:44.563432Z",
     "iopub.status.busy": "2022-01-18T23:06:44.562428Z",
     "iopub.status.idle": "2022-01-18T23:06:46.263429Z",
     "shell.execute_reply": "2022-01-18T23:06:46.263951Z"
    },
    "papermill": {
     "duration": 1.787477,
     "end_time": "2022-01-18T23:06:46.264143",
     "exception": false,
     "start_time": "2022-01-18T23:06:44.476666",
     "status": "completed"
    },
    "tags": []
   },
   "outputs": [
    {
     "data": {
      "text/plain": [
       "<AxesSubplot:>"
      ]
     },
     "execution_count": 17,
     "metadata": {},
     "output_type": "execute_result"
    },
    {
     "data": {
      "image/png": "[encoded data removed]",
      "text/plain": [
       "<Figure size 864x864 with 2 Axes>"
      ]
     },
     "metadata": {
      "needs_background": "light"
     },
     "output_type": "display_data"
    }
   ],
   "source": [
    "plt.subplots(figsize=(12,12))\n",
    "sns.heatmap(df.corr(),annot=True)"
   ]
  },
  {
   "cell_type": "code",
   "execution_count": 18,
   "id": "478177bd",
   "metadata": {
    "execution": {
     "iopub.execute_input": "2022-01-18T23:06:46.416549Z",
     "iopub.status.busy": "2022-01-18T23:06:46.415595Z",
     "iopub.status.idle": "2022-01-18T23:06:46.468501Z",
     "shell.execute_reply": "2022-01-18T23:06:46.469109Z",
     "shell.execute_reply.started": "2022-01-18T22:21:57.500418Z"
    },
    "papermill": {
     "duration": 0.132145,
     "end_time": "2022-01-18T23:06:46.469325",
     "exception": false,
     "start_time": "2022-01-18T23:06:46.337180",
     "status": "completed"
    },
    "tags": []
   },
   "outputs": [
    {
     "data": {
      "text/plain": [
       "MEMBER_NO               0\n",
       "FFP_DATE                0\n",
       "FIRST_FLIGHT_DATE       0\n",
       "GENDER                  3\n",
       "FFP_TIER                0\n",
       "WORK_CITY            2269\n",
       "WORK_PROVINCE        3248\n",
       "WORK_COUNTRY           26\n",
       "AGE                     0\n",
       "LOAD_TIME               0\n",
       "FLIGHT_COUNT            0\n",
       "BP_SUM                  0\n",
       "SUM_YR_1                0\n",
       "SUM_YR_2                0\n",
       "SEG_KM_SUM              0\n",
       "LAST_FLIGHT_DATE        0\n",
       "LAST_TO_END             0\n",
       "AVG_INTERVAL            0\n",
       "MAX_INTERVAL            0\n",
       "EXCHANGE_COUNT          0\n",
       "avg_discount            0\n",
       "Points_Sum              0\n",
       "Point_NotFlight         0\n",
       "LENGTH                  0\n",
       "dtype: int64"
      ]
     },
     "execution_count": 18,
     "metadata": {},
     "output_type": "execute_result"
    }
   ],
   "source": [
    "df.isnull().sum()"
   ]
  },
  {
   "cell_type": "code",
   "execution_count": 19,
   "id": "8a93540b",
   "metadata": {
    "execution": {
     "iopub.execute_input": "2022-01-18T23:06:46.620173Z",
     "iopub.status.busy": "2022-01-18T23:06:46.619213Z",
     "iopub.status.idle": "2022-01-18T23:06:46.637315Z",
     "shell.execute_reply": "2022-01-18T23:06:46.637911Z"
    },
    "papermill": {
     "duration": 0.0955,
     "end_time": "2022-01-18T23:06:46.638123",
     "exception": false,
     "start_time": "2022-01-18T23:06:46.542623",
     "status": "completed"
    },
    "tags": []
   },
   "outputs": [
    {
     "data": {
      "text/plain": [
       "guangzhou    9386\n",
       "beijing      7845\n",
       "shanghai     5001\n",
       "shenzhen     3605\n",
       "dalian       1979\n",
       "             ... \n",
       "KASUGAI         1\n",
       "hainan          1\n",
       "xinxishi        1\n",
       "KA              1\n",
       "lingshui        1\n",
       "Name: WORK_CITY, Length: 3234, dtype: int64"
      ]
     },
     "execution_count": 19,
     "metadata": {},
     "output_type": "execute_result"
    }
   ],
   "source": [
    "df['WORK_CITY'].value_counts()"
   ]
  },
  {
   "cell_type": "code",
   "execution_count": 20,
   "id": "6689816b",
   "metadata": {
    "execution": {
     "iopub.execute_input": "2022-01-18T23:06:46.790611Z",
     "iopub.status.busy": "2022-01-18T23:06:46.789614Z",
     "iopub.status.idle": "2022-01-18T23:06:46.806746Z",
     "shell.execute_reply": "2022-01-18T23:06:46.807255Z"
    },
    "papermill": {
     "duration": 0.095809,
     "end_time": "2022-01-18T23:06:46.807451",
     "exception": false,
     "start_time": "2022-01-18T23:06:46.711642",
     "status": "completed"
    },
    "tags": []
   },
   "outputs": [
    {
     "data": {
      "text/plain": [
       "CN    57748\n",
       "HK      991\n",
       "JP      875\n",
       "KR      790\n",
       "US      575\n",
       "      ...  \n",
       "CD        1\n",
       "BI        1\n",
       "CM        1\n",
       "FL        1\n",
       "GL        1\n",
       "Name: WORK_COUNTRY, Length: 118, dtype: int64"
      ]
     },
     "execution_count": 20,
     "metadata": {},
     "output_type": "execute_result"
    }
   ],
   "source": [
    "df['WORK_COUNTRY'].value_counts()"
   ]
  },
  {
   "cell_type": "code",
   "execution_count": 21,
   "id": "80f14104",
   "metadata": {
    "execution": {
     "iopub.execute_input": "2022-01-18T23:06:46.962414Z",
     "iopub.status.busy": "2022-01-18T23:06:46.961455Z",
     "iopub.status.idle": "2022-01-18T23:06:47.015429Z",
     "shell.execute_reply": "2022-01-18T23:06:47.014766Z"
    },
    "papermill": {
     "duration": 0.132053,
     "end_time": "2022-01-18T23:06:47.015585",
     "exception": false,
     "start_time": "2022-01-18T23:06:46.883532",
     "status": "completed"
    },
    "tags": []
   },
   "outputs": [
    {
     "data": {
      "text/plain": [
       "MEMBER_NO               0\n",
       "FFP_DATE                0\n",
       "FIRST_FLIGHT_DATE       0\n",
       "GENDER                  3\n",
       "FFP_TIER                0\n",
       "WORK_CITY            2269\n",
       "WORK_PROVINCE        3248\n",
       "WORK_COUNTRY           26\n",
       "AGE                     0\n",
       "LOAD_TIME               0\n",
       "FLIGHT_COUNT            0\n",
       "BP_SUM                  0\n",
       "SUM_YR_1                0\n",
       "SUM_YR_2                0\n",
       "SEG_KM_SUM              0\n",
       "LAST_FLIGHT_DATE        0\n",
       "LAST_TO_END             0\n",
       "AVG_INTERVAL            0\n",
       "MAX_INTERVAL            0\n",
       "EXCHANGE_COUNT          0\n",
       "avg_discount            0\n",
       "Points_Sum              0\n",
       "Point_NotFlight         0\n",
       "LENGTH                  0\n",
       "dtype: int64"
      ]
     },
     "execution_count": 21,
     "metadata": {},
     "output_type": "execute_result"
    }
   ],
   "source": [
    "df.isnull().sum()"
   ]
  },
  {
   "cell_type": "code",
   "execution_count": 22,
   "id": "ffc79fa2",
   "metadata": {
    "execution": {
     "iopub.execute_input": "2022-01-18T23:06:47.179998Z",
     "iopub.status.busy": "2022-01-18T23:06:47.178885Z",
     "iopub.status.idle": "2022-01-18T23:06:47.183254Z",
     "shell.execute_reply": "2022-01-18T23:06:47.182750Z",
     "shell.execute_reply.started": "2022-01-18T22:23:26.897205Z"
    },
    "papermill": {
     "duration": 0.091936,
     "end_time": "2022-01-18T23:06:47.183422",
     "exception": false,
     "start_time": "2022-01-18T23:06:47.091486",
     "status": "completed"
    },
    "tags": []
   },
   "outputs": [],
   "source": [
    "df['WORK_COUNTRY'].fillna('CN',inplace=True) # CN is dominant"
   ]
  },
  {
   "cell_type": "code",
   "execution_count": 23,
   "id": "07b95b96",
   "metadata": {
    "execution": {
     "iopub.execute_input": "2022-01-18T23:06:47.351098Z",
     "iopub.status.busy": "2022-01-18T23:06:47.350188Z",
     "iopub.status.idle": "2022-01-18T23:06:47.354453Z",
     "shell.execute_reply": "2022-01-18T23:06:47.353923Z",
     "shell.execute_reply.started": "2022-01-18T22:23:31.103904Z"
    },
    "papermill": {
     "duration": 0.096305,
     "end_time": "2022-01-18T23:06:47.354605",
     "exception": false,
     "start_time": "2022-01-18T23:06:47.258300",
     "status": "completed"
    },
    "tags": []
   },
   "outputs": [
    {
     "data": {
      "text/plain": [
       "Male      48134\n",
       "Female    14851\n",
       "Name: GENDER, dtype: int64"
      ]
     },
     "execution_count": 23,
     "metadata": {},
     "output_type": "execute_result"
    }
   ],
   "source": [
    "df['GENDER'].value_counts()"
   ]
  },
  {
   "cell_type": "code",
   "execution_count": 24,
   "id": "2d4110ff",
   "metadata": {
    "execution": {
     "iopub.execute_input": "2022-01-18T23:06:47.508932Z",
     "iopub.status.busy": "2022-01-18T23:06:47.508231Z",
     "iopub.status.idle": "2022-01-18T23:06:47.519603Z",
     "shell.execute_reply": "2022-01-18T23:06:47.520210Z",
     "shell.execute_reply.started": "2022-01-18T22:23:33.927462Z"
    },
    "papermill": {
     "duration": 0.090696,
     "end_time": "2022-01-18T23:06:47.520407",
     "exception": false,
     "start_time": "2022-01-18T23:06:47.429711",
     "status": "completed"
    },
    "tags": []
   },
   "outputs": [],
   "source": [
    "df['GENDER'].fillna('Male',inplace=True) # only 3 and Male is dominant"
   ]
  },
  {
   "cell_type": "code",
   "execution_count": 25,
   "id": "2d4ce1c1",
   "metadata": {
    "execution": {
     "iopub.execute_input": "2022-01-18T23:06:47.675899Z",
     "iopub.status.busy": "2022-01-18T23:06:47.674937Z",
     "iopub.status.idle": "2022-01-18T23:06:47.687206Z",
     "shell.execute_reply": "2022-01-18T23:06:47.687705Z",
     "shell.execute_reply.started": "2022-01-18T22:23:48.635503Z"
    },
    "papermill": {
     "duration": 0.091517,
     "end_time": "2022-01-18T23:06:47.687895",
     "exception": false,
     "start_time": "2022-01-18T23:06:47.596378",
     "status": "completed"
    },
    "tags": []
   },
   "outputs": [
    {
     "data": {
      "text/plain": [
       "array(['beijing', 'CA', 'guizhou', ..., 'NOTARIO', 'TOPKPPI', 'JAWATIMUR'],\n",
       "      dtype=object)"
      ]
     },
     "execution_count": 25,
     "metadata": {},
     "output_type": "execute_result"
    }
   ],
   "source": [
    "df['WORK_PROVINCE'].unique()"
   ]
  },
  {
   "cell_type": "code",
   "execution_count": 26,
   "id": "e500de04",
   "metadata": {
    "execution": {
     "iopub.execute_input": "2022-01-18T23:06:47.855099Z",
     "iopub.status.busy": "2022-01-18T23:06:47.854152Z",
     "iopub.status.idle": "2022-01-18T23:06:47.865049Z",
     "shell.execute_reply": "2022-01-18T23:06:47.865529Z",
     "shell.execute_reply.started": "2022-01-18T22:26:48.998563Z"
    },
    "papermill": {
     "duration": 0.10228,
     "end_time": "2022-01-18T23:06:47.865753",
     "exception": false,
     "start_time": "2022-01-18T23:06:47.763473",
     "status": "completed"
    },
    "tags": []
   },
   "outputs": [],
   "source": [
    "df['WORK_CITY'].fillna(df['WORK_PROVINCE'],inplace=True)\n",
    "df['WORK_PROVINCE'].fillna(df['WORK_CITY'],inplace=True)"
   ]
  },
  {
   "cell_type": "code",
   "execution_count": 27,
   "id": "809ffb62",
   "metadata": {
    "execution": {
     "iopub.execute_input": "2022-01-18T23:06:48.025921Z",
     "iopub.status.busy": "2022-01-18T23:06:48.025006Z",
     "iopub.status.idle": "2022-01-18T23:06:48.076527Z",
     "shell.execute_reply": "2022-01-18T23:06:48.077057Z",
     "shell.execute_reply.started": "2022-01-18T22:28:14.777926Z"
    },
    "papermill": {
     "duration": 0.132978,
     "end_time": "2022-01-18T23:06:48.077223",
     "exception": false,
     "start_time": "2022-01-18T23:06:47.944245",
     "status": "completed"
    },
    "tags": []
   },
   "outputs": [
    {
     "data": {
      "text/plain": [
       "MEMBER_NO               0\n",
       "FFP_DATE                0\n",
       "FIRST_FLIGHT_DATE       0\n",
       "GENDER                  0\n",
       "FFP_TIER                0\n",
       "WORK_CITY            1769\n",
       "WORK_PROVINCE        1769\n",
       "WORK_COUNTRY            0\n",
       "AGE                     0\n",
       "LOAD_TIME               0\n",
       "FLIGHT_COUNT            0\n",
       "BP_SUM                  0\n",
       "SUM_YR_1                0\n",
       "SUM_YR_2                0\n",
       "SEG_KM_SUM              0\n",
       "LAST_FLIGHT_DATE        0\n",
       "LAST_TO_END             0\n",
       "AVG_INTERVAL            0\n",
       "MAX_INTERVAL            0\n",
       "EXCHANGE_COUNT          0\n",
       "avg_discount            0\n",
       "Points_Sum              0\n",
       "Point_NotFlight         0\n",
       "LENGTH                  0\n",
       "dtype: int64"
      ]
     },
     "execution_count": 27,
     "metadata": {},
     "output_type": "execute_result"
    }
   ],
   "source": [
    "df.isnull().sum()"
   ]
  },
  {
   "cell_type": "code",
   "execution_count": 28,
   "id": "9a52b2bb",
   "metadata": {
    "execution": {
     "iopub.execute_input": "2022-01-18T23:06:48.232366Z",
     "iopub.status.busy": "2022-01-18T23:06:48.231756Z",
     "iopub.status.idle": "2022-01-18T23:06:48.233460Z",
     "shell.execute_reply": "2022-01-18T23:06:48.233952Z"
    },
    "papermill": {
     "duration": 0.081734,
     "end_time": "2022-01-18T23:06:48.234119",
     "exception": false,
     "start_time": "2022-01-18T23:06:48.152385",
     "status": "completed"
    },
    "tags": []
   },
   "outputs": [],
   "source": [
    "# df.loc[df['WORK_PROVINCE'] == '.','WORK_PROVINCE'] = df['WORK_CITY']\n",
    "# df.loc[df['WORK_CITY'] == '.','WORK_CITY'] = df['WORK_PROVINCE']#\n",
    "# df['WORK_CITY'].fillna('.',inplace=True)"
   ]
  },
  {
   "cell_type": "code",
   "execution_count": 29,
   "id": "7ab676c8",
   "metadata": {
    "execution": {
     "iopub.execute_input": "2022-01-18T23:06:48.389172Z",
     "iopub.status.busy": "2022-01-18T23:06:48.388504Z",
     "iopub.status.idle": "2022-01-18T23:06:48.408374Z",
     "shell.execute_reply": "2022-01-18T23:06:48.408867Z"
    },
    "papermill": {
     "duration": 0.099661,
     "end_time": "2022-01-18T23:06:48.409046",
     "exception": false,
     "start_time": "2022-01-18T23:06:48.309385",
     "status": "completed"
    },
    "tags": []
   },
   "outputs": [],
   "source": [
    "df['WORK_CITY'].fillna('.',inplace=True)\n",
    "df['WORK_PROVINCE'].fillna('.',inplace=True)"
   ]
  },
  {
   "cell_type": "code",
   "execution_count": 30,
   "id": "0843695c",
   "metadata": {
    "execution": {
     "iopub.execute_input": "2022-01-18T23:06:48.566075Z",
     "iopub.status.busy": "2022-01-18T23:06:48.565410Z",
     "iopub.status.idle": "2022-01-18T23:06:48.568035Z",
     "shell.execute_reply": "2022-01-18T23:06:48.568474Z",
     "shell.execute_reply.started": "2022-01-18T22:31:58.646121Z"
    },
    "papermill": {
     "duration": 0.083804,
     "end_time": "2022-01-18T23:06:48.568648",
     "exception": false,
     "start_time": "2022-01-18T23:06:48.484844",
     "status": "completed"
    },
    "tags": []
   },
   "outputs": [
    {
     "data": {
      "text/plain": [
       "(62988, 24)"
      ]
     },
     "execution_count": 30,
     "metadata": {},
     "output_type": "execute_result"
    }
   ],
   "source": [
    "df.shape"
   ]
  },
  {
   "cell_type": "code",
   "execution_count": 31,
   "id": "fc9e3fa0",
   "metadata": {
    "execution": {
     "iopub.execute_input": "2022-01-18T23:06:48.725002Z",
     "iopub.status.busy": "2022-01-18T23:06:48.724338Z",
     "iopub.status.idle": "2022-01-18T23:06:48.769906Z",
     "shell.execute_reply": "2022-01-18T23:06:48.770422Z",
     "shell.execute_reply.started": "2022-01-18T22:31:34.753429Z"
    },
    "papermill": {
     "duration": 0.125805,
     "end_time": "2022-01-18T23:06:48.770605",
     "exception": false,
     "start_time": "2022-01-18T23:06:48.644800",
     "status": "completed"
    },
    "tags": []
   },
   "outputs": [],
   "source": [
    "df = df[df['WORK_CITY'].notnull()]\n",
    "df = df[df['WORK_PROVINCE'].notnull()]"
   ]
  },
  {
   "cell_type": "code",
   "execution_count": 32,
   "id": "cf28f2fd",
   "metadata": {
    "execution": {
     "iopub.execute_input": "2022-01-18T23:06:48.928720Z",
     "iopub.status.busy": "2022-01-18T23:06:48.928045Z",
     "iopub.status.idle": "2022-01-18T23:06:48.938953Z",
     "shell.execute_reply": "2022-01-18T23:06:48.939502Z",
     "shell.execute_reply.started": "2022-01-18T22:32:41.718674Z"
    },
    "papermill": {
     "duration": 0.092427,
     "end_time": "2022-01-18T23:06:48.939694",
     "exception": false,
     "start_time": "2022-01-18T23:06:48.847267",
     "status": "completed"
    },
    "tags": []
   },
   "outputs": [
    {
     "data": {
      "text/plain": [
       "count    62988.000000\n",
       "mean        11.839414\n",
       "std         14.049471\n",
       "min          2.000000\n",
       "25%          3.000000\n",
       "50%          7.000000\n",
       "75%         15.000000\n",
       "max        213.000000\n",
       "Name: FLIGHT_COUNT, dtype: float64"
      ]
     },
     "execution_count": 32,
     "metadata": {},
     "output_type": "execute_result"
    }
   ],
   "source": [
    "df['FLIGHT_COUNT'].describe()"
   ]
  },
  {
   "cell_type": "code",
   "execution_count": 33,
   "id": "96a9bd2e",
   "metadata": {
    "execution": {
     "iopub.execute_input": "2022-01-18T23:06:49.098779Z",
     "iopub.status.busy": "2022-01-18T23:06:49.098081Z",
     "iopub.status.idle": "2022-01-18T23:06:49.983996Z",
     "shell.execute_reply": "2022-01-18T23:06:49.984529Z",
     "shell.execute_reply.started": "2022-01-18T22:33:01.053056Z"
    },
    "papermill": {
     "duration": 0.967892,
     "end_time": "2022-01-18T23:06:49.984755",
     "exception": false,
     "start_time": "2022-01-18T23:06:49.016863",
     "status": "completed"
    },
    "tags": []
   },
   "outputs": [
    {
     "data": {
      "image/png": "[encoded data removed]",
      "text/plain": [
       "<Figure size 720x432 with 2 Axes>"
      ]
     },
     "metadata": {
      "needs_background": "light"
     },
     "output_type": "display_data"
    }
   ],
   "source": [
    "f, (ax_box, ax_hist) = plt.subplots(2, sharex=True, gridspec_kw= {\"height_ratios\": (0.2, 1)},figsize=(10,6))\n",
    "sns.boxplot(df['FLIGHT_COUNT'], ax=ax_box)\n",
    "sns.distplot(df['FLIGHT_COUNT'], ax=ax_hist)\n",
    "plt.show()"
   ]
  },
  {
   "cell_type": "code",
   "execution_count": 34,
   "id": "ab35f1cb",
   "metadata": {
    "execution": {
     "iopub.execute_input": "2022-01-18T23:06:50.159329Z",
     "iopub.status.busy": "2022-01-18T23:06:50.158367Z",
     "iopub.status.idle": "2022-01-18T23:06:50.165243Z",
     "shell.execute_reply": "2022-01-18T23:06:50.165854Z",
     "shell.execute_reply.started": "2022-01-18T22:34:00.854909Z"
    },
    "papermill": {
     "duration": 0.101123,
     "end_time": "2022-01-18T23:06:50.166047",
     "exception": false,
     "start_time": "2022-01-18T23:06:50.064924",
     "status": "completed"
    },
    "tags": []
   },
   "outputs": [
    {
     "data": {
      "text/plain": [
       "guangzhou                  9391\n",
       "beijing                    8093\n",
       "shanghai                   5076\n",
       "shenzhen                   3606\n",
       ".                          2437\n",
       "                           ... \n",
       "ISE                           1\n",
       "ACTONA MEADOWS                1\n",
       "fengxianhuanchengdonglu       1\n",
       "KASUGAI                       1\n",
       "lingshui                      1\n",
       "Name: WORK_CITY, Length: 3262, dtype: int64"
      ]
     },
     "execution_count": 34,
     "metadata": {},
     "output_type": "execute_result"
    }
   ],
   "source": [
    "df['WORK_CITY'].value_counts()"
   ]
  },
  {
   "cell_type": "code",
   "execution_count": 35,
   "id": "5e0b916c",
   "metadata": {
    "execution": {
     "iopub.execute_input": "2022-01-18T23:06:50.325757Z",
     "iopub.status.busy": "2022-01-18T23:06:50.324814Z",
     "iopub.status.idle": "2022-01-18T23:06:50.374455Z",
     "shell.execute_reply": "2022-01-18T23:06:50.373860Z",
     "shell.execute_reply.started": "2022-01-18T22:36:08.433785Z"
    },
    "papermill": {
     "duration": 0.130822,
     "end_time": "2022-01-18T23:06:50.374618",
     "exception": false,
     "start_time": "2022-01-18T23:06:50.243796",
     "status": "completed"
    },
    "tags": []
   },
   "outputs": [
    {
     "data": {
      "text/html": [
       "<div>\n",
       "<style scoped>\n",
       "    .dataframe tbody tr th:only-of-type {\n",
       "        vertical-align: middle;\n",
       "    }\n",
       "\n",
       "    .dataframe tbody tr th {\n",
       "        vertical-align: top;\n",
       "    }\n",
       "\n",
       "    .dataframe thead th {\n",
       "        text-align: right;\n",
       "    }\n",
       "</style>\n",
       "<table border=\"1\" class=\"dataframe\">\n",
       "  <thead>\n",
       "    <tr style=\"text-align: right;\">\n",
       "      <th></th>\n",
       "      <th>MEMBER_NO</th>\n",
       "      <th>FFP_DATE</th>\n",
       "      <th>FIRST_FLIGHT_DATE</th>\n",
       "      <th>GENDER</th>\n",
       "      <th>FFP_TIER</th>\n",
       "      <th>WORK_CITY</th>\n",
       "      <th>WORK_PROVINCE</th>\n",
       "      <th>WORK_COUNTRY</th>\n",
       "      <th>AGE</th>\n",
       "      <th>LOAD_TIME</th>\n",
       "      <th>FLIGHT_COUNT</th>\n",
       "      <th>BP_SUM</th>\n",
       "      <th>SUM_YR_1</th>\n",
       "      <th>SUM_YR_2</th>\n",
       "      <th>SEG_KM_SUM</th>\n",
       "      <th>LAST_FLIGHT_DATE</th>\n",
       "      <th>LAST_TO_END</th>\n",
       "      <th>AVG_INTERVAL</th>\n",
       "      <th>MAX_INTERVAL</th>\n",
       "      <th>EXCHANGE_COUNT</th>\n",
       "      <th>avg_discount</th>\n",
       "      <th>Points_Sum</th>\n",
       "      <th>Point_NotFlight</th>\n",
       "      <th>LENGTH</th>\n",
       "    </tr>\n",
       "  </thead>\n",
       "  <tbody>\n",
       "    <tr>\n",
       "      <th>0</th>\n",
       "      <td>54993</td>\n",
       "      <td>2006-11-02</td>\n",
       "      <td>12/24/2008</td>\n",
       "      <td>Male</td>\n",
       "      <td>6</td>\n",
       "      <td>.</td>\n",
       "      <td>beijing</td>\n",
       "      <td>CN</td>\n",
       "      <td>31.0</td>\n",
       "      <td>2014-03-31</td>\n",
       "      <td>210</td>\n",
       "      <td>505308</td>\n",
       "      <td>239560.0</td>\n",
       "      <td>234188.0</td>\n",
       "      <td>580717</td>\n",
       "      <td>3/31/2014</td>\n",
       "      <td>1</td>\n",
       "      <td>3.483254</td>\n",
       "      <td>18</td>\n",
       "      <td>34</td>\n",
       "      <td>0.961639</td>\n",
       "      <td>619760</td>\n",
       "      <td>50</td>\n",
       "      <td>2706</td>\n",
       "    </tr>\n",
       "    <tr>\n",
       "      <th>2</th>\n",
       "      <td>55106</td>\n",
       "      <td>2007-02-01</td>\n",
       "      <td>8/30/2007</td>\n",
       "      <td>Male</td>\n",
       "      <td>6</td>\n",
       "      <td>.</td>\n",
       "      <td>beijing</td>\n",
       "      <td>CN</td>\n",
       "      <td>40.0</td>\n",
       "      <td>2014-03-31</td>\n",
       "      <td>135</td>\n",
       "      <td>351159</td>\n",
       "      <td>163618.0</td>\n",
       "      <td>164982.0</td>\n",
       "      <td>283712</td>\n",
       "      <td>3/21/2014</td>\n",
       "      <td>11</td>\n",
       "      <td>5.298507</td>\n",
       "      <td>18</td>\n",
       "      <td>20</td>\n",
       "      <td>1.254676</td>\n",
       "      <td>406361</td>\n",
       "      <td>26</td>\n",
       "      <td>2615</td>\n",
       "    </tr>\n",
       "    <tr>\n",
       "      <th>20</th>\n",
       "      <td>21501</td>\n",
       "      <td>2008-07-30</td>\n",
       "      <td>11/21/2008</td>\n",
       "      <td>Male</td>\n",
       "      <td>6</td>\n",
       "      <td>.</td>\n",
       "      <td>beijing</td>\n",
       "      <td>CN</td>\n",
       "      <td>49.0</td>\n",
       "      <td>2014-03-31</td>\n",
       "      <td>106</td>\n",
       "      <td>220641</td>\n",
       "      <td>69566.0</td>\n",
       "      <td>122763.0</td>\n",
       "      <td>167113</td>\n",
       "      <td>3/28/2014</td>\n",
       "      <td>4</td>\n",
       "      <td>6.438095</td>\n",
       "      <td>31</td>\n",
       "      <td>4</td>\n",
       "      <td>1.369404</td>\n",
       "      <td>251134</td>\n",
       "      <td>9</td>\n",
       "      <td>2070</td>\n",
       "    </tr>\n",
       "    <tr>\n",
       "      <th>24</th>\n",
       "      <td>58472</td>\n",
       "      <td>2010-02-14</td>\n",
       "      <td>3/1/2010</td>\n",
       "      <td>Female</td>\n",
       "      <td>5</td>\n",
       "      <td>.</td>\n",
       "      <td>.</td>\n",
       "      <td>FR</td>\n",
       "      <td>48.0</td>\n",
       "      <td>2014-03-31</td>\n",
       "      <td>44</td>\n",
       "      <td>204801</td>\n",
       "      <td>38510.0</td>\n",
       "      <td>75816.0</td>\n",
       "      <td>281837</td>\n",
       "      <td>3/15/2014</td>\n",
       "      <td>17</td>\n",
       "      <td>15.883721</td>\n",
       "      <td>66</td>\n",
       "      <td>10</td>\n",
       "      <td>0.787308</td>\n",
       "      <td>235939</td>\n",
       "      <td>12</td>\n",
       "      <td>1506</td>\n",
       "    </tr>\n",
       "    <tr>\n",
       "      <th>27</th>\n",
       "      <td>47114</td>\n",
       "      <td>2005-01-15</td>\n",
       "      <td>3/17/2005</td>\n",
       "      <td>Male</td>\n",
       "      <td>6</td>\n",
       "      <td>.</td>\n",
       "      <td>beijing</td>\n",
       "      <td>CN</td>\n",
       "      <td>47.0</td>\n",
       "      <td>2014-03-31</td>\n",
       "      <td>74</td>\n",
       "      <td>209810</td>\n",
       "      <td>101398.0</td>\n",
       "      <td>83139.0</td>\n",
       "      <td>148685</td>\n",
       "      <td>3/21/2014</td>\n",
       "      <td>11</td>\n",
       "      <td>9.493151</td>\n",
       "      <td>51</td>\n",
       "      <td>8</td>\n",
       "      <td>1.433364</td>\n",
       "      <td>235176</td>\n",
       "      <td>14</td>\n",
       "      <td>3362</td>\n",
       "    </tr>\n",
       "    <tr>\n",
       "      <th>...</th>\n",
       "      <td>...</td>\n",
       "      <td>...</td>\n",
       "      <td>...</td>\n",
       "      <td>...</td>\n",
       "      <td>...</td>\n",
       "      <td>...</td>\n",
       "      <td>...</td>\n",
       "      <td>...</td>\n",
       "      <td>...</td>\n",
       "      <td>...</td>\n",
       "      <td>...</td>\n",
       "      <td>...</td>\n",
       "      <td>...</td>\n",
       "      <td>...</td>\n",
       "      <td>...</td>\n",
       "      <td>...</td>\n",
       "      <td>...</td>\n",
       "      <td>...</td>\n",
       "      <td>...</td>\n",
       "      <td>...</td>\n",
       "      <td>...</td>\n",
       "      <td>...</td>\n",
       "      <td>...</td>\n",
       "      <td>...</td>\n",
       "    </tr>\n",
       "    <tr>\n",
       "      <th>7944</th>\n",
       "      <td>2096</td>\n",
       "      <td>2005-03-14</td>\n",
       "      <td>3/14/2005</td>\n",
       "      <td>Male</td>\n",
       "      <td>4</td>\n",
       "      <td>.</td>\n",
       "      <td>.</td>\n",
       "      <td>CN</td>\n",
       "      <td>59.0</td>\n",
       "      <td>2014-03-31</td>\n",
       "      <td>2</td>\n",
       "      <td>400</td>\n",
       "      <td>0.0</td>\n",
       "      <td>462.0</td>\n",
       "      <td>928</td>\n",
       "      <td>2/8/2014</td>\n",
       "      <td>53</td>\n",
       "      <td>0.000000</td>\n",
       "      <td>0</td>\n",
       "      <td>0</td>\n",
       "      <td>0.340000</td>\n",
       "      <td>400</td>\n",
       "      <td>0</td>\n",
       "      <td>3304</td>\n",
       "    </tr>\n",
       "    <tr>\n",
       "      <th>7950</th>\n",
       "      <td>31906</td>\n",
       "      <td>2011-03-09</td>\n",
       "      <td>9/10/2013</td>\n",
       "      <td>Male</td>\n",
       "      <td>4</td>\n",
       "      <td>.</td>\n",
       "      <td>.</td>\n",
       "      <td>TW</td>\n",
       "      <td>51.0</td>\n",
       "      <td>2014-03-31</td>\n",
       "      <td>2</td>\n",
       "      <td>700</td>\n",
       "      <td>0.0</td>\n",
       "      <td>1260.0</td>\n",
       "      <td>368</td>\n",
       "      <td>9/15/2013</td>\n",
       "      <td>199</td>\n",
       "      <td>5.000000</td>\n",
       "      <td>5</td>\n",
       "      <td>0</td>\n",
       "      <td>0.835000</td>\n",
       "      <td>700</td>\n",
       "      <td>0</td>\n",
       "      <td>1118</td>\n",
       "    </tr>\n",
       "    <tr>\n",
       "      <th>7956</th>\n",
       "      <td>2213</td>\n",
       "      <td>2005-05-18</td>\n",
       "      <td>7/19/2005</td>\n",
       "      <td>Female</td>\n",
       "      <td>4</td>\n",
       "      <td>.</td>\n",
       "      <td>.</td>\n",
       "      <td>CN</td>\n",
       "      <td>45.0</td>\n",
       "      <td>2014-03-31</td>\n",
       "      <td>2</td>\n",
       "      <td>0</td>\n",
       "      <td>0.0</td>\n",
       "      <td>422.0</td>\n",
       "      <td>904</td>\n",
       "      <td>1/19/2014</td>\n",
       "      <td>73</td>\n",
       "      <td>41.000000</td>\n",
       "      <td>41</td>\n",
       "      <td>0</td>\n",
       "      <td>0.320000</td>\n",
       "      <td>0</td>\n",
       "      <td>0</td>\n",
       "      <td>3239</td>\n",
       "    </tr>\n",
       "    <tr>\n",
       "      <th>7970</th>\n",
       "      <td>38088</td>\n",
       "      <td>2005-03-11</td>\n",
       "      <td>6/16/2005</td>\n",
       "      <td>Female</td>\n",
       "      <td>4</td>\n",
       "      <td>.</td>\n",
       "      <td>.</td>\n",
       "      <td>CN</td>\n",
       "      <td>47.0</td>\n",
       "      <td>2014-03-31</td>\n",
       "      <td>2</td>\n",
       "      <td>0</td>\n",
       "      <td>350.0</td>\n",
       "      <td>0.0</td>\n",
       "      <td>1096</td>\n",
       "      <td>10/11/2012</td>\n",
       "      <td>538</td>\n",
       "      <td>2.000000</td>\n",
       "      <td>2</td>\n",
       "      <td>0</td>\n",
       "      <td>0.250000</td>\n",
       "      <td>0</td>\n",
       "      <td>0</td>\n",
       "      <td>3307</td>\n",
       "    </tr>\n",
       "    <tr>\n",
       "      <th>7974</th>\n",
       "      <td>11163</td>\n",
       "      <td>2005-05-08</td>\n",
       "      <td>8/26/2005</td>\n",
       "      <td>Male</td>\n",
       "      <td>4</td>\n",
       "      <td>.</td>\n",
       "      <td>.</td>\n",
       "      <td>CN</td>\n",
       "      <td>34.0</td>\n",
       "      <td>2014-03-31</td>\n",
       "      <td>2</td>\n",
       "      <td>400</td>\n",
       "      <td>0.0</td>\n",
       "      <td>960.0</td>\n",
       "      <td>368</td>\n",
       "      <td>1/3/2014</td>\n",
       "      <td>89</td>\n",
       "      <td>70.000000</td>\n",
       "      <td>70</td>\n",
       "      <td>0</td>\n",
       "      <td>0.710000</td>\n",
       "      <td>900</td>\n",
       "      <td>1</td>\n",
       "      <td>3249</td>\n",
       "    </tr>\n",
       "  </tbody>\n",
       "</table>\n",
       "<p>2437 rows × 24 columns</p>\n",
       "</div>"
      ],
      "text/plain": [
       "      MEMBER_NO   FFP_DATE FIRST_FLIGHT_DATE  GENDER  FFP_TIER WORK_CITY  \\\n",
       "0         54993 2006-11-02        12/24/2008    Male         6         .   \n",
       "2         55106 2007-02-01         8/30/2007    Male         6         .   \n",
       "20        21501 2008-07-30        11/21/2008    Male         6         .   \n",
       "24        58472 2010-02-14          3/1/2010  Female         5         .   \n",
       "27        47114 2005-01-15         3/17/2005    Male         6         .   \n",
       "...         ...        ...               ...     ...       ...       ...   \n",
       "7944       2096 2005-03-14         3/14/2005    Male         4         .   \n",
       "7950      31906 2011-03-09         9/10/2013    Male         4         .   \n",
       "7956       2213 2005-05-18         7/19/2005  Female         4         .   \n",
       "7970      38088 2005-03-11         6/16/2005  Female         4         .   \n",
       "7974      11163 2005-05-08         8/26/2005    Male         4         .   \n",
       "\n",
       "     WORK_PROVINCE WORK_COUNTRY   AGE  LOAD_TIME  FLIGHT_COUNT  BP_SUM  \\\n",
       "0          beijing           CN  31.0 2014-03-31           210  505308   \n",
       "2          beijing           CN  40.0 2014-03-31           135  351159   \n",
       "20         beijing           CN  49.0 2014-03-31           106  220641   \n",
       "24               .           FR  48.0 2014-03-31            44  204801   \n",
       "27         beijing           CN  47.0 2014-03-31            74  209810   \n",
       "...            ...          ...   ...        ...           ...     ...   \n",
       "7944             .           CN  59.0 2014-03-31             2     400   \n",
       "7950             .           TW  51.0 2014-03-31             2     700   \n",
       "7956             .           CN  45.0 2014-03-31             2       0   \n",
       "7970             .           CN  47.0 2014-03-31             2       0   \n",
       "7974             .           CN  34.0 2014-03-31             2     400   \n",
       "\n",
       "      SUM_YR_1  SUM_YR_2  SEG_KM_SUM LAST_FLIGHT_DATE  LAST_TO_END  \\\n",
       "0     239560.0  234188.0      580717        3/31/2014            1   \n",
       "2     163618.0  164982.0      283712        3/21/2014           11   \n",
       "20     69566.0  122763.0      167113        3/28/2014            4   \n",
       "24     38510.0   75816.0      281837        3/15/2014           17   \n",
       "27    101398.0   83139.0      148685        3/21/2014           11   \n",
       "...        ...       ...         ...              ...          ...   \n",
       "7944       0.0     462.0         928         2/8/2014           53   \n",
       "7950       0.0    1260.0         368        9/15/2013          199   \n",
       "7956       0.0     422.0         904        1/19/2014           73   \n",
       "7970     350.0       0.0        1096       10/11/2012          538   \n",
       "7974       0.0     960.0         368         1/3/2014           89   \n",
       "\n",
       "      AVG_INTERVAL  MAX_INTERVAL  EXCHANGE_COUNT  avg_discount  Points_Sum  \\\n",
       "0         3.483254            18              34      0.961639      619760   \n",
       "2         5.298507            18              20      1.254676      406361   \n",
       "20        6.438095            31               4      1.369404      251134   \n",
       "24       15.883721            66              10      0.787308      235939   \n",
       "27        9.493151            51               8      1.433364      235176   \n",
       "...            ...           ...             ...           ...         ...   \n",
       "7944      0.000000             0               0      0.340000         400   \n",
       "7950      5.000000             5               0      0.835000         700   \n",
       "7956     41.000000            41               0      0.320000           0   \n",
       "7970      2.000000             2               0      0.250000           0   \n",
       "7974     70.000000            70               0      0.710000         900   \n",
       "\n",
       "      Point_NotFlight  LENGTH  \n",
       "0                  50    2706  \n",
       "2                  26    2615  \n",
       "20                  9    2070  \n",
       "24                 12    1506  \n",
       "27                 14    3362  \n",
       "...               ...     ...  \n",
       "7944                0    3304  \n",
       "7950                0    1118  \n",
       "7956                0    3239  \n",
       "7970                0    3307  \n",
       "7974                1    3249  \n",
       "\n",
       "[2437 rows x 24 columns]"
      ]
     },
     "execution_count": 35,
     "metadata": {},
     "output_type": "execute_result"
    }
   ],
   "source": [
    "df.loc[df['WORK_CITY'] == '.']"
   ]
  },
  {
   "cell_type": "code",
   "execution_count": 36,
   "id": "dfb524a9",
   "metadata": {
    "execution": {
     "iopub.execute_input": "2022-01-18T23:06:50.537779Z",
     "iopub.status.busy": "2022-01-18T23:06:50.536804Z",
     "iopub.status.idle": "2022-01-18T23:06:50.569980Z",
     "shell.execute_reply": "2022-01-18T23:06:50.570566Z",
     "shell.execute_reply.started": "2022-01-18T22:38:29.378865Z"
    },
    "papermill": {
     "duration": 0.116607,
     "end_time": "2022-01-18T23:06:50.570774",
     "exception": false,
     "start_time": "2022-01-18T23:06:50.454167",
     "status": "completed"
    },
    "tags": []
   },
   "outputs": [
    {
     "data": {
      "text/plain": [
       "(61173, 24)"
      ]
     },
     "execution_count": 36,
     "metadata": {},
     "output_type": "execute_result"
    }
   ],
   "source": [
    "index1=df['WORK_CITY'] !='.'\n",
    "index2=df['WORK_PROVINCE'] !='.'\n",
    "df2=df[index1|index2]\n",
    "df2.shape"
   ]
  },
  {
   "cell_type": "code",
   "execution_count": 37,
   "id": "11bdbc16",
   "metadata": {
    "execution": {
     "iopub.execute_input": "2022-01-18T23:06:50.734014Z",
     "iopub.status.busy": "2022-01-18T23:06:50.732847Z",
     "iopub.status.idle": "2022-01-18T23:06:50.738833Z",
     "shell.execute_reply": "2022-01-18T23:06:50.739410Z",
     "shell.execute_reply.started": "2022-01-18T22:39:01.600737Z"
    },
    "papermill": {
     "duration": 0.089271,
     "end_time": "2022-01-18T23:06:50.739605",
     "exception": false,
     "start_time": "2022-01-18T23:06:50.650334",
     "status": "completed"
    },
    "tags": []
   },
   "outputs": [
    {
     "data": {
      "text/plain": [
       "(62988, 24)"
      ]
     },
     "execution_count": 37,
     "metadata": {},
     "output_type": "execute_result"
    }
   ],
   "source": [
    "df.shape"
   ]
  },
  {
   "cell_type": "code",
   "execution_count": 38,
   "id": "20b3e928",
   "metadata": {
    "execution": {
     "iopub.execute_input": "2022-01-18T23:06:50.904770Z",
     "iopub.status.busy": "2022-01-18T23:06:50.903733Z",
     "iopub.status.idle": "2022-01-18T23:06:50.957752Z",
     "shell.execute_reply": "2022-01-18T23:06:50.958253Z",
     "shell.execute_reply.started": "2022-01-18T22:39:35.219251Z"
    },
    "papermill": {
     "duration": 0.138484,
     "end_time": "2022-01-18T23:06:50.958454",
     "exception": false,
     "start_time": "2022-01-18T23:06:50.819970",
     "status": "completed"
    },
    "tags": []
   },
   "outputs": [
    {
     "data": {
      "text/plain": [
       "MEMBER_NO            0\n",
       "FFP_DATE             0\n",
       "FIRST_FLIGHT_DATE    0\n",
       "GENDER               0\n",
       "FFP_TIER             0\n",
       "WORK_CITY            0\n",
       "WORK_PROVINCE        0\n",
       "WORK_COUNTRY         0\n",
       "AGE                  0\n",
       "LOAD_TIME            0\n",
       "FLIGHT_COUNT         0\n",
       "BP_SUM               0\n",
       "SUM_YR_1             0\n",
       "SUM_YR_2             0\n",
       "SEG_KM_SUM           0\n",
       "LAST_FLIGHT_DATE     0\n",
       "LAST_TO_END          0\n",
       "AVG_INTERVAL         0\n",
       "MAX_INTERVAL         0\n",
       "EXCHANGE_COUNT       0\n",
       "avg_discount         0\n",
       "Points_Sum           0\n",
       "Point_NotFlight      0\n",
       "LENGTH               0\n",
       "dtype: int64"
      ]
     },
     "execution_count": 38,
     "metadata": {},
     "output_type": "execute_result"
    }
   ],
   "source": [
    "df.isnull().sum()"
   ]
  },
  {
   "cell_type": "code",
   "execution_count": 39,
   "id": "c7b7b07a",
   "metadata": {
    "execution": {
     "iopub.execute_input": "2022-01-18T23:06:51.123998Z",
     "iopub.status.busy": "2022-01-18T23:06:51.123317Z",
     "iopub.status.idle": "2022-01-18T23:06:51.137378Z",
     "shell.execute_reply": "2022-01-18T23:06:51.137995Z",
     "shell.execute_reply.started": "2022-01-18T22:39:54.189664Z"
    },
    "papermill": {
     "duration": 0.099479,
     "end_time": "2022-01-18T23:06:51.138198",
     "exception": false,
     "start_time": "2022-01-18T23:06:51.038719",
     "status": "completed"
    },
    "tags": []
   },
   "outputs": [],
   "source": [
    "df_=df.copy()"
   ]
  },
  {
   "cell_type": "code",
   "execution_count": 40,
   "id": "20995cec",
   "metadata": {
    "execution": {
     "iopub.execute_input": "2022-01-18T23:06:51.303313Z",
     "iopub.status.busy": "2022-01-18T23:06:51.302358Z",
     "iopub.status.idle": "2022-01-18T23:06:51.314934Z",
     "shell.execute_reply": "2022-01-18T23:06:51.315462Z",
     "shell.execute_reply.started": "2022-01-18T22:40:17.858480Z"
    },
    "papermill": {
     "duration": 0.096795,
     "end_time": "2022-01-18T23:06:51.315661",
     "exception": false,
     "start_time": "2022-01-18T23:06:51.218866",
     "status": "completed"
    },
    "tags": []
   },
   "outputs": [],
   "source": [
    "df_lrfmc=df[['MEMBER_NO','LENGTH','LAST_TO_END','FLIGHT_COUNT','SEG_KM_SUM','avg_discount']]\n",
    "df_lrfmc.columns = ['MEMBER_NO','L','R','F','M','C']\n",
    "df_lrfmc_drop=df_lrfmc[['L','R','F','M','C']]"
   ]
  },
  {
   "cell_type": "code",
   "execution_count": 41,
   "id": "a69028fb",
   "metadata": {
    "execution": {
     "iopub.execute_input": "2022-01-18T23:06:51.481289Z",
     "iopub.status.busy": "2022-01-18T23:06:51.480612Z",
     "iopub.status.idle": "2022-01-18T23:06:51.490503Z",
     "shell.execute_reply": "2022-01-18T23:06:51.491131Z",
     "shell.execute_reply.started": "2022-01-18T22:40:26.442183Z"
    },
    "papermill": {
     "duration": 0.094472,
     "end_time": "2022-01-18T23:06:51.491298",
     "exception": false,
     "start_time": "2022-01-18T23:06:51.396826",
     "status": "completed"
    },
    "tags": []
   },
   "outputs": [
    {
     "data": {
      "text/html": [
       "<div>\n",
       "<style scoped>\n",
       "    .dataframe tbody tr th:only-of-type {\n",
       "        vertical-align: middle;\n",
       "    }\n",
       "\n",
       "    .dataframe tbody tr th {\n",
       "        vertical-align: top;\n",
       "    }\n",
       "\n",
       "    .dataframe thead th {\n",
       "        text-align: right;\n",
       "    }\n",
       "</style>\n",
       "<table border=\"1\" class=\"dataframe\">\n",
       "  <thead>\n",
       "    <tr style=\"text-align: right;\">\n",
       "      <th></th>\n",
       "      <th>L</th>\n",
       "      <th>R</th>\n",
       "      <th>F</th>\n",
       "      <th>M</th>\n",
       "      <th>C</th>\n",
       "    </tr>\n",
       "  </thead>\n",
       "  <tbody>\n",
       "    <tr>\n",
       "      <th>0</th>\n",
       "      <td>2706</td>\n",
       "      <td>1</td>\n",
       "      <td>210</td>\n",
       "      <td>580717</td>\n",
       "      <td>0.961639</td>\n",
       "    </tr>\n",
       "    <tr>\n",
       "      <th>1</th>\n",
       "      <td>2597</td>\n",
       "      <td>7</td>\n",
       "      <td>140</td>\n",
       "      <td>293678</td>\n",
       "      <td>1.252314</td>\n",
       "    </tr>\n",
       "    <tr>\n",
       "      <th>2</th>\n",
       "      <td>2615</td>\n",
       "      <td>11</td>\n",
       "      <td>135</td>\n",
       "      <td>283712</td>\n",
       "      <td>1.254676</td>\n",
       "    </tr>\n",
       "    <tr>\n",
       "      <th>3</th>\n",
       "      <td>2047</td>\n",
       "      <td>97</td>\n",
       "      <td>23</td>\n",
       "      <td>281336</td>\n",
       "      <td>1.090870</td>\n",
       "    </tr>\n",
       "    <tr>\n",
       "      <th>4</th>\n",
       "      <td>1816</td>\n",
       "      <td>5</td>\n",
       "      <td>152</td>\n",
       "      <td>309928</td>\n",
       "      <td>0.970658</td>\n",
       "    </tr>\n",
       "  </tbody>\n",
       "</table>\n",
       "</div>"
      ],
      "text/plain": [
       "      L   R    F       M         C\n",
       "0  2706   1  210  580717  0.961639\n",
       "1  2597   7  140  293678  1.252314\n",
       "2  2615  11  135  283712  1.254676\n",
       "3  2047  97   23  281336  1.090870\n",
       "4  1816   5  152  309928  0.970658"
      ]
     },
     "execution_count": 41,
     "metadata": {},
     "output_type": "execute_result"
    }
   ],
   "source": [
    "df_lrfmc_drop.head()"
   ]
  },
  {
   "cell_type": "code",
   "execution_count": 42,
   "id": "ae231134",
   "metadata": {
    "execution": {
     "iopub.execute_input": "2022-01-18T23:06:51.658383Z",
     "iopub.status.busy": "2022-01-18T23:06:51.657369Z",
     "iopub.status.idle": "2022-01-18T23:06:52.292348Z",
     "shell.execute_reply": "2022-01-18T23:06:52.292959Z",
     "shell.execute_reply.started": "2022-01-18T22:40:46.839401Z"
    },
    "papermill": {
     "duration": 0.719779,
     "end_time": "2022-01-18T23:06:52.293126",
     "exception": false,
     "start_time": "2022-01-18T23:06:51.573347",
     "status": "completed"
    },
    "tags": []
   },
   "outputs": [
    {
     "data": {
      "image/png": "[encoded data removed]",
      "text/plain": [
       "<Figure size 1800x288 with 5 Axes>"
      ]
     },
     "metadata": {
      "needs_background": "light"
     },
     "output_type": "display_data"
    }
   ],
   "source": [
    "LRFM=['L','R','F','M','C']\n",
    "def dist_list(lst):\n",
    "    plt.figure(figsize=[len(lst)*5,4])\n",
    "    i = 1\n",
    "    for col in lst:\n",
    "        ax = plt.subplot(1,len(lst),i)\n",
    "        sns.boxplot(df_lrfmc_drop[col])\n",
    "        plt.title(col)\n",
    "        i = i+1     \n",
    "dist_list(LRFM)"
   ]
  },
  {
   "cell_type": "code",
   "execution_count": 43,
   "id": "4f80dd31",
   "metadata": {
    "execution": {
     "iopub.execute_input": "2022-01-18T23:06:52.460618Z",
     "iopub.status.busy": "2022-01-18T23:06:52.459951Z",
     "iopub.status.idle": "2022-01-18T23:06:52.464743Z",
     "shell.execute_reply": "2022-01-18T23:06:52.465267Z",
     "shell.execute_reply.started": "2022-01-18T22:41:06.473839Z"
    },
    "papermill": {
     "duration": 0.09144,
     "end_time": "2022-01-18T23:06:52.465432",
     "exception": false,
     "start_time": "2022-01-18T23:06:52.373992",
     "status": "completed"
    },
    "tags": []
   },
   "outputs": [],
   "source": [
    "rfm_log=df_lrfmc_drop.copy()"
   ]
  },
  {
   "cell_type": "code",
   "execution_count": 44,
   "id": "c02638b9",
   "metadata": {
    "execution": {
     "iopub.execute_input": "2022-01-18T23:06:52.632758Z",
     "iopub.status.busy": "2022-01-18T23:06:52.632055Z",
     "iopub.status.idle": "2022-01-18T23:06:52.658566Z",
     "shell.execute_reply": "2022-01-18T23:06:52.659125Z",
     "shell.execute_reply.started": "2022-01-18T22:41:22.393543Z"
    },
    "papermill": {
     "duration": 0.111865,
     "end_time": "2022-01-18T23:06:52.659297",
     "exception": false,
     "start_time": "2022-01-18T23:06:52.547432",
     "status": "completed"
    },
    "tags": []
   },
   "outputs": [],
   "source": [
    "cols=['R','F','M','C']\n",
    "for col in cols:\n",
    "    high_cut = rfm_log[col].quantile(q=0.99)\n",
    "    low_cut=rfm_log[col].quantile(q=0.01)\n",
    "    rfm_log.loc[rfm_log[col]>high_cut,col]=high_cut\n",
    "    rfm_log.loc[rfm_log[col]<low_cut,col]=low_cut"
   ]
  },
  {
   "cell_type": "code",
   "execution_count": 45,
   "id": "4cc1cddb",
   "metadata": {
    "execution": {
     "iopub.execute_input": "2022-01-18T23:06:52.826409Z",
     "iopub.status.busy": "2022-01-18T23:06:52.825707Z",
     "iopub.status.idle": "2022-01-18T23:06:53.478083Z",
     "shell.execute_reply": "2022-01-18T23:06:53.478579Z",
     "shell.execute_reply.started": "2022-01-18T22:41:39.702397Z"
    },
    "papermill": {
     "duration": 0.738377,
     "end_time": "2022-01-18T23:06:53.478768",
     "exception": false,
     "start_time": "2022-01-18T23:06:52.740391",
     "status": "completed"
    },
    "tags": []
   },
   "outputs": [
    {
     "data": {
      "image/png": "[encoded data removed]",
      "text/plain": [
       "<Figure size 1800x288 with 5 Axes>"
      ]
     },
     "metadata": {
      "needs_background": "light"
     },
     "output_type": "display_data"
    }
   ],
   "source": [
    "LRFM=['L','R','F','M','C']\n",
    "def dist_list(lst):\n",
    "    plt.figure(figsize=[len(lst)*5,4])\n",
    "    i = 1\n",
    "    for col in lst:\n",
    "        ax = plt.subplot(1,len(lst),i)\n",
    "        sns.boxplot(rfm_log[col])\n",
    "        plt.title(col)\n",
    "        i = i+1\n",
    "        \n",
    "dist_list(LRFM)"
   ]
  },
  {
   "cell_type": "code",
   "execution_count": 46,
   "id": "76dfcb6e",
   "metadata": {
    "execution": {
     "iopub.execute_input": "2022-01-18T23:06:53.647060Z",
     "iopub.status.busy": "2022-01-18T23:06:53.646306Z",
     "iopub.status.idle": "2022-01-18T23:06:53.650532Z",
     "shell.execute_reply": "2022-01-18T23:06:53.651075Z",
     "shell.execute_reply.started": "2022-01-18T22:41:53.412810Z"
    },
    "papermill": {
     "duration": 0.090604,
     "end_time": "2022-01-18T23:06:53.651234",
     "exception": false,
     "start_time": "2022-01-18T23:06:53.560630",
     "status": "completed"
    },
    "tags": []
   },
   "outputs": [
    {
     "data": {
      "text/plain": [
       "(62988, 5)"
      ]
     },
     "execution_count": 46,
     "metadata": {},
     "output_type": "execute_result"
    }
   ],
   "source": [
    "rfm_log.shape"
   ]
  },
  {
   "cell_type": "code",
   "execution_count": 47,
   "id": "266e287f",
   "metadata": {
    "execution": {
     "iopub.execute_input": "2022-01-18T23:06:53.820058Z",
     "iopub.status.busy": "2022-01-18T23:06:53.819367Z",
     "iopub.status.idle": "2022-01-18T23:06:53.823101Z",
     "shell.execute_reply": "2022-01-18T23:06:53.823557Z",
     "shell.execute_reply.started": "2022-01-18T22:42:15.397668Z"
    },
    "papermill": {
     "duration": 0.090174,
     "end_time": "2022-01-18T23:06:53.823757",
     "exception": false,
     "start_time": "2022-01-18T23:06:53.733583",
     "status": "completed"
    },
    "tags": []
   },
   "outputs": [],
   "source": [
    "from sklearn.preprocessing import MinMaxScaler"
   ]
  },
  {
   "cell_type": "code",
   "execution_count": 48,
   "id": "a01aaca6",
   "metadata": {
    "execution": {
     "iopub.execute_input": "2022-01-18T23:06:53.995116Z",
     "iopub.status.busy": "2022-01-18T23:06:53.994340Z",
     "iopub.status.idle": "2022-01-18T23:06:54.006021Z",
     "shell.execute_reply": "2022-01-18T23:06:54.006711Z",
     "shell.execute_reply.started": "2022-01-18T22:42:16.864221Z"
    },
    "papermill": {
     "duration": 0.100043,
     "end_time": "2022-01-18T23:06:54.006933",
     "exception": false,
     "start_time": "2022-01-18T23:06:53.906890",
     "status": "completed"
    },
    "tags": []
   },
   "outputs": [],
   "source": [
    "df_std=rfm_log\n",
    "scale = MinMaxScaler()\n",
    "kolom_all = [x for x in df_std.columns]\n",
    "for kolom in kolom_all:\n",
    "  df_std[kolom] = scale.fit_transform(np.array(df_std[kolom]).reshape(-1,1))"
   ]
  },
  {
   "cell_type": "code",
   "execution_count": 49,
   "id": "e87e48e5",
   "metadata": {
    "execution": {
     "iopub.execute_input": "2022-01-18T23:06:54.203557Z",
     "iopub.status.busy": "2022-01-18T23:06:54.202912Z",
     "iopub.status.idle": "2022-01-18T23:06:54.214140Z",
     "shell.execute_reply": "2022-01-18T23:06:54.214805Z",
     "shell.execute_reply.started": "2022-01-18T22:42:34.042938Z"
    },
    "papermill": {
     "duration": 0.115969,
     "end_time": "2022-01-18T23:06:54.214995",
     "exception": false,
     "start_time": "2022-01-18T23:06:54.099026",
     "status": "completed"
    },
    "tags": []
   },
   "outputs": [
    {
     "data": {
      "text/html": [
       "<div>\n",
       "<style scoped>\n",
       "    .dataframe tbody tr th:only-of-type {\n",
       "        vertical-align: middle;\n",
       "    }\n",
       "\n",
       "    .dataframe tbody tr th {\n",
       "        vertical-align: top;\n",
       "    }\n",
       "\n",
       "    .dataframe thead th {\n",
       "        text-align: right;\n",
       "    }\n",
       "</style>\n",
       "<table border=\"1\" class=\"dataframe\">\n",
       "  <thead>\n",
       "    <tr style=\"text-align: right;\">\n",
       "      <th></th>\n",
       "      <th>L</th>\n",
       "      <th>R</th>\n",
       "      <th>F</th>\n",
       "      <th>M</th>\n",
       "      <th>C</th>\n",
       "    </tr>\n",
       "  </thead>\n",
       "  <tbody>\n",
       "    <tr>\n",
       "      <th>0</th>\n",
       "      <td>0.762044</td>\n",
       "      <td>0.000000</td>\n",
       "      <td>1.000000</td>\n",
       "      <td>1.0</td>\n",
       "      <td>0.583012</td>\n",
       "    </tr>\n",
       "    <tr>\n",
       "      <th>1</th>\n",
       "      <td>0.726562</td>\n",
       "      <td>0.008746</td>\n",
       "      <td>1.000000</td>\n",
       "      <td>1.0</td>\n",
       "      <td>0.853348</td>\n",
       "    </tr>\n",
       "    <tr>\n",
       "      <th>2</th>\n",
       "      <td>0.732422</td>\n",
       "      <td>0.014577</td>\n",
       "      <td>1.000000</td>\n",
       "      <td>1.0</td>\n",
       "      <td>0.855544</td>\n",
       "    </tr>\n",
       "    <tr>\n",
       "      <th>3</th>\n",
       "      <td>0.547526</td>\n",
       "      <td>0.139942</td>\n",
       "      <td>0.313433</td>\n",
       "      <td>1.0</td>\n",
       "      <td>0.703200</td>\n",
       "    </tr>\n",
       "    <tr>\n",
       "      <th>4</th>\n",
       "      <td>0.472331</td>\n",
       "      <td>0.005831</td>\n",
       "      <td>1.000000</td>\n",
       "      <td>1.0</td>\n",
       "      <td>0.591400</td>\n",
       "    </tr>\n",
       "  </tbody>\n",
       "</table>\n",
       "</div>"
      ],
      "text/plain": [
       "          L         R         F    M         C\n",
       "0  0.762044  0.000000  1.000000  1.0  0.583012\n",
       "1  0.726562  0.008746  1.000000  1.0  0.853348\n",
       "2  0.732422  0.014577  1.000000  1.0  0.855544\n",
       "3  0.547526  0.139942  0.313433  1.0  0.703200\n",
       "4  0.472331  0.005831  1.000000  1.0  0.591400"
      ]
     },
     "execution_count": 49,
     "metadata": {},
     "output_type": "execute_result"
    }
   ],
   "source": [
    "df_std.head()"
   ]
  },
  {
   "cell_type": "markdown",
   "id": "1cfe5681",
   "metadata": {
    "papermill": {
     "duration": 0.083046,
     "end_time": "2022-01-18T23:06:54.380354",
     "exception": false,
     "start_time": "2022-01-18T23:06:54.297308",
     "status": "completed"
    },
    "tags": []
   },
   "source": [
    "Elbow"
   ]
  },
  {
   "cell_type": "code",
   "execution_count": 50,
   "id": "ed6eb62f",
   "metadata": {
    "execution": {
     "iopub.execute_input": "2022-01-18T23:06:54.547340Z",
     "iopub.status.busy": "2022-01-18T23:06:54.546745Z",
     "iopub.status.idle": "2022-01-18T23:07:38.885717Z",
     "shell.execute_reply": "2022-01-18T23:07:38.886297Z",
     "shell.execute_reply.started": "2022-01-18T22:43:27.951315Z"
    },
    "papermill": {
     "duration": 44.424274,
     "end_time": "2022-01-18T23:07:38.886497",
     "exception": false,
     "start_time": "2022-01-18T23:06:54.462223",
     "status": "completed"
    },
    "tags": []
   },
   "outputs": [
    {
     "data": {
      "image/png": "[encoded data removed]",
      "text/plain": [
       "<Figure size 720x432 with 1 Axes>"
      ]
     },
     "metadata": {
      "needs_background": "light"
     },
     "output_type": "display_data"
    }
   ],
   "source": [
    "from sklearn.cluster import KMeans\n",
    "ks = range(1,11)\n",
    "inertias=[]\n",
    "for k in ks :\n",
    "    kc = KMeans(n_clusters=k,random_state=142)\n",
    "    kc.fit(df_std)\n",
    "    cluster = kc.fit_predict(df_std)\n",
    "    inertias.append(kc.inertia_)\n",
    "# Plot ks vs inertias\n",
    "f, ax = plt.subplots(figsize=(10, 6))\n",
    "plt.plot(ks, inertias, '-o')\n",
    "plt.xlabel('Number of clusters, k')\n",
    "plt.ylabel('inertia')\n",
    "plt.xticks(ks)\n",
    "plt.style.use('ggplot')\n",
    "plt.title('What is the Best Number for KMeans ?')\n",
    "plt.show()"
   ]
  },
  {
   "cell_type": "markdown",
   "id": "b84d6d12",
   "metadata": {
    "papermill": {
     "duration": 0.103863,
     "end_time": "2022-01-18T23:07:39.091860",
     "exception": false,
     "start_time": "2022-01-18T23:07:38.987997",
     "status": "completed"
    },
    "tags": []
   },
   "source": [
    "Silhoutte to get best number for K Means"
   ]
  },
  {
   "cell_type": "code",
   "execution_count": 51,
   "id": "7168d8c9",
   "metadata": {
    "execution": {
     "iopub.execute_input": "2022-01-18T23:07:39.301409Z",
     "iopub.status.busy": "2022-01-18T23:07:39.300621Z",
     "iopub.status.idle": "2022-01-18T23:07:39.302602Z",
     "shell.execute_reply": "2022-01-18T23:07:39.302045Z",
     "shell.execute_reply.started": "2022-01-18T22:44:18.041045Z"
    },
    "papermill": {
     "duration": 0.108921,
     "end_time": "2022-01-18T23:07:39.302761",
     "exception": false,
     "start_time": "2022-01-18T23:07:39.193840",
     "status": "completed"
    },
    "tags": []
   },
   "outputs": [],
   "source": [
    "from sklearn.metrics import silhouette_score"
   ]
  },
  {
   "cell_type": "code",
   "execution_count": 52,
   "id": "70f568aa",
   "metadata": {
    "execution": {
     "iopub.execute_input": "2022-01-18T23:07:39.522032Z",
     "iopub.status.busy": "2022-01-18T23:07:39.521049Z",
     "iopub.status.idle": "2022-01-18T23:18:49.265562Z",
     "shell.execute_reply": "2022-01-18T23:18:49.266097Z",
     "shell.execute_reply.started": "2022-01-18T22:44:22.372131Z"
    },
    "papermill": {
     "duration": 669.863145,
     "end_time": "2022-01-18T23:18:49.266277",
     "exception": false,
     "start_time": "2022-01-18T23:07:39.403132",
     "status": "completed"
    },
    "tags": []
   },
   "outputs": [
    {
     "name": "stdout",
     "output_type": "stream",
     "text": [
      "For n_clusters = 2. The average silhouette_score is : 0.1837525450141846\n",
      "For n_clusters = 3. The average silhouette_score is : 0.21399212497266146\n",
      "For n_clusters = 4. The average silhouette_score is : 0.23624541134941868\n",
      "For n_clusters = 5. The average silhouette_score is : 0.21164811893485042\n"
     ]
    }
   ],
   "source": [
    "for n_clusters in range(2,6):\n",
    "    clusterer = KMeans(n_clusters=n_clusters,init='k-means++',max_iter=300, random_state=142).fit(df_std)\n",
    "    preds = clusterer.predict(df_std)\n",
    "\n",
    "    # TODO: Calculate the mean silhouette coefficient for the number of clusters chosen\n",
    "    score = silhouette_score(df_std, preds, metric='mahalanobis')\n",
    "    print (\"For n_clusters = {}. The average silhouette_score is : {}\".format(n_clusters, score))"
   ]
  },
  {
   "cell_type": "code",
   "execution_count": 53,
   "id": "2e01e168",
   "metadata": {
    "execution": {
     "iopub.execute_input": "2022-01-18T23:18:49.444573Z",
     "iopub.status.busy": "2022-01-18T23:18:49.443844Z",
     "iopub.status.idle": "2022-01-18T23:18:51.122360Z",
     "shell.execute_reply": "2022-01-18T23:18:51.122920Z",
     "shell.execute_reply.started": "2022-01-18T22:53:43.432385Z"
    },
    "papermill": {
     "duration": 1.771681,
     "end_time": "2022-01-18T23:18:51.123095",
     "exception": false,
     "start_time": "2022-01-18T23:18:49.351414",
     "status": "completed"
    },
    "tags": []
   },
   "outputs": [],
   "source": [
    "kc = KMeans(init='k-means++',n_clusters= 4, random_state=142)\n",
    "kc.fit(df_std)\n",
    "cluster_labels = kc.labels_\n",
    "\n",
    "data_c = df_std.assign(K_Cluster = cluster_labels)\n",
    "data_label=df_lrfmc.assign(K_Cluster = cluster_labels)"
   ]
  },
  {
   "cell_type": "code",
   "execution_count": 54,
   "id": "159e6fd6",
   "metadata": {
    "execution": {
     "iopub.execute_input": "2022-01-18T23:18:51.338527Z",
     "iopub.status.busy": "2022-01-18T23:18:51.337806Z",
     "iopub.status.idle": "2022-01-18T23:18:51.347241Z",
     "shell.execute_reply": "2022-01-18T23:18:51.348218Z",
     "shell.execute_reply.started": "2022-01-18T22:53:48.865089Z"
    },
    "papermill": {
     "duration": 0.12277,
     "end_time": "2022-01-18T23:18:51.348410",
     "exception": false,
     "start_time": "2022-01-18T23:18:51.225640",
     "status": "completed"
    },
    "tags": []
   },
   "outputs": [],
   "source": [
    "data_f=data_c.groupby('K_Cluster').mean()\n",
    "data_f['count']=pd.value_counts(data_c['K_Cluster'])"
   ]
  },
  {
   "cell_type": "code",
   "execution_count": 55,
   "id": "2b6b9294",
   "metadata": {
    "execution": {
     "iopub.execute_input": "2022-01-18T23:18:51.569032Z",
     "iopub.status.busy": "2022-01-18T23:18:51.568332Z",
     "iopub.status.idle": "2022-01-18T23:18:51.574668Z",
     "shell.execute_reply": "2022-01-18T23:18:51.575188Z",
     "shell.execute_reply.started": "2022-01-18T22:53:51.258422Z"
    },
    "papermill": {
     "duration": 0.122416,
     "end_time": "2022-01-18T23:18:51.575375",
     "exception": false,
     "start_time": "2022-01-18T23:18:51.452959",
     "status": "completed"
    },
    "tags": []
   },
   "outputs": [
    {
     "data": {
      "text/html": [
       "<div>\n",
       "<style scoped>\n",
       "    .dataframe tbody tr th:only-of-type {\n",
       "        vertical-align: middle;\n",
       "    }\n",
       "\n",
       "    .dataframe tbody tr th {\n",
       "        vertical-align: top;\n",
       "    }\n",
       "\n",
       "    .dataframe thead th {\n",
       "        text-align: right;\n",
       "    }\n",
       "</style>\n",
       "<table border=\"1\" class=\"dataframe\">\n",
       "  <thead>\n",
       "    <tr style=\"text-align: right;\">\n",
       "      <th></th>\n",
       "      <th>L</th>\n",
       "      <th>R</th>\n",
       "      <th>F</th>\n",
       "      <th>M</th>\n",
       "      <th>C</th>\n",
       "      <th>count</th>\n",
       "    </tr>\n",
       "    <tr>\n",
       "      <th>K_Cluster</th>\n",
       "      <th></th>\n",
       "      <th></th>\n",
       "      <th></th>\n",
       "      <th></th>\n",
       "      <th></th>\n",
       "      <th></th>\n",
       "    </tr>\n",
       "  </thead>\n",
       "  <tbody>\n",
       "    <tr>\n",
       "      <th>0</th>\n",
       "      <td>0.686553</td>\n",
       "      <td>0.165493</td>\n",
       "      <td>0.117643</td>\n",
       "      <td>0.129448</td>\n",
       "      <td>0.367196</td>\n",
       "      <td>17026</td>\n",
       "    </tr>\n",
       "    <tr>\n",
       "      <th>1</th>\n",
       "      <td>0.173794</td>\n",
       "      <td>0.145339</td>\n",
       "      <td>0.110757</td>\n",
       "      <td>0.123556</td>\n",
       "      <td>0.343622</td>\n",
       "      <td>26760</td>\n",
       "    </tr>\n",
       "    <tr>\n",
       "      <th>2</th>\n",
       "      <td>0.270881</td>\n",
       "      <td>0.699174</td>\n",
       "      <td>0.028350</td>\n",
       "      <td>0.048863</td>\n",
       "      <td>0.354337</td>\n",
       "      <td>13022</td>\n",
       "    </tr>\n",
       "    <tr>\n",
       "      <th>3</th>\n",
       "      <td>0.501135</td>\n",
       "      <td>0.040548</td>\n",
       "      <td>0.601043</td>\n",
       "      <td>0.597678</td>\n",
       "      <td>0.420686</td>\n",
       "      <td>6180</td>\n",
       "    </tr>\n",
       "  </tbody>\n",
       "</table>\n",
       "</div>"
      ],
      "text/plain": [
       "                  L         R         F         M         C  count\n",
       "K_Cluster                                                         \n",
       "0          0.686553  0.165493  0.117643  0.129448  0.367196  17026\n",
       "1          0.173794  0.145339  0.110757  0.123556  0.343622  26760\n",
       "2          0.270881  0.699174  0.028350  0.048863  0.354337  13022\n",
       "3          0.501135  0.040548  0.601043  0.597678  0.420686   6180"
      ]
     },
     "execution_count": 55,
     "metadata": {},
     "output_type": "execute_result"
    }
   ],
   "source": [
    "data_f"
   ]
  },
  {
   "cell_type": "code",
   "execution_count": 56,
   "id": "4551c6db",
   "metadata": {
    "execution": {
     "iopub.execute_input": "2022-01-18T23:18:51.798583Z",
     "iopub.status.busy": "2022-01-18T23:18:51.797902Z",
     "iopub.status.idle": "2022-01-18T23:18:52.530800Z",
     "shell.execute_reply": "2022-01-18T23:18:52.531312Z",
     "shell.execute_reply.started": "2022-01-18T22:54:34.714117Z"
    },
    "papermill": {
     "duration": 0.852408,
     "end_time": "2022-01-18T23:18:52.531500",
     "exception": false,
     "start_time": "2022-01-18T23:18:51.679092",
     "status": "completed"
    },
    "tags": []
   },
   "outputs": [
    {
     "data": {
      "image/png": "[encoded data removed]",
      "text/plain": [
       "<Figure size 1800x144 with 5 Axes>"
      ]
     },
     "metadata": {},
     "output_type": "display_data"
    }
   ],
   "source": [
    "LRFM=['L','R','F','M','C']\n",
    "def dist_list(lst):\n",
    "    plt.figure(figsize=[len(lst)*5,2])\n",
    "    i = 1\n",
    "    cl = ['bgrcmykw'[c] for c in range(len('bgrcmykw'))]\n",
    "    for col in lst:\n",
    "        ax = plt.subplot(1,len(lst),i)\n",
    "        g = data_c.groupby('K_Cluster')\n",
    "        x = g[col].mean().index\n",
    "        y = g[col].mean().values\n",
    "        ax.barh(x,y,color=cl[i-1])\n",
    "        plt.title(col)\n",
    "        i = i+1\n",
    "        \n",
    "dist_list(LRFM)"
   ]
  },
  {
   "cell_type": "code",
   "execution_count": 57,
   "id": "4e0d4915",
   "metadata": {
    "execution": {
     "iopub.execute_input": "2022-01-18T23:18:52.709496Z",
     "iopub.status.busy": "2022-01-18T23:18:52.708839Z",
     "iopub.status.idle": "2022-01-18T23:18:54.676670Z",
     "shell.execute_reply": "2022-01-18T23:18:54.677319Z",
     "shell.execute_reply.started": "2022-01-18T22:54:37.903361Z"
    },
    "papermill": {
     "duration": 2.058421,
     "end_time": "2022-01-18T23:18:54.677510",
     "exception": false,
     "start_time": "2022-01-18T23:18:52.619089",
     "status": "completed"
    },
    "tags": []
   },
   "outputs": [],
   "source": [
    "from sklearn.mixture import GaussianMixture\n",
    "\n",
    "gmm = GaussianMixture(n_components=4, random_state=142, covariance_type='full').fit(df_std)\n",
    "prediction_gmm = gmm.predict(df_std)\n",
    "probs = gmm.predict_proba(df_std)\n",
    "data_d=df_std.assign(GMM_Cluster = prediction_gmm)\n",
    "data_labelg=df_lrfmc.assign(GMM_Cluster = prediction_gmm)"
   ]
  },
  {
   "cell_type": "code",
   "execution_count": 58,
   "id": "7894cc89",
   "metadata": {
    "execution": {
     "iopub.execute_input": "2022-01-18T23:18:54.908379Z",
     "iopub.status.busy": "2022-01-18T23:18:54.907441Z",
     "iopub.status.idle": "2022-01-18T23:18:54.922390Z",
     "shell.execute_reply": "2022-01-18T23:18:54.923034Z",
     "shell.execute_reply.started": "2022-01-18T22:54:42.282510Z"
    },
    "papermill": {
     "duration": 0.11137,
     "end_time": "2022-01-18T23:18:54.923213",
     "exception": false,
     "start_time": "2022-01-18T23:18:54.811843",
     "status": "completed"
    },
    "tags": []
   },
   "outputs": [
    {
     "data": {
      "text/html": [
       "<div>\n",
       "<style scoped>\n",
       "    .dataframe tbody tr th:only-of-type {\n",
       "        vertical-align: middle;\n",
       "    }\n",
       "\n",
       "    .dataframe tbody tr th {\n",
       "        vertical-align: top;\n",
       "    }\n",
       "\n",
       "    .dataframe thead th {\n",
       "        text-align: right;\n",
       "    }\n",
       "</style>\n",
       "<table border=\"1\" class=\"dataframe\">\n",
       "  <thead>\n",
       "    <tr style=\"text-align: right;\">\n",
       "      <th></th>\n",
       "      <th>L</th>\n",
       "      <th>R</th>\n",
       "      <th>F</th>\n",
       "      <th>M</th>\n",
       "      <th>C</th>\n",
       "      <th>count</th>\n",
       "    </tr>\n",
       "    <tr>\n",
       "      <th>GMM_Cluster</th>\n",
       "      <th></th>\n",
       "      <th></th>\n",
       "      <th></th>\n",
       "      <th></th>\n",
       "      <th></th>\n",
       "      <th></th>\n",
       "    </tr>\n",
       "  </thead>\n",
       "  <tbody>\n",
       "    <tr>\n",
       "      <th>0</th>\n",
       "      <td>0.328507</td>\n",
       "      <td>0.420856</td>\n",
       "      <td>0.019064</td>\n",
       "      <td>0.032900</td>\n",
       "      <td>0.344466</td>\n",
       "      <td>25567</td>\n",
       "    </tr>\n",
       "    <tr>\n",
       "      <th>1</th>\n",
       "      <td>0.617898</td>\n",
       "      <td>0.142260</td>\n",
       "      <td>0.137279</td>\n",
       "      <td>0.143353</td>\n",
       "      <td>0.393303</td>\n",
       "      <td>11498</td>\n",
       "    </tr>\n",
       "    <tr>\n",
       "      <th>2</th>\n",
       "      <td>0.154515</td>\n",
       "      <td>0.212818</td>\n",
       "      <td>0.126429</td>\n",
       "      <td>0.141083</td>\n",
       "      <td>0.335197</td>\n",
       "      <td>14573</td>\n",
       "    </tr>\n",
       "    <tr>\n",
       "      <th>3</th>\n",
       "      <td>0.458953</td>\n",
       "      <td>0.049785</td>\n",
       "      <td>0.453055</td>\n",
       "      <td>0.466507</td>\n",
       "      <td>0.391826</td>\n",
       "      <td>11350</td>\n",
       "    </tr>\n",
       "  </tbody>\n",
       "</table>\n",
       "</div>"
      ],
      "text/plain": [
       "                    L         R         F         M         C  count\n",
       "GMM_Cluster                                                         \n",
       "0            0.328507  0.420856  0.019064  0.032900  0.344466  25567\n",
       "1            0.617898  0.142260  0.137279  0.143353  0.393303  11498\n",
       "2            0.154515  0.212818  0.126429  0.141083  0.335197  14573\n",
       "3            0.458953  0.049785  0.453055  0.466507  0.391826  11350"
      ]
     },
     "execution_count": 58,
     "metadata": {},
     "output_type": "execute_result"
    }
   ],
   "source": [
    "data_g=data_d.groupby('GMM_Cluster').mean()\n",
    "data_g['count']=pd.value_counts(data_d['GMM_Cluster'])\n",
    "data_g"
   ]
  },
  {
   "cell_type": "code",
   "execution_count": 59,
   "id": "17f2f656",
   "metadata": {
    "execution": {
     "iopub.execute_input": "2022-01-18T23:18:55.111517Z",
     "iopub.status.busy": "2022-01-18T23:18:55.110820Z",
     "iopub.status.idle": "2022-01-18T23:18:55.775796Z",
     "shell.execute_reply": "2022-01-18T23:18:55.775197Z",
     "shell.execute_reply.started": "2022-01-18T22:54:44.830314Z"
    },
    "papermill": {
     "duration": 0.764958,
     "end_time": "2022-01-18T23:18:55.775961",
     "exception": false,
     "start_time": "2022-01-18T23:18:55.011003",
     "status": "completed"
    },
    "tags": []
   },
   "outputs": [
    {
     "data": {
      "image/png": "[encoded data removed]",
      "text/plain": [
       "<Figure size 1800x144 with 5 Axes>"
      ]
     },
     "metadata": {},
     "output_type": "display_data"
    }
   ],
   "source": [
    "LRFM=['L','R','F','M','C']\n",
    "def dist_list(lst):\n",
    "    plt.figure(figsize=[len(lst)*5,2])\n",
    "    i = 1\n",
    "    cl = ['bgrcmykw'[c] for c in range(len('bgrcmykw'))]\n",
    "    for col in lst:\n",
    "        ax = plt.subplot(1,len(lst),i)\n",
    "        g = data_d.groupby('GMM_Cluster')\n",
    "        x = g[col].mean().index\n",
    "        y = g[col].mean().values\n",
    "        ax.barh(x,y,color=cl[i-1])\n",
    "        plt.title(col)\n",
    "        i = i+1\n",
    "        \n",
    "dist_list(LRFM)"
   ]
  },
  {
   "cell_type": "code",
   "execution_count": 60,
   "id": "bc92eeda",
   "metadata": {
    "execution": {
     "iopub.execute_input": "2022-01-18T23:18:55.957733Z",
     "iopub.status.busy": "2022-01-18T23:18:55.957014Z",
     "iopub.status.idle": "2022-01-18T23:18:55.962302Z",
     "shell.execute_reply": "2022-01-18T23:18:55.962884Z",
     "shell.execute_reply.started": "2022-01-18T22:54:47.805505Z"
    },
    "papermill": {
     "duration": 0.098311,
     "end_time": "2022-01-18T23:18:55.963078",
     "exception": false,
     "start_time": "2022-01-18T23:18:55.864767",
     "status": "completed"
    },
    "tags": []
   },
   "outputs": [],
   "source": [
    "x=data_c.drop('K_Cluster', axis=1)"
   ]
  },
  {
   "cell_type": "code",
   "execution_count": 61,
   "id": "81df1a2d",
   "metadata": {
    "execution": {
     "iopub.execute_input": "2022-01-18T23:18:56.142550Z",
     "iopub.status.busy": "2022-01-18T23:18:56.141934Z",
     "iopub.status.idle": "2022-01-18T23:19:00.887827Z",
     "shell.execute_reply": "2022-01-18T23:19:00.888360Z",
     "shell.execute_reply.started": "2022-01-18T22:55:13.099505Z"
    },
    "papermill": {
     "duration": 4.836138,
     "end_time": "2022-01-18T23:19:00.888550",
     "exception": false,
     "start_time": "2022-01-18T23:18:56.052412",
     "status": "completed"
    },
    "tags": []
   },
   "outputs": [
    {
     "name": "stdout",
     "output_type": "stream",
     "text": [
      "CPU times: user 5.18 s, sys: 1.51 s, total: 6.69 s\n",
      "Wall time: 1.68 s\n"
     ]
    },
    {
     "data": {
      "image/png": "[encoded data removed]",
      "text/plain": [
       "<Figure size 720x576 with 1 Axes>"
      ]
     },
     "metadata": {},
     "output_type": "display_data"
    }
   ],
   "source": [
    "#kmeans\n",
    "from sklearn.cluster import KMeans\n",
    "from sklearn.decomposition import PCA\n",
    "n_clusters = 4\n",
    "sklearn_pca = PCA(n_components = 2)\n",
    "Y_sklearn = sklearn_pca.fit_transform(df_std)\n",
    "kmeans = KMeans(n_clusters= n_clusters, max_iter=600,random_state=150, algorithm = 'auto')\n",
    "\n",
    "%time fitted = kmeans.fit(Y_sklearn)\n",
    "prediction = kmeans.predict(Y_sklearn)\n",
    "df_pred=df.assign(K_Cluster = prediction)\n",
    "targets = [0, 1, 2,3]\n",
    "plt.figure(figsize = (10,8))\n",
    "plt.scatter(Y_sklearn[:, 0], Y_sklearn[:, 1],c=prediction ,s=50, cmap='viridis')\n",
    "centers2 = fitted.cluster_centers_\n",
    "plt.scatter(centers2[:, 0], centers2[:, 1],c='red', s=300, alpha=0.6);"
   ]
  },
  {
   "cell_type": "code",
   "execution_count": 62,
   "id": "a024f3ed",
   "metadata": {
    "execution": {
     "iopub.execute_input": "2022-01-18T23:19:01.077563Z",
     "iopub.status.busy": "2022-01-18T23:19:01.076232Z",
     "iopub.status.idle": "2022-01-18T23:19:01.092112Z",
     "shell.execute_reply": "2022-01-18T23:19:01.092655Z",
     "shell.execute_reply.started": "2022-01-18T22:55:32.162619Z"
    },
    "papermill": {
     "duration": 0.112626,
     "end_time": "2022-01-18T23:19:01.092885",
     "exception": false,
     "start_time": "2022-01-18T23:19:00.980259",
     "status": "completed"
    },
    "tags": []
   },
   "outputs": [],
   "source": [
    "data_labeling=df.assign(K_Cluster = cluster_labels)"
   ]
  },
  {
   "cell_type": "code",
   "execution_count": 63,
   "id": "bcf113d2",
   "metadata": {
    "execution": {
     "iopub.execute_input": "2022-01-18T23:19:01.279619Z",
     "iopub.status.busy": "2022-01-18T23:19:01.278721Z",
     "iopub.status.idle": "2022-01-18T23:19:05.819197Z",
     "shell.execute_reply": "2022-01-18T23:19:05.820016Z",
     "shell.execute_reply.started": "2022-01-18T22:56:13.457530Z"
    },
    "papermill": {
     "duration": 4.636179,
     "end_time": "2022-01-18T23:19:05.820273",
     "exception": false,
     "start_time": "2022-01-18T23:19:01.184094",
     "status": "completed"
    },
    "tags": []
   },
   "outputs": [],
   "source": [
    "cluster = [] \n",
    "for i, k in data_labeling.iterrows():\n",
    "    if k['K_Cluster'] == 0:\n",
    "        cluster_name = 'Potential'\n",
    "    elif k['K_Cluster'] == 3:\n",
    "        cluster_name = 'Loyal'\n",
    "    elif k['K_Cluster'] == 1:\n",
    "        cluster_name = 'Important'\n",
    "    else:\n",
    "        cluster_name = 'Low Value'\n",
    "    cluster.append(cluster_name)\n",
    "    \n",
    "data_labeling['cluster'] = cluster    \n",
    "data_label['cluster'] = cluster "
   ]
  },
  {
   "cell_type": "code",
   "execution_count": 64,
   "id": "27c8b4be",
   "metadata": {
    "execution": {
     "iopub.execute_input": "2022-01-18T23:19:06.007048Z",
     "iopub.status.busy": "2022-01-18T23:19:06.006064Z",
     "iopub.status.idle": "2022-01-18T23:19:06.043087Z",
     "shell.execute_reply": "2022-01-18T23:19:06.043601Z",
     "shell.execute_reply.started": "2022-01-18T22:56:26.311975Z"
    },
    "papermill": {
     "duration": 0.132204,
     "end_time": "2022-01-18T23:19:06.043824",
     "exception": false,
     "start_time": "2022-01-18T23:19:05.911620",
     "status": "completed"
    },
    "tags": []
   },
   "outputs": [
    {
     "data": {
      "text/html": [
       "<div>\n",
       "<style scoped>\n",
       "    .dataframe tbody tr th:only-of-type {\n",
       "        vertical-align: middle;\n",
       "    }\n",
       "\n",
       "    .dataframe tbody tr th {\n",
       "        vertical-align: top;\n",
       "    }\n",
       "\n",
       "    .dataframe thead th {\n",
       "        text-align: right;\n",
       "    }\n",
       "</style>\n",
       "<table border=\"1\" class=\"dataframe\">\n",
       "  <thead>\n",
       "    <tr style=\"text-align: right;\">\n",
       "      <th></th>\n",
       "      <th>MEMBER_NO</th>\n",
       "      <th>L</th>\n",
       "      <th>R</th>\n",
       "      <th>F</th>\n",
       "      <th>M</th>\n",
       "      <th>C</th>\n",
       "      <th>K_Cluster</th>\n",
       "      <th>count</th>\n",
       "    </tr>\n",
       "    <tr>\n",
       "      <th>cluster</th>\n",
       "      <th></th>\n",
       "      <th></th>\n",
       "      <th></th>\n",
       "      <th></th>\n",
       "      <th></th>\n",
       "      <th></th>\n",
       "      <th></th>\n",
       "      <th></th>\n",
       "    </tr>\n",
       "  </thead>\n",
       "  <tbody>\n",
       "    <tr>\n",
       "      <th>Important</th>\n",
       "      <td>32141.842152</td>\n",
       "      <td>898.894694</td>\n",
       "      <td>100.702504</td>\n",
       "      <td>9.420740</td>\n",
       "      <td>13501.490732</td>\n",
       "      <td>0.704081</td>\n",
       "      <td>1.0</td>\n",
       "      <td>26760</td>\n",
       "    </tr>\n",
       "    <tr>\n",
       "      <th>Low Value</th>\n",
       "      <td>31558.579558</td>\n",
       "      <td>1197.145293</td>\n",
       "      <td>481.540393</td>\n",
       "      <td>3.899478</td>\n",
       "      <td>6054.123176</td>\n",
       "      <td>0.715339</td>\n",
       "      <td>2.0</td>\n",
       "      <td>13022</td>\n",
       "    </tr>\n",
       "    <tr>\n",
       "      <th>Loyal</th>\n",
       "      <td>31349.337864</td>\n",
       "      <td>1904.485599</td>\n",
       "      <td>28.816019</td>\n",
       "      <td>44.435437</td>\n",
       "      <td>64496.903883</td>\n",
       "      <td>0.787684</td>\n",
       "      <td>3.0</td>\n",
       "      <td>6180</td>\n",
       "    </tr>\n",
       "    <tr>\n",
       "      <th>Potential</th>\n",
       "      <td>30480.743510</td>\n",
       "      <td>2474.090391</td>\n",
       "      <td>114.527899</td>\n",
       "      <td>9.882063</td>\n",
       "      <td>14088.530542</td>\n",
       "      <td>0.729780</td>\n",
       "      <td>0.0</td>\n",
       "      <td>17026</td>\n",
       "    </tr>\n",
       "  </tbody>\n",
       "</table>\n",
       "</div>"
      ],
      "text/plain": [
       "              MEMBER_NO            L           R          F             M  \\\n",
       "cluster                                                                     \n",
       "Important  32141.842152   898.894694  100.702504   9.420740  13501.490732   \n",
       "Low Value  31558.579558  1197.145293  481.540393   3.899478   6054.123176   \n",
       "Loyal      31349.337864  1904.485599   28.816019  44.435437  64496.903883   \n",
       "Potential  30480.743510  2474.090391  114.527899   9.882063  14088.530542   \n",
       "\n",
       "                  C  K_Cluster  count  \n",
       "cluster                                \n",
       "Important  0.704081        1.0  26760  \n",
       "Low Value  0.715339        2.0  13022  \n",
       "Loyal      0.787684        3.0   6180  \n",
       "Potential  0.729780        0.0  17026  "
      ]
     },
     "execution_count": 64,
     "metadata": {},
     "output_type": "execute_result"
    }
   ],
   "source": [
    "df_me=data_label.groupby(data_label['cluster']).mean()\n",
    "df_me['count']=pd.value_counts(data_label['cluster'])\n",
    "df_me"
   ]
  },
  {
   "cell_type": "code",
   "execution_count": 65,
   "id": "94ac8a39",
   "metadata": {
    "execution": {
     "iopub.execute_input": "2022-01-18T23:19:06.229523Z",
     "iopub.status.busy": "2022-01-18T23:19:06.228586Z",
     "iopub.status.idle": "2022-01-18T23:19:06.933763Z",
     "shell.execute_reply": "2022-01-18T23:19:06.933063Z",
     "shell.execute_reply.started": "2022-01-18T22:56:39.326460Z"
    },
    "papermill": {
     "duration": 0.799451,
     "end_time": "2022-01-18T23:19:06.933922",
     "exception": false,
     "start_time": "2022-01-18T23:19:06.134471",
     "status": "completed"
    },
    "tags": []
   },
   "outputs": [
    {
     "data": {
      "image/png": "[encoded data removed]",
      "text/plain": [
       "<Figure size 1800x144 with 5 Axes>"
      ]
     },
     "metadata": {},
     "output_type": "display_data"
    }
   ],
   "source": [
    "LRFM=['L','R','F','M','C']\n",
    "def dist_list(lst):\n",
    "    plt.figure(figsize=[len(lst)*5,2])\n",
    "    i = 1\n",
    "    cl = ['bgrcmykw'[c] for c in range(len('bgrcmykw'))]\n",
    "    for col in lst:\n",
    "        ax = plt.subplot(1,len(lst),i)\n",
    "        g = data_c.groupby('K_Cluster')\n",
    "        x = g[col].mean().index\n",
    "        y = g[col].mean().values\n",
    "        ax.barh(x,y,color=cl[i-1])\n",
    "        plt.title(col)\n",
    "        i = i+1\n",
    "        \n",
    "dist_list(LRFM)"
   ]
  },
  {
   "cell_type": "markdown",
   "id": "6247812a",
   "metadata": {
    "papermill": {
     "duration": 0.092937,
     "end_time": "2022-01-18T23:19:07.118997",
     "exception": false,
     "start_time": "2022-01-18T23:19:07.026060",
     "status": "completed"
    },
    "tags": []
   },
   "source": [
    "0 = Loyal\n",
    "1 = General & Low Value\n",
    "2 = Important\n",
    "3 = Potential"
   ]
  },
  {
   "cell_type": "code",
   "execution_count": 66,
   "id": "925c63e5",
   "metadata": {
    "execution": {
     "iopub.execute_input": "2022-01-18T23:19:07.311128Z",
     "iopub.status.busy": "2022-01-18T23:19:07.310109Z",
     "iopub.status.idle": "2022-01-18T23:19:07.346378Z",
     "shell.execute_reply": "2022-01-18T23:19:07.346904Z",
     "shell.execute_reply.started": "2022-01-18T22:59:29.530907Z"
    },
    "papermill": {
     "duration": 0.135516,
     "end_time": "2022-01-18T23:19:07.347095",
     "exception": false,
     "start_time": "2022-01-18T23:19:07.211579",
     "status": "completed"
    },
    "tags": []
   },
   "outputs": [
    {
     "data": {
      "text/html": [
       "<div>\n",
       "<style scoped>\n",
       "    .dataframe tbody tr th:only-of-type {\n",
       "        vertical-align: middle;\n",
       "    }\n",
       "\n",
       "    .dataframe tbody tr th {\n",
       "        vertical-align: top;\n",
       "    }\n",
       "\n",
       "    .dataframe thead th {\n",
       "        text-align: right;\n",
       "    }\n",
       "</style>\n",
       "<table border=\"1\" class=\"dataframe\">\n",
       "  <thead>\n",
       "    <tr style=\"text-align: right;\">\n",
       "      <th></th>\n",
       "      <th>MEMBER_NO</th>\n",
       "      <th>FFP_DATE</th>\n",
       "      <th>FIRST_FLIGHT_DATE</th>\n",
       "      <th>GENDER</th>\n",
       "      <th>FFP_TIER</th>\n",
       "      <th>WORK_CITY</th>\n",
       "      <th>WORK_PROVINCE</th>\n",
       "      <th>WORK_COUNTRY</th>\n",
       "      <th>AGE</th>\n",
       "      <th>LOAD_TIME</th>\n",
       "      <th>FLIGHT_COUNT</th>\n",
       "      <th>BP_SUM</th>\n",
       "      <th>SUM_YR_1</th>\n",
       "      <th>SUM_YR_2</th>\n",
       "      <th>SEG_KM_SUM</th>\n",
       "      <th>LAST_FLIGHT_DATE</th>\n",
       "      <th>LAST_TO_END</th>\n",
       "      <th>AVG_INTERVAL</th>\n",
       "      <th>MAX_INTERVAL</th>\n",
       "      <th>EXCHANGE_COUNT</th>\n",
       "      <th>avg_discount</th>\n",
       "      <th>Points_Sum</th>\n",
       "      <th>Point_NotFlight</th>\n",
       "      <th>LENGTH</th>\n",
       "      <th>K_Cluster</th>\n",
       "      <th>cluster</th>\n",
       "    </tr>\n",
       "  </thead>\n",
       "  <tbody>\n",
       "    <tr>\n",
       "      <th>0</th>\n",
       "      <td>54993</td>\n",
       "      <td>2006-11-02</td>\n",
       "      <td>12/24/2008</td>\n",
       "      <td>Male</td>\n",
       "      <td>6</td>\n",
       "      <td>.</td>\n",
       "      <td>beijing</td>\n",
       "      <td>CN</td>\n",
       "      <td>31.0</td>\n",
       "      <td>2014-03-31</td>\n",
       "      <td>210</td>\n",
       "      <td>505308</td>\n",
       "      <td>239560.000000</td>\n",
       "      <td>234188.0</td>\n",
       "      <td>580717</td>\n",
       "      <td>3/31/2014</td>\n",
       "      <td>1</td>\n",
       "      <td>3.483254</td>\n",
       "      <td>18</td>\n",
       "      <td>34</td>\n",
       "      <td>0.961639</td>\n",
       "      <td>619760</td>\n",
       "      <td>50</td>\n",
       "      <td>2706</td>\n",
       "      <td>3</td>\n",
       "      <td>Loyal</td>\n",
       "    </tr>\n",
       "    <tr>\n",
       "      <th>1</th>\n",
       "      <td>28065</td>\n",
       "      <td>2007-02-19</td>\n",
       "      <td>8/3/2007</td>\n",
       "      <td>Male</td>\n",
       "      <td>6</td>\n",
       "      <td>beijing</td>\n",
       "      <td>beijing</td>\n",
       "      <td>CN</td>\n",
       "      <td>42.0</td>\n",
       "      <td>2014-03-31</td>\n",
       "      <td>140</td>\n",
       "      <td>362480</td>\n",
       "      <td>171483.000000</td>\n",
       "      <td>167434.0</td>\n",
       "      <td>293678</td>\n",
       "      <td>3/25/2014</td>\n",
       "      <td>7</td>\n",
       "      <td>5.194245</td>\n",
       "      <td>17</td>\n",
       "      <td>29</td>\n",
       "      <td>1.252314</td>\n",
       "      <td>415768</td>\n",
       "      <td>33</td>\n",
       "      <td>2597</td>\n",
       "      <td>3</td>\n",
       "      <td>Loyal</td>\n",
       "    </tr>\n",
       "    <tr>\n",
       "      <th>2</th>\n",
       "      <td>55106</td>\n",
       "      <td>2007-02-01</td>\n",
       "      <td>8/30/2007</td>\n",
       "      <td>Male</td>\n",
       "      <td>6</td>\n",
       "      <td>.</td>\n",
       "      <td>beijing</td>\n",
       "      <td>CN</td>\n",
       "      <td>40.0</td>\n",
       "      <td>2014-03-31</td>\n",
       "      <td>135</td>\n",
       "      <td>351159</td>\n",
       "      <td>163618.000000</td>\n",
       "      <td>164982.0</td>\n",
       "      <td>283712</td>\n",
       "      <td>3/21/2014</td>\n",
       "      <td>11</td>\n",
       "      <td>5.298507</td>\n",
       "      <td>18</td>\n",
       "      <td>20</td>\n",
       "      <td>1.254676</td>\n",
       "      <td>406361</td>\n",
       "      <td>26</td>\n",
       "      <td>2615</td>\n",
       "      <td>3</td>\n",
       "      <td>Loyal</td>\n",
       "    </tr>\n",
       "    <tr>\n",
       "      <th>3</th>\n",
       "      <td>21189</td>\n",
       "      <td>2008-08-22</td>\n",
       "      <td>8/23/2008</td>\n",
       "      <td>Male</td>\n",
       "      <td>5</td>\n",
       "      <td>Los Angeles</td>\n",
       "      <td>CA</td>\n",
       "      <td>US</td>\n",
       "      <td>64.0</td>\n",
       "      <td>2014-03-31</td>\n",
       "      <td>23</td>\n",
       "      <td>337314</td>\n",
       "      <td>116350.000000</td>\n",
       "      <td>125500.0</td>\n",
       "      <td>281336</td>\n",
       "      <td>12/26/2013</td>\n",
       "      <td>97</td>\n",
       "      <td>27.863636</td>\n",
       "      <td>73</td>\n",
       "      <td>11</td>\n",
       "      <td>1.090870</td>\n",
       "      <td>372204</td>\n",
       "      <td>12</td>\n",
       "      <td>2047</td>\n",
       "      <td>3</td>\n",
       "      <td>Loyal</td>\n",
       "    </tr>\n",
       "    <tr>\n",
       "      <th>4</th>\n",
       "      <td>39546</td>\n",
       "      <td>2009-04-10</td>\n",
       "      <td>4/15/2009</td>\n",
       "      <td>Male</td>\n",
       "      <td>6</td>\n",
       "      <td>guiyang</td>\n",
       "      <td>guizhou</td>\n",
       "      <td>CN</td>\n",
       "      <td>48.0</td>\n",
       "      <td>2014-03-31</td>\n",
       "      <td>152</td>\n",
       "      <td>273844</td>\n",
       "      <td>124560.000000</td>\n",
       "      <td>130702.0</td>\n",
       "      <td>309928</td>\n",
       "      <td>3/27/2014</td>\n",
       "      <td>5</td>\n",
       "      <td>4.788079</td>\n",
       "      <td>47</td>\n",
       "      <td>27</td>\n",
       "      <td>0.970658</td>\n",
       "      <td>338813</td>\n",
       "      <td>39</td>\n",
       "      <td>1816</td>\n",
       "      <td>3</td>\n",
       "      <td>Loyal</td>\n",
       "    </tr>\n",
       "    <tr>\n",
       "      <th>...</th>\n",
       "      <td>...</td>\n",
       "      <td>...</td>\n",
       "      <td>...</td>\n",
       "      <td>...</td>\n",
       "      <td>...</td>\n",
       "      <td>...</td>\n",
       "      <td>...</td>\n",
       "      <td>...</td>\n",
       "      <td>...</td>\n",
       "      <td>...</td>\n",
       "      <td>...</td>\n",
       "      <td>...</td>\n",
       "      <td>...</td>\n",
       "      <td>...</td>\n",
       "      <td>...</td>\n",
       "      <td>...</td>\n",
       "      <td>...</td>\n",
       "      <td>...</td>\n",
       "      <td>...</td>\n",
       "      <td>...</td>\n",
       "      <td>...</td>\n",
       "      <td>...</td>\n",
       "      <td>...</td>\n",
       "      <td>...</td>\n",
       "      <td>...</td>\n",
       "      <td>...</td>\n",
       "    </tr>\n",
       "    <tr>\n",
       "      <th>7983</th>\n",
       "      <td>18375</td>\n",
       "      <td>2011-05-20</td>\n",
       "      <td>6/5/2013</td>\n",
       "      <td>Female</td>\n",
       "      <td>4</td>\n",
       "      <td>guangzhou</td>\n",
       "      <td>guangdong</td>\n",
       "      <td>CN</td>\n",
       "      <td>25.0</td>\n",
       "      <td>2014-03-31</td>\n",
       "      <td>2</td>\n",
       "      <td>0</td>\n",
       "      <td>0.000000</td>\n",
       "      <td>0.0</td>\n",
       "      <td>1134</td>\n",
       "      <td>6/9/2013</td>\n",
       "      <td>297</td>\n",
       "      <td>4.000000</td>\n",
       "      <td>4</td>\n",
       "      <td>1</td>\n",
       "      <td>0.000000</td>\n",
       "      <td>12318</td>\n",
       "      <td>22</td>\n",
       "      <td>1046</td>\n",
       "      <td>2</td>\n",
       "      <td>Low Value</td>\n",
       "    </tr>\n",
       "    <tr>\n",
       "      <th>7984</th>\n",
       "      <td>36041</td>\n",
       "      <td>2010-03-08</td>\n",
       "      <td>9/14/2013</td>\n",
       "      <td>Male</td>\n",
       "      <td>4</td>\n",
       "      <td>foshan</td>\n",
       "      <td>guangdong</td>\n",
       "      <td>CN</td>\n",
       "      <td>38.0</td>\n",
       "      <td>2014-03-31</td>\n",
       "      <td>4</td>\n",
       "      <td>0</td>\n",
       "      <td>0.000000</td>\n",
       "      <td>0.0</td>\n",
       "      <td>8016</td>\n",
       "      <td>1/3/2014</td>\n",
       "      <td>89</td>\n",
       "      <td>37.000000</td>\n",
       "      <td>60</td>\n",
       "      <td>14</td>\n",
       "      <td>0.000000</td>\n",
       "      <td>106972</td>\n",
       "      <td>43</td>\n",
       "      <td>1484</td>\n",
       "      <td>1</td>\n",
       "      <td>Important</td>\n",
       "    </tr>\n",
       "    <tr>\n",
       "      <th>7985</th>\n",
       "      <td>45690</td>\n",
       "      <td>2006-03-30</td>\n",
       "      <td>12/2/2006</td>\n",
       "      <td>Female</td>\n",
       "      <td>4</td>\n",
       "      <td>guangzhou</td>\n",
       "      <td>guangdong</td>\n",
       "      <td>CN</td>\n",
       "      <td>43.0</td>\n",
       "      <td>2014-03-31</td>\n",
       "      <td>2</td>\n",
       "      <td>0</td>\n",
       "      <td>0.000000</td>\n",
       "      <td>0.0</td>\n",
       "      <td>2594</td>\n",
       "      <td>3/3/2014</td>\n",
       "      <td>29</td>\n",
       "      <td>166.000000</td>\n",
       "      <td>166</td>\n",
       "      <td>0</td>\n",
       "      <td>0.000000</td>\n",
       "      <td>0</td>\n",
       "      <td>0</td>\n",
       "      <td>2923</td>\n",
       "      <td>0</td>\n",
       "      <td>Potential</td>\n",
       "    </tr>\n",
       "    <tr>\n",
       "      <th>7986</th>\n",
       "      <td>61027</td>\n",
       "      <td>2013-02-06</td>\n",
       "      <td>2/14/2013</td>\n",
       "      <td>Female</td>\n",
       "      <td>4</td>\n",
       "      <td>guangzhou</td>\n",
       "      <td>guangdong</td>\n",
       "      <td>CN</td>\n",
       "      <td>36.0</td>\n",
       "      <td>2014-03-31</td>\n",
       "      <td>2</td>\n",
       "      <td>0</td>\n",
       "      <td>0.000000</td>\n",
       "      <td>0.0</td>\n",
       "      <td>3934</td>\n",
       "      <td>2/26/2013</td>\n",
       "      <td>400</td>\n",
       "      <td>12.000000</td>\n",
       "      <td>12</td>\n",
       "      <td>0</td>\n",
       "      <td>0.000000</td>\n",
       "      <td>0</td>\n",
       "      <td>0</td>\n",
       "      <td>418</td>\n",
       "      <td>2</td>\n",
       "      <td>Low Value</td>\n",
       "    </tr>\n",
       "    <tr>\n",
       "      <th>7987</th>\n",
       "      <td>61340</td>\n",
       "      <td>2013-02-17</td>\n",
       "      <td>2/17/2013</td>\n",
       "      <td>Female</td>\n",
       "      <td>4</td>\n",
       "      <td>shanghai</td>\n",
       "      <td>.</td>\n",
       "      <td>CN</td>\n",
       "      <td>29.0</td>\n",
       "      <td>2014-03-31</td>\n",
       "      <td>2</td>\n",
       "      <td>0</td>\n",
       "      <td>5355.376064</td>\n",
       "      <td>0.0</td>\n",
       "      <td>4222</td>\n",
       "      <td>2/23/2013</td>\n",
       "      <td>403</td>\n",
       "      <td>6.000000</td>\n",
       "      <td>6</td>\n",
       "      <td>0</td>\n",
       "      <td>0.000000</td>\n",
       "      <td>0</td>\n",
       "      <td>0</td>\n",
       "      <td>407</td>\n",
       "      <td>2</td>\n",
       "      <td>Low Value</td>\n",
       "    </tr>\n",
       "  </tbody>\n",
       "</table>\n",
       "<p>62988 rows × 26 columns</p>\n",
       "</div>"
      ],
      "text/plain": [
       "      MEMBER_NO   FFP_DATE FIRST_FLIGHT_DATE  GENDER  FFP_TIER    WORK_CITY  \\\n",
       "0         54993 2006-11-02        12/24/2008    Male         6            .   \n",
       "1         28065 2007-02-19          8/3/2007    Male         6      beijing   \n",
       "2         55106 2007-02-01         8/30/2007    Male         6            .   \n",
       "3         21189 2008-08-22         8/23/2008    Male         5  Los Angeles   \n",
       "4         39546 2009-04-10         4/15/2009    Male         6      guiyang   \n",
       "...         ...        ...               ...     ...       ...          ...   \n",
       "7983      18375 2011-05-20          6/5/2013  Female         4    guangzhou   \n",
       "7984      36041 2010-03-08         9/14/2013    Male         4       foshan   \n",
       "7985      45690 2006-03-30         12/2/2006  Female         4    guangzhou   \n",
       "7986      61027 2013-02-06         2/14/2013  Female         4    guangzhou   \n",
       "7987      61340 2013-02-17         2/17/2013  Female         4     shanghai   \n",
       "\n",
       "     WORK_PROVINCE WORK_COUNTRY   AGE  LOAD_TIME  FLIGHT_COUNT  BP_SUM  \\\n",
       "0          beijing           CN  31.0 2014-03-31           210  505308   \n",
       "1          beijing           CN  42.0 2014-03-31           140  362480   \n",
       "2          beijing           CN  40.0 2014-03-31           135  351159   \n",
       "3               CA           US  64.0 2014-03-31            23  337314   \n",
       "4          guizhou           CN  48.0 2014-03-31           152  273844   \n",
       "...            ...          ...   ...        ...           ...     ...   \n",
       "7983     guangdong           CN  25.0 2014-03-31             2       0   \n",
       "7984     guangdong           CN  38.0 2014-03-31             4       0   \n",
       "7985     guangdong           CN  43.0 2014-03-31             2       0   \n",
       "7986     guangdong           CN  36.0 2014-03-31             2       0   \n",
       "7987             .           CN  29.0 2014-03-31             2       0   \n",
       "\n",
       "           SUM_YR_1  SUM_YR_2  SEG_KM_SUM LAST_FLIGHT_DATE  LAST_TO_END  \\\n",
       "0     239560.000000  234188.0      580717        3/31/2014            1   \n",
       "1     171483.000000  167434.0      293678        3/25/2014            7   \n",
       "2     163618.000000  164982.0      283712        3/21/2014           11   \n",
       "3     116350.000000  125500.0      281336       12/26/2013           97   \n",
       "4     124560.000000  130702.0      309928        3/27/2014            5   \n",
       "...             ...       ...         ...              ...          ...   \n",
       "7983       0.000000       0.0        1134         6/9/2013          297   \n",
       "7984       0.000000       0.0        8016         1/3/2014           89   \n",
       "7985       0.000000       0.0        2594         3/3/2014           29   \n",
       "7986       0.000000       0.0        3934        2/26/2013          400   \n",
       "7987    5355.376064       0.0        4222        2/23/2013          403   \n",
       "\n",
       "      AVG_INTERVAL  MAX_INTERVAL  EXCHANGE_COUNT  avg_discount  Points_Sum  \\\n",
       "0         3.483254            18              34      0.961639      619760   \n",
       "1         5.194245            17              29      1.252314      415768   \n",
       "2         5.298507            18              20      1.254676      406361   \n",
       "3        27.863636            73              11      1.090870      372204   \n",
       "4         4.788079            47              27      0.970658      338813   \n",
       "...            ...           ...             ...           ...         ...   \n",
       "7983      4.000000             4               1      0.000000       12318   \n",
       "7984     37.000000            60              14      0.000000      106972   \n",
       "7985    166.000000           166               0      0.000000           0   \n",
       "7986     12.000000            12               0      0.000000           0   \n",
       "7987      6.000000             6               0      0.000000           0   \n",
       "\n",
       "      Point_NotFlight  LENGTH  K_Cluster    cluster  \n",
       "0                  50    2706          3      Loyal  \n",
       "1                  33    2597          3      Loyal  \n",
       "2                  26    2615          3      Loyal  \n",
       "3                  12    2047          3      Loyal  \n",
       "4                  39    1816          3      Loyal  \n",
       "...               ...     ...        ...        ...  \n",
       "7983               22    1046          2  Low Value  \n",
       "7984               43    1484          1  Important  \n",
       "7985                0    2923          0  Potential  \n",
       "7986                0     418          2  Low Value  \n",
       "7987                0     407          2  Low Value  \n",
       "\n",
       "[62988 rows x 26 columns]"
      ]
     },
     "execution_count": 66,
     "metadata": {},
     "output_type": "execute_result"
    }
   ],
   "source": [
    "data_labeling"
   ]
  },
  {
   "cell_type": "code",
   "execution_count": 67,
   "id": "ff8917da",
   "metadata": {
    "execution": {
     "iopub.execute_input": "2022-01-18T23:19:07.537176Z",
     "iopub.status.busy": "2022-01-18T23:19:07.536223Z",
     "iopub.status.idle": "2022-01-18T23:19:07.693628Z",
     "shell.execute_reply": "2022-01-18T23:19:07.693073Z",
     "shell.execute_reply.started": "2022-01-18T23:03:33.123668Z"
    },
    "papermill": {
     "duration": 0.252687,
     "end_time": "2022-01-18T23:19:07.693802",
     "exception": false,
     "start_time": "2022-01-18T23:19:07.441115",
     "status": "completed"
    },
    "tags": []
   },
   "outputs": [],
   "source": [
    "result=pd.DataFrame()\n",
    "result['MEMBER_NO']=data_labeling['MEMBER_NO']\n",
    "result['cluster']=data_labeling['cluster']\n",
    "result.to_csv('kaggle_cluster.csv',index=False)"
   ]
  },
  {
   "cell_type": "code",
   "execution_count": null,
   "id": "eb452971",
   "metadata": {
    "papermill": {
     "duration": 0.091488,
     "end_time": "2022-01-18T23:19:07.879840",
     "exception": false,
     "start_time": "2022-01-18T23:19:07.788352",
     "status": "completed"
    },
    "tags": []
   },
   "outputs": [],
   "source": []
  },
  {
   "cell_type": "code",
   "execution_count": null,
   "id": "9f7ed856",
   "metadata": {
    "papermill": {
     "duration": 0.092699,
     "end_time": "2022-01-18T23:19:08.065547",
     "exception": false,
     "start_time": "2022-01-18T23:19:07.972848",
     "status": "completed"
    },
    "tags": []
   },
   "outputs": [],
   "source": []
  },
  {
   "cell_type": "code",
   "execution_count": null,
   "id": "0acc23ab",
   "metadata": {
    "papermill": {
     "duration": 0.091772,
     "end_time": "2022-01-18T23:19:08.248880",
     "exception": false,
     "start_time": "2022-01-18T23:19:08.157108",
     "status": "completed"
    },
    "tags": []
   },
   "outputs": [],
   "source": []
  },
  {
   "cell_type": "code",
   "execution_count": 68,
   "id": "dffef69f",
   "metadata": {
    "execution": {
     "iopub.execute_input": "2022-01-18T23:19:08.438586Z",
     "iopub.status.busy": "2022-01-18T23:19:08.437915Z",
     "iopub.status.idle": "2022-01-18T23:19:09.637053Z",
     "shell.execute_reply": "2022-01-18T23:19:09.636504Z"
    },
    "papermill": {
     "duration": 1.296212,
     "end_time": "2022-01-18T23:19:09.637201",
     "exception": false,
     "start_time": "2022-01-18T23:19:08.340989",
     "status": "completed"
    },
    "tags": []
   },
   "outputs": [],
   "source": [
    "x=pd.get_dummies(df,drop_first=True)"
   ]
  },
  {
   "cell_type": "code",
   "execution_count": 69,
   "id": "2bbbc329",
   "metadata": {
    "execution": {
     "iopub.execute_input": "2022-01-18T23:19:09.827649Z",
     "iopub.status.busy": "2022-01-18T23:19:09.826976Z",
     "iopub.status.idle": "2022-01-18T23:19:09.833388Z",
     "shell.execute_reply": "2022-01-18T23:19:09.834023Z"
    },
    "papermill": {
     "duration": 0.103525,
     "end_time": "2022-01-18T23:19:09.834194",
     "exception": false,
     "start_time": "2022-01-18T23:19:09.730669",
     "status": "completed"
    },
    "tags": []
   },
   "outputs": [],
   "source": [
    "allscore=[]\n",
    "allclusters=[]\n",
    "sum_of_squared_distances = []\n",
    "preds=[]\n",
    "def clust(clusters,x):\n",
    "    for no_of_cluster in np.arange(1,clusters):\n",
    "        \n",
    "        no_of_cluster+=1\n",
    "        model=KMeans(n_clusters=no_of_cluster)\n",
    "        pred=model.fit_predict(x)\n",
    "        sum_of_squared_distances.append(model.inertia_)\n",
    "        score=silhouette_score(x,pred)\n",
    "        print (\"Number of cluster {}, silhouette {}\".format(no_of_cluster,score))\n",
    "        allscore.append(score)\n",
    "        allclusters.append(no_of_cluster)\n",
    "        preds.append(pred)"
   ]
  },
  {
   "cell_type": "code",
   "execution_count": 70,
   "id": "dc1a0337",
   "metadata": {
    "execution": {
     "iopub.execute_input": "2022-01-18T23:19:10.023351Z",
     "iopub.status.busy": "2022-01-18T23:19:10.022739Z",
     "iopub.status.idle": "2022-01-18T23:19:10.250210Z",
     "shell.execute_reply": "2022-01-18T23:19:10.249053Z"
    },
    "papermill": {
     "duration": 0.323456,
     "end_time": "2022-01-18T23:19:10.250538",
     "exception": true,
     "start_time": "2022-01-18T23:19:09.927082",
     "status": "failed"
    },
    "tags": []
   },
   "outputs": [
    {
     "ename": "TypeError",
     "evalue": "invalid type promotion",
     "output_type": "error",
     "traceback": [
      "\u001b[0;31m---------------------------------------------------------------------------\u001b[0m",
      "\u001b[0;31mTypeError\u001b[0m                                 Traceback (most recent call last)",
      "\u001b[0;32m/tmp/ipykernel_20/896793108.py\u001b[0m in \u001b[0;36m<module>\u001b[0;34m\u001b[0m\n\u001b[0;32m----> 1\u001b[0;31m \u001b[0mclust\u001b[0m\u001b[0;34m(\u001b[0m\u001b[0;36m8\u001b[0m\u001b[0;34m,\u001b[0m\u001b[0mx\u001b[0m\u001b[0;34m)\u001b[0m\u001b[0;34m\u001b[0m\u001b[0;34m\u001b[0m\u001b[0m\n\u001b[0m",
      "\u001b[0;32m/tmp/ipykernel_20/4093428264.py\u001b[0m in \u001b[0;36mclust\u001b[0;34m(clusters, x)\u001b[0m\n\u001b[1;32m      8\u001b[0m         \u001b[0mno_of_cluster\u001b[0m\u001b[0;34m+=\u001b[0m\u001b[0;36m1\u001b[0m\u001b[0;34m\u001b[0m\u001b[0;34m\u001b[0m\u001b[0m\n\u001b[1;32m      9\u001b[0m         \u001b[0mmodel\u001b[0m\u001b[0;34m=\u001b[0m\u001b[0mKMeans\u001b[0m\u001b[0;34m(\u001b[0m\u001b[0mn_clusters\u001b[0m\u001b[0;34m=\u001b[0m\u001b[0mno_of_cluster\u001b[0m\u001b[0;34m)\u001b[0m\u001b[0;34m\u001b[0m\u001b[0;34m\u001b[0m\u001b[0m\n\u001b[0;32m---> 10\u001b[0;31m         \u001b[0mpred\u001b[0m\u001b[0;34m=\u001b[0m\u001b[0mmodel\u001b[0m\u001b[0;34m.\u001b[0m\u001b[0mfit_predict\u001b[0m\u001b[0;34m(\u001b[0m\u001b[0mx\u001b[0m\u001b[0;34m)\u001b[0m\u001b[0;34m\u001b[0m\u001b[0;34m\u001b[0m\u001b[0m\n\u001b[0m\u001b[1;32m     11\u001b[0m         \u001b[0msum_of_squared_distances\u001b[0m\u001b[0;34m.\u001b[0m\u001b[0mappend\u001b[0m\u001b[0;34m(\u001b[0m\u001b[0mmodel\u001b[0m\u001b[0;34m.\u001b[0m\u001b[0minertia_\u001b[0m\u001b[0;34m)\u001b[0m\u001b[0;34m\u001b[0m\u001b[0;34m\u001b[0m\u001b[0m\n\u001b[1;32m     12\u001b[0m         \u001b[0mscore\u001b[0m\u001b[0;34m=\u001b[0m\u001b[0msilhouette_score\u001b[0m\u001b[0;34m(\u001b[0m\u001b[0mx\u001b[0m\u001b[0;34m,\u001b[0m\u001b[0mpred\u001b[0m\u001b[0;34m)\u001b[0m\u001b[0;34m\u001b[0m\u001b[0;34m\u001b[0m\u001b[0m\n",
      "\u001b[0;32m/opt/conda/lib/python3.7/site-packages/sklearn/cluster/_kmeans.py\u001b[0m in \u001b[0;36mfit_predict\u001b[0;34m(self, X, y, sample_weight)\u001b[0m\n\u001b[1;32m   1120\u001b[0m             \u001b[0mIndex\u001b[0m \u001b[0mof\u001b[0m \u001b[0mthe\u001b[0m \u001b[0mcluster\u001b[0m \u001b[0meach\u001b[0m \u001b[0msample\u001b[0m \u001b[0mbelongs\u001b[0m \u001b[0mto\u001b[0m\u001b[0;34m.\u001b[0m\u001b[0;34m\u001b[0m\u001b[0;34m\u001b[0m\u001b[0m\n\u001b[1;32m   1121\u001b[0m         \"\"\"\n\u001b[0;32m-> 1122\u001b[0;31m         \u001b[0;32mreturn\u001b[0m \u001b[0mself\u001b[0m\u001b[0;34m.\u001b[0m\u001b[0mfit\u001b[0m\u001b[0;34m(\u001b[0m\u001b[0mX\u001b[0m\u001b[0;34m,\u001b[0m \u001b[0msample_weight\u001b[0m\u001b[0;34m=\u001b[0m\u001b[0msample_weight\u001b[0m\u001b[0;34m)\u001b[0m\u001b[0;34m.\u001b[0m\u001b[0mlabels_\u001b[0m\u001b[0;34m\u001b[0m\u001b[0;34m\u001b[0m\u001b[0m\n\u001b[0m\u001b[1;32m   1123\u001b[0m \u001b[0;34m\u001b[0m\u001b[0m\n\u001b[1;32m   1124\u001b[0m     \u001b[0;32mdef\u001b[0m \u001b[0mfit_transform\u001b[0m\u001b[0;34m(\u001b[0m\u001b[0mself\u001b[0m\u001b[0;34m,\u001b[0m \u001b[0mX\u001b[0m\u001b[0;34m,\u001b[0m \u001b[0my\u001b[0m\u001b[0;34m=\u001b[0m\u001b[0;32mNone\u001b[0m\u001b[0;34m,\u001b[0m \u001b[0msample_weight\u001b[0m\u001b[0;34m=\u001b[0m\u001b[0;32mNone\u001b[0m\u001b[0;34m)\u001b[0m\u001b[0;34m:\u001b[0m\u001b[0;34m\u001b[0m\u001b[0;34m\u001b[0m\u001b[0m\n",
      "\u001b[0;32m/opt/conda/lib/python3.7/site-packages/sklearn/cluster/_kmeans.py\u001b[0m in \u001b[0;36mfit\u001b[0;34m(self, X, y, sample_weight)\u001b[0m\n\u001b[1;32m   1031\u001b[0m                                 \u001b[0mdtype\u001b[0m\u001b[0;34m=\u001b[0m\u001b[0;34m[\u001b[0m\u001b[0mnp\u001b[0m\u001b[0;34m.\u001b[0m\u001b[0mfloat64\u001b[0m\u001b[0;34m,\u001b[0m \u001b[0mnp\u001b[0m\u001b[0;34m.\u001b[0m\u001b[0mfloat32\u001b[0m\u001b[0;34m]\u001b[0m\u001b[0;34m,\u001b[0m\u001b[0;34m\u001b[0m\u001b[0;34m\u001b[0m\u001b[0m\n\u001b[1;32m   1032\u001b[0m                                 \u001b[0morder\u001b[0m\u001b[0;34m=\u001b[0m\u001b[0;34m'C'\u001b[0m\u001b[0;34m,\u001b[0m \u001b[0mcopy\u001b[0m\u001b[0;34m=\u001b[0m\u001b[0mself\u001b[0m\u001b[0;34m.\u001b[0m\u001b[0mcopy_x\u001b[0m\u001b[0;34m,\u001b[0m\u001b[0;34m\u001b[0m\u001b[0;34m\u001b[0m\u001b[0m\n\u001b[0;32m-> 1033\u001b[0;31m                                 accept_large_sparse=False)\n\u001b[0m\u001b[1;32m   1034\u001b[0m \u001b[0;34m\u001b[0m\u001b[0m\n\u001b[1;32m   1035\u001b[0m         \u001b[0mself\u001b[0m\u001b[0;34m.\u001b[0m\u001b[0m_check_params\u001b[0m\u001b[0;34m(\u001b[0m\u001b[0mX\u001b[0m\u001b[0;34m)\u001b[0m\u001b[0;34m\u001b[0m\u001b[0;34m\u001b[0m\u001b[0m\n",
      "\u001b[0;32m/opt/conda/lib/python3.7/site-packages/sklearn/base.py\u001b[0m in \u001b[0;36m_validate_data\u001b[0;34m(self, X, y, reset, validate_separately, **check_params)\u001b[0m\n\u001b[1;32m    418\u001b[0m                     \u001b[0;34mf\"requires y to be passed, but the target y is None.\"\u001b[0m\u001b[0;34m\u001b[0m\u001b[0;34m\u001b[0m\u001b[0m\n\u001b[1;32m    419\u001b[0m                 )\n\u001b[0;32m--> 420\u001b[0;31m             \u001b[0mX\u001b[0m \u001b[0;34m=\u001b[0m \u001b[0mcheck_array\u001b[0m\u001b[0;34m(\u001b[0m\u001b[0mX\u001b[0m\u001b[0;34m,\u001b[0m \u001b[0;34m**\u001b[0m\u001b[0mcheck_params\u001b[0m\u001b[0;34m)\u001b[0m\u001b[0;34m\u001b[0m\u001b[0;34m\u001b[0m\u001b[0m\n\u001b[0m\u001b[1;32m    421\u001b[0m             \u001b[0mout\u001b[0m \u001b[0;34m=\u001b[0m \u001b[0mX\u001b[0m\u001b[0;34m\u001b[0m\u001b[0;34m\u001b[0m\u001b[0m\n\u001b[1;32m    422\u001b[0m         \u001b[0;32melse\u001b[0m\u001b[0;34m:\u001b[0m\u001b[0;34m\u001b[0m\u001b[0;34m\u001b[0m\u001b[0m\n",
      "\u001b[0;32m/opt/conda/lib/python3.7/site-packages/sklearn/utils/validation.py\u001b[0m in \u001b[0;36minner_f\u001b[0;34m(*args, **kwargs)\u001b[0m\n\u001b[1;32m     70\u001b[0m                           FutureWarning)\n\u001b[1;32m     71\u001b[0m         \u001b[0mkwargs\u001b[0m\u001b[0;34m.\u001b[0m\u001b[0mupdate\u001b[0m\u001b[0;34m(\u001b[0m\u001b[0;34m{\u001b[0m\u001b[0mk\u001b[0m\u001b[0;34m:\u001b[0m \u001b[0marg\u001b[0m \u001b[0;32mfor\u001b[0m \u001b[0mk\u001b[0m\u001b[0;34m,\u001b[0m \u001b[0marg\u001b[0m \u001b[0;32min\u001b[0m \u001b[0mzip\u001b[0m\u001b[0;34m(\u001b[0m\u001b[0msig\u001b[0m\u001b[0;34m.\u001b[0m\u001b[0mparameters\u001b[0m\u001b[0;34m,\u001b[0m \u001b[0margs\u001b[0m\u001b[0;34m)\u001b[0m\u001b[0;34m}\u001b[0m\u001b[0;34m)\u001b[0m\u001b[0;34m\u001b[0m\u001b[0;34m\u001b[0m\u001b[0m\n\u001b[0;32m---> 72\u001b[0;31m         \u001b[0;32mreturn\u001b[0m \u001b[0mf\u001b[0m\u001b[0;34m(\u001b[0m\u001b[0;34m**\u001b[0m\u001b[0mkwargs\u001b[0m\u001b[0;34m)\u001b[0m\u001b[0;34m\u001b[0m\u001b[0;34m\u001b[0m\u001b[0m\n\u001b[0m\u001b[1;32m     73\u001b[0m     \u001b[0;32mreturn\u001b[0m \u001b[0minner_f\u001b[0m\u001b[0;34m\u001b[0m\u001b[0;34m\u001b[0m\u001b[0m\n\u001b[1;32m     74\u001b[0m \u001b[0;34m\u001b[0m\u001b[0m\n",
      "\u001b[0;32m/opt/conda/lib/python3.7/site-packages/sklearn/utils/validation.py\u001b[0m in \u001b[0;36mcheck_array\u001b[0;34m(array, accept_sparse, accept_large_sparse, dtype, order, copy, force_all_finite, ensure_2d, allow_nd, ensure_min_samples, ensure_min_features, estimator)\u001b[0m\n\u001b[1;32m    531\u001b[0m \u001b[0;34m\u001b[0m\u001b[0m\n\u001b[1;32m    532\u001b[0m         \u001b[0;32mif\u001b[0m \u001b[0mall\u001b[0m\u001b[0;34m(\u001b[0m\u001b[0misinstance\u001b[0m\u001b[0;34m(\u001b[0m\u001b[0mdtype\u001b[0m\u001b[0;34m,\u001b[0m \u001b[0mnp\u001b[0m\u001b[0;34m.\u001b[0m\u001b[0mdtype\u001b[0m\u001b[0;34m)\u001b[0m \u001b[0;32mfor\u001b[0m \u001b[0mdtype\u001b[0m \u001b[0;32min\u001b[0m \u001b[0mdtypes_orig\u001b[0m\u001b[0;34m)\u001b[0m\u001b[0;34m:\u001b[0m\u001b[0;34m\u001b[0m\u001b[0;34m\u001b[0m\u001b[0m\n\u001b[0;32m--> 533\u001b[0;31m             \u001b[0mdtype_orig\u001b[0m \u001b[0;34m=\u001b[0m \u001b[0mnp\u001b[0m\u001b[0;34m.\u001b[0m\u001b[0mresult_type\u001b[0m\u001b[0;34m(\u001b[0m\u001b[0;34m*\u001b[0m\u001b[0mdtypes_orig\u001b[0m\u001b[0;34m)\u001b[0m\u001b[0;34m\u001b[0m\u001b[0;34m\u001b[0m\u001b[0m\n\u001b[0m\u001b[1;32m    534\u001b[0m \u001b[0;34m\u001b[0m\u001b[0m\n\u001b[1;32m    535\u001b[0m     \u001b[0;32mif\u001b[0m \u001b[0mdtype_numeric\u001b[0m\u001b[0;34m:\u001b[0m\u001b[0;34m\u001b[0m\u001b[0;34m\u001b[0m\u001b[0m\n",
      "\u001b[0;32m<__array_function__ internals>\u001b[0m in \u001b[0;36mresult_type\u001b[0;34m(*args, **kwargs)\u001b[0m\n",
      "\u001b[0;31mTypeError\u001b[0m: invalid type promotion"
     ]
    }
   ],
   "source": [
    "clust(8,x)"
   ]
  },
  {
   "cell_type": "code",
   "execution_count": null,
   "id": "b0bb840d",
   "metadata": {
    "papermill": {
     "duration": null,
     "end_time": null,
     "exception": null,
     "start_time": null,
     "status": "pending"
    },
    "tags": []
   },
   "outputs": [],
   "source": [
    "plt.plot(allclusters,allscore)\n",
    "plt.xlabel('Clusters()')\n",
    "plt.ylabel('Silhoutte_Score')\n",
    "plt.title('Silhouette Method')\n",
    "plt.xlim(0,15)\n",
    "plt.show()"
   ]
  },
  {
   "cell_type": "code",
   "execution_count": null,
   "id": "556d2d59",
   "metadata": {
    "papermill": {
     "duration": null,
     "end_time": null,
     "exception": null,
     "start_time": null,
     "status": "pending"
    },
    "tags": []
   },
   "outputs": [],
   "source": [
    "plt.plot(allclusters,sum_of_squared_distances,marker='x')\n",
    "plt.xlabel('Clusters()')\n",
    "plt.ylabel('Silhoutte_Score')\n",
    "plt.title('Silhouette Method')\n",
    "plt.xlim(0,15)\n",
    "plt.show()"
   ]
  },
  {
   "cell_type": "code",
   "execution_count": null,
   "id": "31668d83",
   "metadata": {
    "papermill": {
     "duration": null,
     "end_time": null,
     "exception": null,
     "start_time": null,
     "status": "pending"
    },
    "tags": []
   },
   "outputs": [],
   "source": [
    "pred=preds[4]"
   ]
  },
  {
   "cell_type": "code",
   "execution_count": null,
   "id": "b273bf61",
   "metadata": {
    "papermill": {
     "duration": null,
     "end_time": null,
     "exception": null,
     "start_time": null,
     "status": "pending"
    },
    "tags": []
   },
   "outputs": [],
   "source": [
    "pred"
   ]
  },
  {
   "cell_type": "code",
   "execution_count": null,
   "id": "58752a2d",
   "metadata": {
    "papermill": {
     "duration": null,
     "end_time": null,
     "exception": null,
     "start_time": null,
     "status": "pending"
    },
    "tags": []
   },
   "outputs": [],
   "source": [
    "result=pd.DataFrame()\n",
    "result[\"ID\"]=df[\"ID\"]\n",
    "result[\"Cluster\"]=pred"
   ]
  },
  {
   "cell_type": "code",
   "execution_count": null,
   "id": "6c137442",
   "metadata": {
    "papermill": {
     "duration": null,
     "end_time": null,
     "exception": null,
     "start_time": null,
     "status": "pending"
    },
    "tags": []
   },
   "outputs": [],
   "source": [
    "len(pred)"
   ]
  },
  {
   "cell_type": "code",
   "execution_count": null,
   "id": "8abced9e",
   "metadata": {
    "papermill": {
     "duration": null,
     "end_time": null,
     "exception": null,
     "start_time": null,
     "status": "pending"
    },
    "tags": []
   },
   "outputs": [],
   "source": [
    "result"
   ]
  },
  {
   "cell_type": "code",
   "execution_count": null,
   "id": "d3719cc2",
   "metadata": {
    "papermill": {
     "duration": null,
     "end_time": null,
     "exception": null,
     "start_time": null,
     "status": "pending"
    },
    "tags": []
   },
   "outputs": [],
   "source": [
    "x"
   ]
  },
  {
   "cell_type": "code",
   "execution_count": null,
   "id": "319a87f2",
   "metadata": {
    "papermill": {
     "duration": null,
     "end_time": null,
     "exception": null,
     "start_time": null,
     "status": "pending"
    },
    "tags": []
   },
   "outputs": [],
   "source": [
    "plt.figure(figsize=(10,6))\n",
    "plt.scatter(y=x[\"Age\"],x=x[\"Family_Size\"],c=pred)\n",
    "plt.legend()\n",
    "plt.colorbar()\n",
    "plt.show()"
   ]
  },
  {
   "cell_type": "code",
   "execution_count": null,
   "id": "f4028b65",
   "metadata": {
    "papermill": {
     "duration": null,
     "end_time": null,
     "exception": null,
     "start_time": null,
     "status": "pending"
    },
    "tags": []
   },
   "outputs": [],
   "source": []
  },
  {
   "cell_type": "markdown",
   "id": "110bc745",
   "metadata": {
    "papermill": {
     "duration": null,
     "end_time": null,
     "exception": null,
     "start_time": null,
     "status": "pending"
    },
    "tags": []
   },
   "source": []
  }
 ],
 "metadata": {
  "kernelspec": {
   "display_name": "Python 3",
   "language": "python",
   "name": "python3"
  },
  "language_info": {
   "codemirror_mode": {
    "name": "ipython",
    "version": 3
   },
   "file_extension": ".py",
   "mimetype": "text/x-python",
   "name": "python",
   "nbconvert_exporter": "python",
   "pygments_lexer": "ipython3",
   "version": "3.7.12"
  },
  "papermill": {
   "default_parameters": {},
   "duration": 768.291975,
   "end_time": "2022-01-18T23:19:11.360391",
   "environment_variables": {},
   "exception": true,
   "input_path": "__notebook__.ipynb",
   "output_path": "__notebook__.ipynb",
   "parameters": {},
   "start_time": "2022-01-18T23:06:23.068416",
   "version": "2.3.3"
  }
 },
 "nbformat": 4,
 "nbformat_minor": 5
}
